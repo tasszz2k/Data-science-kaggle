{
 "cells": [
  {
   "cell_type": "code",
   "execution_count": 5,
   "metadata": {
    "collapsed": true
   },
   "outputs": [],
   "source": [
    "import pandas as pd\n",
    "import geopandas\n",
    "from geopy.distance import geodesic"
   ]
  },
  {
   "cell_type": "code",
   "execution_count": 6,
   "outputs": [
    {
     "data": {
      "text/plain": "         lat         lng\n0  20.918334  105.854258\n1  20.905752  105.862206\n2  20.918334  105.854258",
      "text/html": "<div>\n<style scoped>\n    .dataframe tbody tr th:only-of-type {\n        vertical-align: middle;\n    }\n\n    .dataframe tbody tr th {\n        vertical-align: top;\n    }\n\n    .dataframe thead th {\n        text-align: right;\n    }\n</style>\n<table border=\"1\" class=\"dataframe\">\n  <thead>\n    <tr style=\"text-align: right;\">\n      <th></th>\n      <th>lat</th>\n      <th>lng</th>\n    </tr>\n  </thead>\n  <tbody>\n    <tr>\n      <th>0</th>\n      <td>20.918334</td>\n      <td>105.854258</td>\n    </tr>\n    <tr>\n      <th>1</th>\n      <td>20.905752</td>\n      <td>105.862206</td>\n    </tr>\n    <tr>\n      <th>2</th>\n      <td>20.918334</td>\n      <td>105.854258</td>\n    </tr>\n  </tbody>\n</table>\n</div>"
     },
     "execution_count": 6,
     "metadata": {},
     "output_type": "execute_result"
    }
   ],
   "source": [
    "# Setup data\n",
    "file_path = \"data/data_distance.csv\"\n",
    "df_data_distance = pd.read_csv(file_path)\n",
    "df_data_distance.head()"
   ],
   "metadata": {
    "collapsed": false,
    "pycharm": {
     "name": "#%%\n"
    }
   }
  },
  {
   "cell_type": "code",
   "execution_count": 7,
   "outputs": [],
   "source": [
    "def cal_distance_between_2_points(gdf, index1, index2):\n",
    "    \"\"\"\n",
    "    cal_distance_between_2_points\n",
    "    \"\"\"\n",
    "    coords_1 = (gdf.loc[index1,\"lat\"], gdf.loc[index1,\"lng\"])\n",
    "    coords_2 = (gdf.loc[index2,\"lat\"],  gdf.loc[index2,\"lng\"])\n",
    "    distance = geodesic(coords_1, coords_2).meters\n",
    "    return distance"
   ],
   "metadata": {
    "collapsed": false,
    "pycharm": {
     "name": "#%%\n"
    }
   }
  },
  {
   "cell_type": "code",
   "execution_count": 8,
   "outputs": [
    {
     "data": {
      "text/plain": "         lat         lng  distances_total (m)  distances_avg (m)\n0  20.918334  105.854258          1619.910482         809.955241\n1  20.905752  105.862206          3239.820965        1619.910482\n2  20.918334  105.854258          1619.910482         809.955241",
      "text/html": "<div>\n<style scoped>\n    .dataframe tbody tr th:only-of-type {\n        vertical-align: middle;\n    }\n\n    .dataframe tbody tr th {\n        vertical-align: top;\n    }\n\n    .dataframe thead th {\n        text-align: right;\n    }\n</style>\n<table border=\"1\" class=\"dataframe\">\n  <thead>\n    <tr style=\"text-align: right;\">\n      <th></th>\n      <th>lat</th>\n      <th>lng</th>\n      <th>distances_total (m)</th>\n      <th>distances_avg (m)</th>\n    </tr>\n  </thead>\n  <tbody>\n    <tr>\n      <th>0</th>\n      <td>20.918334</td>\n      <td>105.854258</td>\n      <td>1619.910482</td>\n      <td>809.955241</td>\n    </tr>\n    <tr>\n      <th>1</th>\n      <td>20.905752</td>\n      <td>105.862206</td>\n      <td>3239.820965</td>\n      <td>1619.910482</td>\n    </tr>\n    <tr>\n      <th>2</th>\n      <td>20.918334</td>\n      <td>105.854258</td>\n      <td>1619.910482</td>\n      <td>809.955241</td>\n    </tr>\n  </tbody>\n</table>\n</div>"
     },
     "execution_count": 8,
     "metadata": {},
     "output_type": "execute_result"
    }
   ],
   "source": [
    "distances = []\n",
    "for i in range(len(df_data_distance)):\n",
    "    distance = 0\n",
    "    for j in range(len(df_data_distance)):\n",
    "        distance += cal_distance_between_2_points(df_data_distance,i,j)\n",
    "    distances.append(distance)\n",
    "\n",
    "df_data_distance['distances_total (m)'] = distances\n",
    "df_data_distance['distances_avg (m)'] = df_data_distance['distances_total (m)']/(len(df_data_distance)-1)\n",
    "\n",
    "df_data_distance"
   ],
   "metadata": {
    "collapsed": false,
    "pycharm": {
     "name": "#%%\n"
    }
   }
  },
  {
   "cell_type": "code",
   "execution_count": 8,
   "outputs": [],
   "source": [],
   "metadata": {
    "collapsed": false,
    "pycharm": {
     "name": "#%%\n"
    }
   }
  },
  {
   "cell_type": "code",
   "execution_count": 114,
   "outputs": [],
   "source": [],
   "metadata": {
    "collapsed": false,
    "pycharm": {
     "name": "#%%\n"
    }
   }
  }
 ],
 "metadata": {
  "kernelspec": {
   "display_name": "Python 3",
   "language": "python",
   "name": "python3"
  },
  "language_info": {
   "codemirror_mode": {
    "name": "ipython",
    "version": 2
   },
   "file_extension": ".py",
   "mimetype": "text/x-python",
   "name": "python",
   "nbconvert_exporter": "python",
   "pygments_lexer": "ipython2",
   "version": "2.7.6"
  }
 },
 "nbformat": 4,
 "nbformat_minor": 0
}