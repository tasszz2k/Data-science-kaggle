{
 "cells": [
  {
   "cell_type": "markdown",
   "metadata": {
    "papermill": {
     "duration": 0.012135,
     "end_time": "2020-10-01T00:25:18.338390",
     "exception": false,
     "start_time": "2020-10-01T00:25:18.326255",
     "status": "completed"
    },
    "tags": []
   },
   "source": [
    "# Introduction\n",
    "\n",
    "In this micro-course, you'll learn about different methods to wrangle and visualize **geospatial data**, or data with a geographic location.\n",
    "\n",
    "<center>\n",
    "<img src=\"https://i.imgur.com/v6ZUGgI.png\"><br/>\n",
    "</center>\n",
    "\n",
    "Along the way, you'll offer solutions to several real-world problems like:\n",
    "- Where should a global non-profit expand its reach in remote areas of the Philippines?\n",
    "- How do purple martins, a threatened bird species, travel between North and South America?  Are the birds travelling to conservation areas?\n",
    "- Which areas of Japan could potentially benefit from extra earthquake reinforcement?\n",
    "- Which Starbucks stores in California are strong candidates for the next [Starbucks Reserve Roastery](https://www.forbes.com/sites/garystern/2019/01/22/starbucks-reserve-roastery-its-spacious-and-trendy-but-why-is-starbucks-slowing-down-expansion/#6cb80d4a1bc6) location?\n",
    "- Does New York City have sufficient hospitals to respond to motor vehicle collisions?  Which areas of the city have gaps in coverage?\n",
    "\n",
    "You'll also visualize crime in the city of Boston, examine health facilities in Ghana, explore top universities in Europe, and track releases of toxic chemicals in the United States.\n",
    "\n",
    "In this first tutorial, we'll quickly cover the pre-requisites that you'll need to complete this micro-course.  And, if you'd like to review more deeply, we recommend the **[Pandas micro-course](https://www.kaggle.com/learn/pandas)**.  \n",
    "\n",
    "We'll also get started with visualizing our first geospatial dataset!\n",
    "\n",
    "# Reading data\n",
    "\n",
    "The first step is to read in some geospatial data!  To do this, we'll use the [GeoPandas](http://geopandas.org/) library."
   ]
  },
  {
   "cell_type": "code",
   "execution_count": 1,
   "metadata": {
    "execution": {
     "iopub.execute_input": "2020-10-01T00:25:18.365004Z",
     "iopub.status.busy": "2020-10-01T00:25:18.364248Z",
     "iopub.status.idle": "2020-10-01T00:25:19.185339Z",
     "shell.execute_reply": "2020-10-01T00:25:19.184570Z"
    },
    "papermill": {
     "duration": 0.836216,
     "end_time": "2020-10-01T00:25:19.185465",
     "exception": false,
     "start_time": "2020-10-01T00:25:18.349249",
     "status": "completed"
    },
    "tags": []
   },
   "outputs": [],
   "source": [
    "import geopandas as gpd"
   ]
  },
  {
   "cell_type": "markdown",
   "metadata": {
    "papermill": {
     "duration": 0.011288,
     "end_time": "2020-10-01T00:25:19.208252",
     "exception": false,
     "start_time": "2020-10-01T00:25:19.196964",
     "status": "completed"
    },
    "tags": []
   },
   "source": [
    "There are many, many different geospatial file formats, such as [shapefile](https://en.wikipedia.org/wiki/Shapefile), [GeoJSON](https://en.wikipedia.org/wiki/GeoJSON), [KML](https://en.wikipedia.org/wiki/Keyhole_Markup_Language), and [GPKG](https://en.wikipedia.org/wiki/GeoPackage).  We won't discuss their differences in this micro-course, but it's important to mention that:\n",
    "- shapefile is the most common file type that you'll encounter, and \n",
    "- all of these file types can be quickly loaded with the `gpd.read_file()` function.\n",
    "\n",
    "The next code cell loads a shapefile containing information about forests, wilderness areas, and other lands under the care of the [Department of Environmental Conservation](https://www.dec.ny.gov/index.html) in the state of New York.  "
   ]
  },
  {
   "cell_type": "code",
   "execution_count": 2,
   "metadata": {
    "execution": {
     "iopub.execute_input": "2020-10-01T00:25:19.365754Z",
     "iopub.status.busy": "2020-10-01T00:25:19.304108Z",
     "iopub.status.idle": "2020-10-01T00:25:19.727803Z",
     "shell.execute_reply": "2020-10-01T00:25:19.728305Z"
    },
    "papermill": {
     "duration": 0.509251,
     "end_time": "2020-10-01T00:25:19.728443",
     "exception": false,
     "start_time": "2020-10-01T00:25:19.219192",
     "status": "completed"
    },
    "tags": []
   },
   "outputs": [
    {
     "data": {
      "text/html": [
       "<div>\n",
       "<style scoped>\n",
       "    .dataframe tbody tr th:only-of-type {\n",
       "        vertical-align: middle;\n",
       "    }\n",
       "\n",
       "    .dataframe tbody tr th {\n",
       "        vertical-align: top;\n",
       "    }\n",
       "\n",
       "    .dataframe thead th {\n",
       "        text-align: right;\n",
       "    }\n",
       "</style>\n",
       "<table border=\"1\" class=\"dataframe\">\n",
       "  <thead>\n",
       "    <tr style=\"text-align: right;\">\n",
       "      <th></th>\n",
       "      <th>OBJECTID</th>\n",
       "      <th>CATEGORY</th>\n",
       "      <th>UNIT</th>\n",
       "      <th>FACILITY</th>\n",
       "      <th>CLASS</th>\n",
       "      <th>UMP</th>\n",
       "      <th>DESCRIPTIO</th>\n",
       "      <th>REGION</th>\n",
       "      <th>COUNTY</th>\n",
       "      <th>URL</th>\n",
       "      <th>SOURCE</th>\n",
       "      <th>UPDATE_</th>\n",
       "      <th>OFFICE</th>\n",
       "      <th>ACRES</th>\n",
       "      <th>LANDS_UID</th>\n",
       "      <th>GREENCERT</th>\n",
       "      <th>SHAPE_AREA</th>\n",
       "      <th>SHAPE_LEN</th>\n",
       "      <th>geometry</th>\n",
       "    </tr>\n",
       "  </thead>\n",
       "  <tbody>\n",
       "    <tr>\n",
       "      <th>0</th>\n",
       "      <td>1</td>\n",
       "      <td>FOR PRES DET PAR</td>\n",
       "      <td>CFP</td>\n",
       "      <td>HANCOCK FP DETACHED PARCEL</td>\n",
       "      <td>WILD FOREST</td>\n",
       "      <td>None</td>\n",
       "      <td>DELAWARE COUNTY DETACHED PARCEL</td>\n",
       "      <td>4</td>\n",
       "      <td>DELAWARE</td>\n",
       "      <td>http://www.dec.ny.gov/</td>\n",
       "      <td>DELAWARE RPP</td>\n",
       "      <td>5/12</td>\n",
       "      <td>STAMFORD</td>\n",
       "      <td>738.620192</td>\n",
       "      <td>103</td>\n",
       "      <td>N</td>\n",
       "      <td>2.990365e+06</td>\n",
       "      <td>7927.662385</td>\n",
       "      <td>POLYGON ((486093.245 4635308.586, 486787.235 4...</td>\n",
       "    </tr>\n",
       "    <tr>\n",
       "      <th>1</th>\n",
       "      <td>2</td>\n",
       "      <td>FOR PRES DET PAR</td>\n",
       "      <td>CFP</td>\n",
       "      <td>HANCOCK FP DETACHED PARCEL</td>\n",
       "      <td>WILD FOREST</td>\n",
       "      <td>None</td>\n",
       "      <td>DELAWARE COUNTY DETACHED PARCEL</td>\n",
       "      <td>4</td>\n",
       "      <td>DELAWARE</td>\n",
       "      <td>http://www.dec.ny.gov/</td>\n",
       "      <td>DELAWARE RPP</td>\n",
       "      <td>5/12</td>\n",
       "      <td>STAMFORD</td>\n",
       "      <td>282.553140</td>\n",
       "      <td>1218</td>\n",
       "      <td>N</td>\n",
       "      <td>1.143940e+06</td>\n",
       "      <td>4776.375600</td>\n",
       "      <td>POLYGON ((491931.514 4637416.256, 491305.424 4...</td>\n",
       "    </tr>\n",
       "    <tr>\n",
       "      <th>2</th>\n",
       "      <td>3</td>\n",
       "      <td>FOR PRES DET PAR</td>\n",
       "      <td>CFP</td>\n",
       "      <td>HANCOCK FP DETACHED PARCEL</td>\n",
       "      <td>WILD FOREST</td>\n",
       "      <td>None</td>\n",
       "      <td>DELAWARE COUNTY DETACHED PARCEL</td>\n",
       "      <td>4</td>\n",
       "      <td>DELAWARE</td>\n",
       "      <td>http://www.dec.ny.gov/</td>\n",
       "      <td>DELAWARE RPP</td>\n",
       "      <td>5/12</td>\n",
       "      <td>STAMFORD</td>\n",
       "      <td>234.291262</td>\n",
       "      <td>1780</td>\n",
       "      <td>N</td>\n",
       "      <td>9.485476e+05</td>\n",
       "      <td>5783.070364</td>\n",
       "      <td>POLYGON ((486000.287 4635834.453, 485007.550 4...</td>\n",
       "    </tr>\n",
       "    <tr>\n",
       "      <th>3</th>\n",
       "      <td>4</td>\n",
       "      <td>FOR PRES DET PAR</td>\n",
       "      <td>CFP</td>\n",
       "      <td>GREENE COUNTY FP DETACHED PARCEL</td>\n",
       "      <td>WILD FOREST</td>\n",
       "      <td>None</td>\n",
       "      <td>None</td>\n",
       "      <td>4</td>\n",
       "      <td>GREENE</td>\n",
       "      <td>http://www.dec.ny.gov/</td>\n",
       "      <td>GREENE RPP</td>\n",
       "      <td>5/12</td>\n",
       "      <td>STAMFORD</td>\n",
       "      <td>450.106464</td>\n",
       "      <td>2060</td>\n",
       "      <td>N</td>\n",
       "      <td>1.822293e+06</td>\n",
       "      <td>7021.644833</td>\n",
       "      <td>POLYGON ((541716.775 4675243.268, 541217.579 4...</td>\n",
       "    </tr>\n",
       "    <tr>\n",
       "      <th>4</th>\n",
       "      <td>6</td>\n",
       "      <td>FOREST PRESERVE</td>\n",
       "      <td>AFP</td>\n",
       "      <td>SARANAC LAKES WILD FOREST</td>\n",
       "      <td>WILD FOREST</td>\n",
       "      <td>SARANAC LAKES</td>\n",
       "      <td>None</td>\n",
       "      <td>5</td>\n",
       "      <td>ESSEX</td>\n",
       "      <td>http://www.dec.ny.gov/lands/22593.html</td>\n",
       "      <td>DECRP, ESSEX RPP</td>\n",
       "      <td>12/96</td>\n",
       "      <td>RAY BROOK</td>\n",
       "      <td>69.702387</td>\n",
       "      <td>1517</td>\n",
       "      <td>N</td>\n",
       "      <td>2.821959e+05</td>\n",
       "      <td>2663.909932</td>\n",
       "      <td>POLYGON ((583896.043 4909643.187, 583891.200 4...</td>\n",
       "    </tr>\n",
       "  </tbody>\n",
       "</table>\n",
       "</div>"
      ],
      "text/plain": [
       "   OBJECTID          CATEGORY UNIT                          FACILITY  \\\n",
       "0         1  FOR PRES DET PAR  CFP        HANCOCK FP DETACHED PARCEL   \n",
       "1         2  FOR PRES DET PAR  CFP        HANCOCK FP DETACHED PARCEL   \n",
       "2         3  FOR PRES DET PAR  CFP        HANCOCK FP DETACHED PARCEL   \n",
       "3         4  FOR PRES DET PAR  CFP  GREENE COUNTY FP DETACHED PARCEL   \n",
       "4         6   FOREST PRESERVE  AFP         SARANAC LAKES WILD FOREST   \n",
       "\n",
       "         CLASS            UMP                       DESCRIPTIO  REGION  \\\n",
       "0  WILD FOREST           None  DELAWARE COUNTY DETACHED PARCEL       4   \n",
       "1  WILD FOREST           None  DELAWARE COUNTY DETACHED PARCEL       4   \n",
       "2  WILD FOREST           None  DELAWARE COUNTY DETACHED PARCEL       4   \n",
       "3  WILD FOREST           None                             None       4   \n",
       "4  WILD FOREST  SARANAC LAKES                             None       5   \n",
       "\n",
       "     COUNTY                                     URL            SOURCE UPDATE_  \\\n",
       "0  DELAWARE                  http://www.dec.ny.gov/      DELAWARE RPP    5/12   \n",
       "1  DELAWARE                  http://www.dec.ny.gov/      DELAWARE RPP    5/12   \n",
       "2  DELAWARE                  http://www.dec.ny.gov/      DELAWARE RPP    5/12   \n",
       "3    GREENE                  http://www.dec.ny.gov/        GREENE RPP    5/12   \n",
       "4     ESSEX  http://www.dec.ny.gov/lands/22593.html  DECRP, ESSEX RPP   12/96   \n",
       "\n",
       "      OFFICE       ACRES  LANDS_UID GREENCERT    SHAPE_AREA    SHAPE_LEN  \\\n",
       "0   STAMFORD  738.620192        103         N  2.990365e+06  7927.662385   \n",
       "1   STAMFORD  282.553140       1218         N  1.143940e+06  4776.375600   \n",
       "2   STAMFORD  234.291262       1780         N  9.485476e+05  5783.070364   \n",
       "3   STAMFORD  450.106464       2060         N  1.822293e+06  7021.644833   \n",
       "4  RAY BROOK   69.702387       1517         N  2.821959e+05  2663.909932   \n",
       "\n",
       "                                            geometry  \n",
       "0  POLYGON ((486093.245 4635308.586, 486787.235 4...  \n",
       "1  POLYGON ((491931.514 4637416.256, 491305.424 4...  \n",
       "2  POLYGON ((486000.287 4635834.453, 485007.550 4...  \n",
       "3  POLYGON ((541716.775 4675243.268, 541217.579 4...  \n",
       "4  POLYGON ((583896.043 4909643.187, 583891.200 4...  "
      ]
     },
     "execution_count": 2,
     "metadata": {},
     "output_type": "execute_result"
    }
   ],
   "source": [
    "# Read in the data\n",
    "full_data = gpd.read_file(\"../input/geospatial-learn-course-data/DEC_lands/DEC_lands/DEC_lands.shp\")\n",
    "\n",
    "# View the first five rows of the data\n",
    "full_data.head()"
   ]
  },
  {
   "cell_type": "markdown",
   "metadata": {
    "papermill": {
     "duration": 0.011164,
     "end_time": "2020-10-01T00:25:19.753360",
     "exception": false,
     "start_time": "2020-10-01T00:25:19.742196",
     "status": "completed"
    },
    "tags": []
   },
   "source": [
    "As you can see in the \"CLASS\" column, each of the first five rows corresponds to a different forest.  \n",
    "\n",
    "For the rest of this tutorial, consider a scenario where you'd like to use this data to plan a weekend camping trip.  Instead of relying on crowd-sourced reviews online, you decide to create your own map.  This way, you can tailor the trip to your specific interests. \n",
    "\n",
    "# Prerequisites\n",
    "\n",
    "To view the first five rows of the data, we used the `head()` method.  You may recall that this is also what we use to preview a Pandas DataFrame.  In fact, every command that you can use with a DataFrame will work with the data!  \n",
    "\n",
    "This is because the data was loaded into a (GeoPandas) **GeoDataFrame** object that has all of the capabilities of a (Pandas) DataFrame."
   ]
  },
  {
   "cell_type": "code",
   "execution_count": 3,
   "metadata": {
    "execution": {
     "iopub.execute_input": "2020-10-01T00:25:19.781893Z",
     "iopub.status.busy": "2020-10-01T00:25:19.781046Z",
     "iopub.status.idle": "2020-10-01T00:25:19.785248Z",
     "shell.execute_reply": "2020-10-01T00:25:19.784767Z"
    },
    "papermill": {
     "duration": 0.020564,
     "end_time": "2020-10-01T00:25:19.785364",
     "exception": false,
     "start_time": "2020-10-01T00:25:19.764800",
     "status": "completed"
    },
    "tags": []
   },
   "outputs": [
    {
     "data": {
      "text/plain": [
       "geopandas.geodataframe.GeoDataFrame"
      ]
     },
     "execution_count": 3,
     "metadata": {},
     "output_type": "execute_result"
    }
   ],
   "source": [
    "type(full_data)"
   ]
  },
  {
   "cell_type": "markdown",
   "metadata": {
    "papermill": {
     "duration": 0.011593,
     "end_time": "2020-10-01T00:25:19.808830",
     "exception": false,
     "start_time": "2020-10-01T00:25:19.797237",
     "status": "completed"
    },
    "tags": []
   },
   "source": [
    "For instance, if we don't plan to use all of the columns, we can select a subset of them.  (_To review other methods for selecting data, check out [this tutorial](https://www.kaggle.com/residentmario/indexing-selecting-assigning/) from the Pandas micro-course_.)"
   ]
  },
  {
   "cell_type": "code",
   "execution_count": 4,
   "metadata": {
    "execution": {
     "iopub.execute_input": "2020-10-01T00:25:19.846552Z",
     "iopub.status.busy": "2020-10-01T00:25:19.845916Z",
     "iopub.status.idle": "2020-10-01T00:25:19.848844Z",
     "shell.execute_reply": "2020-10-01T00:25:19.848333Z"
    },
    "papermill": {
     "duration": 0.028358,
     "end_time": "2020-10-01T00:25:19.848964",
     "exception": false,
     "start_time": "2020-10-01T00:25:19.820606",
     "status": "completed"
    },
    "tags": []
   },
   "outputs": [],
   "source": [
    "data = full_data.loc[:, [\"CLASS\", \"COUNTY\", \"geometry\"]].copy()"
   ]
  },
  {
   "cell_type": "markdown",
   "metadata": {
    "papermill": {
     "duration": 0.01154,
     "end_time": "2020-10-01T00:25:19.872519",
     "exception": false,
     "start_time": "2020-10-01T00:25:19.860979",
     "status": "completed"
    },
    "tags": []
   },
   "source": [
    "We use the `value_counts()` method to see a list of different land types, along with how many times they appear in the dataset. (_To review this (and related methods), check out [this tutorial](https://www.kaggle.com/residentmario/summary-functions-and-maps) from the Pandas micro-course._)"
   ]
  },
  {
   "cell_type": "code",
   "execution_count": 5,
   "metadata": {
    "execution": {
     "iopub.execute_input": "2020-10-01T00:25:19.904082Z",
     "iopub.status.busy": "2020-10-01T00:25:19.903267Z",
     "iopub.status.idle": "2020-10-01T00:25:19.907459Z",
     "shell.execute_reply": "2020-10-01T00:25:19.906843Z"
    },
    "papermill": {
     "duration": 0.023205,
     "end_time": "2020-10-01T00:25:19.907575",
     "exception": false,
     "start_time": "2020-10-01T00:25:19.884370",
     "status": "completed"
    },
    "tags": []
   },
   "outputs": [
    {
     "data": {
      "text/plain": [
       "WILD FOREST                   965\n",
       "INTENSIVE USE                 108\n",
       "PRIMITIVE                      60\n",
       "WILDERNESS                     52\n",
       "ADMINISTRATIVE                 17\n",
       "UNCLASSIFIED                    7\n",
       "HISTORIC                        5\n",
       "PRIMITIVE BICYCLE CORRIDOR      4\n",
       "CANOE AREA                      1\n",
       "Name: CLASS, dtype: int64"
      ]
     },
     "execution_count": 5,
     "metadata": {},
     "output_type": "execute_result"
    }
   ],
   "source": [
    "# How many lands of each type are there?\n",
    "data.CLASS.value_counts()"
   ]
  },
  {
   "cell_type": "markdown",
   "metadata": {
    "papermill": {
     "duration": 0.01196,
     "end_time": "2020-10-01T00:25:19.931775",
     "exception": false,
     "start_time": "2020-10-01T00:25:19.919815",
     "status": "completed"
    },
    "tags": []
   },
   "source": [
    "You can also use `loc` (and `iloc`) and `isin` to select subsets of the data.  (_To review this, check out [this tutorial](https://www.kaggle.com/residentmario/indexing-selecting-assigning/) from the Pandas micro-course._)"
   ]
  },
  {
   "cell_type": "code",
   "execution_count": 6,
   "metadata": {
    "execution": {
     "iopub.execute_input": "2020-10-01T00:25:19.969903Z",
     "iopub.status.busy": "2020-10-01T00:25:19.963440Z",
     "iopub.status.idle": "2020-10-01T00:25:19.980035Z",
     "shell.execute_reply": "2020-10-01T00:25:19.979486Z"
    },
    "papermill": {
     "duration": 0.03625,
     "end_time": "2020-10-01T00:25:19.980143",
     "exception": false,
     "start_time": "2020-10-01T00:25:19.943893",
     "status": "completed"
    },
    "tags": []
   },
   "outputs": [
    {
     "data": {
      "text/html": [
       "<div>\n",
       "<style scoped>\n",
       "    .dataframe tbody tr th:only-of-type {\n",
       "        vertical-align: middle;\n",
       "    }\n",
       "\n",
       "    .dataframe tbody tr th {\n",
       "        vertical-align: top;\n",
       "    }\n",
       "\n",
       "    .dataframe thead th {\n",
       "        text-align: right;\n",
       "    }\n",
       "</style>\n",
       "<table border=\"1\" class=\"dataframe\">\n",
       "  <thead>\n",
       "    <tr style=\"text-align: right;\">\n",
       "      <th></th>\n",
       "      <th>CLASS</th>\n",
       "      <th>COUNTY</th>\n",
       "      <th>geometry</th>\n",
       "    </tr>\n",
       "  </thead>\n",
       "  <tbody>\n",
       "    <tr>\n",
       "      <th>0</th>\n",
       "      <td>WILD FOREST</td>\n",
       "      <td>DELAWARE</td>\n",
       "      <td>POLYGON ((486093.245 4635308.586, 486787.235 4...</td>\n",
       "    </tr>\n",
       "    <tr>\n",
       "      <th>1</th>\n",
       "      <td>WILD FOREST</td>\n",
       "      <td>DELAWARE</td>\n",
       "      <td>POLYGON ((491931.514 4637416.256, 491305.424 4...</td>\n",
       "    </tr>\n",
       "    <tr>\n",
       "      <th>2</th>\n",
       "      <td>WILD FOREST</td>\n",
       "      <td>DELAWARE</td>\n",
       "      <td>POLYGON ((486000.287 4635834.453, 485007.550 4...</td>\n",
       "    </tr>\n",
       "    <tr>\n",
       "      <th>3</th>\n",
       "      <td>WILD FOREST</td>\n",
       "      <td>GREENE</td>\n",
       "      <td>POLYGON ((541716.775 4675243.268, 541217.579 4...</td>\n",
       "    </tr>\n",
       "    <tr>\n",
       "      <th>4</th>\n",
       "      <td>WILD FOREST</td>\n",
       "      <td>ESSEX</td>\n",
       "      <td>POLYGON ((583896.043 4909643.187, 583891.200 4...</td>\n",
       "    </tr>\n",
       "  </tbody>\n",
       "</table>\n",
       "</div>"
      ],
      "text/plain": [
       "         CLASS    COUNTY                                           geometry\n",
       "0  WILD FOREST  DELAWARE  POLYGON ((486093.245 4635308.586, 486787.235 4...\n",
       "1  WILD FOREST  DELAWARE  POLYGON ((491931.514 4637416.256, 491305.424 4...\n",
       "2  WILD FOREST  DELAWARE  POLYGON ((486000.287 4635834.453, 485007.550 4...\n",
       "3  WILD FOREST    GREENE  POLYGON ((541716.775 4675243.268, 541217.579 4...\n",
       "4  WILD FOREST     ESSEX  POLYGON ((583896.043 4909643.187, 583891.200 4..."
      ]
     },
     "execution_count": 6,
     "metadata": {},
     "output_type": "execute_result"
    }
   ],
   "source": [
    "# Select lands that fall under the \"WILD FOREST\" or \"WILDERNESS\" category\n",
    "wild_lands = data.loc[data.CLASS.isin(['WILD FOREST', 'WILDERNESS'])].copy()\n",
    "wild_lands.head()"
   ]
  },
  {
   "cell_type": "markdown",
   "metadata": {
    "papermill": {
     "duration": 0.012454,
     "end_time": "2020-10-01T00:25:20.005013",
     "exception": false,
     "start_time": "2020-10-01T00:25:19.992559",
     "status": "completed"
    },
    "tags": []
   },
   "source": [
    "If you're not familiar with the commands above, you are encouraged to bookmark this page for reference, so you can look up the commands as needed.  (_Alternatively, you can take the [Pandas micro-course](https://www.kaggle.com/learn/pandas)._)  We'll use these commands throughout this micro-course to understand and filter data before creating maps.\n",
    "\n",
    "# Create your first map!\n",
    "\n",
    "We can quickly visualize the data with the `plot()` method."
   ]
  },
  {
   "cell_type": "code",
   "execution_count": 7,
   "metadata": {
    "execution": {
     "iopub.execute_input": "2020-10-01T00:25:20.035487Z",
     "iopub.status.busy": "2020-10-01T00:25:20.034823Z",
     "iopub.status.idle": "2020-10-01T00:25:20.550740Z",
     "shell.execute_reply": "2020-10-01T00:25:20.550170Z"
    },
    "papermill": {
     "duration": 0.533303,
     "end_time": "2020-10-01T00:25:20.550868",
     "exception": false,
     "start_time": "2020-10-01T00:25:20.017565",
     "status": "completed"
    },
    "tags": []
   },
   "outputs": [
    {
     "data": {
      "text/plain": [
       "<matplotlib.axes._subplots.AxesSubplot at 0x7f6276f81ad0>"
      ]
     },
     "execution_count": 7,
     "metadata": {},
     "output_type": "execute_result"
    },
    {
     "data": {
      "image/png": "[encoded data removed]",
      "text/plain": [
       "<Figure size 432x288 with 1 Axes>"
      ]
     },
     "metadata": {
      "needs_background": "light"
     },
     "output_type": "display_data"
    }
   ],
   "source": [
    "wild_lands.plot()"
   ]
  },
  {
   "cell_type": "markdown",
   "metadata": {
    "papermill": {
     "duration": 0.01389,
     "end_time": "2020-10-01T00:25:20.578971",
     "exception": false,
     "start_time": "2020-10-01T00:25:20.565081",
     "status": "completed"
    },
    "tags": []
   },
   "source": [
    "Every GeoDataFrame contains a special \"geometry\" column.  It contains all of the geometric objects that are displayed when we call the `plot()` method."
   ]
  },
  {
   "cell_type": "code",
   "execution_count": 8,
   "metadata": {
    "execution": {
     "iopub.execute_input": "2020-10-01T00:25:20.613185Z",
     "iopub.status.busy": "2020-10-01T00:25:20.612471Z",
     "iopub.status.idle": "2020-10-01T00:25:20.620317Z",
     "shell.execute_reply": "2020-10-01T00:25:20.619755Z"
    },
    "papermill": {
     "duration": 0.027615,
     "end_time": "2020-10-01T00:25:20.620432",
     "exception": false,
     "start_time": "2020-10-01T00:25:20.592817",
     "status": "completed"
    },
    "tags": []
   },
   "outputs": [
    {
     "data": {
      "text/plain": [
       "0    POLYGON ((486093.245 4635308.586, 486787.235 4...\n",
       "1    POLYGON ((491931.514 4637416.256, 491305.424 4...\n",
       "2    POLYGON ((486000.287 4635834.453, 485007.550 4...\n",
       "3    POLYGON ((541716.775 4675243.268, 541217.579 4...\n",
       "4    POLYGON ((583896.043 4909643.187, 583891.200 4...\n",
       "Name: geometry, dtype: geometry"
      ]
     },
     "execution_count": 8,
     "metadata": {},
     "output_type": "execute_result"
    }
   ],
   "source": [
    "# View the first five entries in the \"geometry\" column\n",
    "wild_lands.geometry.head()"
   ]
  },
  {
   "cell_type": "markdown",
   "metadata": {
    "papermill": {
     "duration": 0.013989,
     "end_time": "2020-10-01T00:25:20.648869",
     "exception": false,
     "start_time": "2020-10-01T00:25:20.634880",
     "status": "completed"
    },
    "tags": []
   },
   "source": [
    "While this column can contain a variety of different datatypes, each entry will typically be a **Point**, **LineString**, or **Polygon**.\n",
    "\n",
    "![](https://i.imgur.com/N1llefr.png)\n",
    "\n",
    "The \"geometry\" column in our dataset contains 2983 different Polygon objects, each corresponding to a different shape in the plot above.\n",
    "\n",
    "In the code cell below, we create three more GeoDataFrames, containing campsite locations (**Point**), foot trails (**LineString**), and county boundaries (**Polygon**)."
   ]
  },
  {
   "cell_type": "code",
   "execution_count": 9,
   "metadata": {
    "_kg_hide-input": false,
    "execution": {
     "iopub.execute_input": "2020-10-01T00:25:20.702871Z",
     "iopub.status.busy": "2020-10-01T00:25:20.701999Z",
     "iopub.status.idle": "2020-10-01T00:25:21.773165Z",
     "shell.execute_reply": "2020-10-01T00:25:21.772472Z"
    },
    "papermill": {
     "duration": 1.110111,
     "end_time": "2020-10-01T00:25:21.773281",
     "exception": false,
     "start_time": "2020-10-01T00:25:20.663170",
     "status": "completed"
    },
    "tags": []
   },
   "outputs": [],
   "source": [
    "# Campsites in New York state (Point)\n",
    "POI_data = gpd.read_file(\"../input/geospatial-learn-course-data/DEC_pointsinterest/DEC_pointsinterest/Decptsofinterest.shp\")\n",
    "campsites = POI_data.loc[POI_data.ASSET=='PRIMITIVE CAMPSITE'].copy()\n",
    "\n",
    "# Foot trails in New York state (LineString)\n",
    "roads_trails = gpd.read_file(\"../input/geospatial-learn-course-data/DEC_roadstrails/DEC_roadstrails/Decroadstrails.shp\")\n",
    "trails = roads_trails.loc[roads_trails.ASSET=='FOOT TRAIL'].copy()\n",
    "\n",
    "# County boundaries in New York state (Polygon)\n",
    "counties = gpd.read_file(\"../input/geospatial-learn-course-data/NY_county_boundaries/NY_county_boundaries/NY_county_boundaries.shp\")"
   ]
  },
  {
   "cell_type": "markdown",
   "metadata": {
    "papermill": {
     "duration": 0.013997,
     "end_time": "2020-10-01T00:25:21.801705",
     "exception": false,
     "start_time": "2020-10-01T00:25:21.787708",
     "status": "completed"
    },
    "tags": []
   },
   "source": [
    "Next, we create a map from all four GeoDataFrames.  \n",
    "\n",
    "The `plot()` method takes as (optional) input several parameters that can be used to customize the appearance.  Most importantly, setting a value for `ax` ensures that all of the information is plotted on the same map."
   ]
  },
  {
   "cell_type": "code",
   "execution_count": 10,
   "metadata": {
    "execution": {
     "iopub.execute_input": "2020-10-01T00:25:21.846945Z",
     "iopub.status.busy": "2020-10-01T00:25:21.846257Z",
     "iopub.status.idle": "2020-10-01T00:25:22.815996Z",
     "shell.execute_reply": "2020-10-01T00:25:22.816478Z"
    },
    "papermill": {
     "duration": 1.000703,
     "end_time": "2020-10-01T00:25:22.816659",
     "exception": false,
     "start_time": "2020-10-01T00:25:21.815956",
     "status": "completed"
    },
    "tags": []
   },
   "outputs": [
    {
     "data": {
      "text/plain": [
       "<matplotlib.axes._subplots.AxesSubplot at 0x7f6276df3850>"
      ]
     },
     "execution_count": 10,
     "metadata": {},
     "output_type": "execute_result"
    },
    {
     "data": {
      "image/png": "[encoded data removed]",
      "text/plain": [
       "<Figure size 720x720 with 1 Axes>"
      ]
     },
     "metadata": {
      "needs_background": "light"
     },
     "output_type": "display_data"
    }
   ],
   "source": [
    "# Define a base map with county boundaries\n",
    "ax = counties.plot(figsize=(10,10), color='none', edgecolor='gainsboro', zorder=3)\n",
    "\n",
    "# Add wild lands, campsites, and foot trails to the base map\n",
    "wild_lands.plot(color='lightgreen', ax=ax)\n",
    "campsites.plot(color='maroon', markersize=2, ax=ax)\n",
    "trails.plot(color='black', markersize=1, ax=ax)"
   ]
  },
  {
   "cell_type": "markdown",
   "metadata": {
    "papermill": {
     "duration": 0.016446,
     "end_time": "2020-10-01T00:25:22.850214",
     "exception": false,
     "start_time": "2020-10-01T00:25:22.833768",
     "status": "completed"
    },
    "tags": []
   },
   "source": [
    "It looks like the northeastern part of the state would be a great option for a camping trip!\n",
    "\n",
    "# Your turn\n",
    "\n",
    "This feels complex at first, but you've already learned enough to do important analysis. See for yourself as you **[identify remote areas](https://www.kaggle.com/kernels/fork/5832167)** of the Philippines where a non-profit can expand its operations."
   ]
  },
  {
   "cell_type": "markdown",
   "metadata": {
    "papermill": {
     "duration": 0.01647,
     "end_time": "2020-10-01T00:25:22.883539",
     "exception": false,
     "start_time": "2020-10-01T00:25:22.867069",
     "status": "completed"
    },
    "tags": []
   },
   "source": [
    "---\n",
    "\n",
    "\n",
    "\n",
    "\n",
    "*Have questions or comments? Visit the [Learn Discussion forum](https://www.kaggle.com/learn-forum/161464) to chat with other Learners.*"
   ]
  }
 ],
 "metadata": {
  "kernelspec": {
   "display_name": "Python 3",
   "language": "python",
   "name": "python3"
  },
  "language_info": {
   "codemirror_mode": {
    "name": "ipython",
    "version": 3
   },
   "file_extension": ".py",
   "mimetype": "text/x-python",
   "name": "python",
   "nbconvert_exporter": "python",
   "pygments_lexer": "ipython3",
   "version": "3.7.6"
  },
  "papermill": {
   "duration": 9.868231,
   "end_time": "2020-10-01T00:25:23.957898",
   "environment_variables": {},
   "exception": null,
   "input_path": "__notebook__.ipynb",
   "output_path": "__notebook__.ipynb",
   "parameters": {},
   "start_time": "2020-10-01T00:25:14.089667",
   "version": "2.1.0"
  }
 },
 "nbformat": 4,
 "nbformat_minor": 2
}
