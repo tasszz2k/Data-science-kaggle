{
 "cells": [
  {
   "cell_type": "markdown",
   "metadata": {
    "papermill": {
     "duration": 0.019486,
     "end_time": "2020-10-01T00:25:00.012117",
     "exception": false,
     "start_time": "2020-10-01T00:24:59.992631",
     "status": "completed"
    },
    "tags": []
   },
   "source": [
    "# Introduction\n",
    "\n",
    "In this tutorial, you'll learn about two common manipulations for geospatial data: **geocoding** and **table joins**."
   ]
  },
  {
   "cell_type": "code",
   "execution_count": 1,
   "metadata": {
    "_kg_hide-input": true,
    "_kg_hide-output": true,
    "execution": {
     "iopub.execute_input": "2020-10-01T00:25:00.056224Z",
     "iopub.status.busy": "2020-10-01T00:25:00.055348Z",
     "iopub.status.idle": "2020-10-01T00:25:13.359348Z",
     "shell.execute_reply": "2020-10-01T00:25:13.358408Z"
    },
    "papermill": {
     "duration": 13.328699,
     "end_time": "2020-10-01T00:25:13.359511",
     "exception": false,
     "start_time": "2020-10-01T00:25:00.030812",
     "status": "completed"
    },
    "tags": []
   },
   "outputs": [
    {
     "name": "stdout",
     "output_type": "stream",
     "text": [
      "Collecting geopy==1.22.0\r\n",
      "  Downloading geopy-1.22.0-py2.py3-none-any.whl (113 kB)\r\n",
      "\u001b[K     |████████████████████████████████| 113 kB 402 kB/s \r\n",
      "\u001b[?25hRequirement already satisfied: geographiclib<2,>=1.49 in /opt/conda/lib/python3.7/site-packages (from geopy==1.22.0) (1.50)\r\n",
      "Installing collected packages: geopy\r\n",
      "  Attempting uninstall: geopy\r\n",
      "    Found existing installation: geopy 2.0.0\r\n",
      "    Uninstalling geopy-2.0.0:\r\n",
      "      Successfully uninstalled geopy-2.0.0\r\n",
      "Successfully installed geopy-1.22.0\r\n"
     ]
    }
   ],
   "source": [
    "\n",
    "!pip install geopy==1.22.0\n",
    "import pandas as pd\n",
    "import geopandas as gpd\n",
    "import numpy as np\n",
    "import folium\n",
    "from folium import Marker"
   ]
  },
  {
   "cell_type": "markdown",
   "metadata": {
    "papermill": {
     "duration": 0.021848,
     "end_time": "2020-10-01T00:25:13.406628",
     "exception": false,
     "start_time": "2020-10-01T00:25:13.384780",
     "status": "completed"
    },
    "tags": []
   },
   "source": [
    "# Geocoding\n",
    "\n",
    "**Geocoding** is the process of converting the name of a place or an address to a location on a map.  If you have ever looked up a geographic location based on a landmark description with [Google Maps](https://www.google.com/maps), [Bing Maps](https://www.bing.com/maps), or [Baidu Maps](https://map.baidu.com/), for instance, then you have used a geocoder!\n",
    "\n",
    "![](https://i.imgur.com/1IrgZQq.png)\n",
    "\n",
    "We'll use geopandas to do all of our geocoding."
   ]
  },
  {
   "cell_type": "code",
   "execution_count": 2,
   "metadata": {
    "execution": {
     "iopub.execute_input": "2020-10-01T00:25:13.458361Z",
     "iopub.status.busy": "2020-10-01T00:25:13.457498Z",
     "iopub.status.idle": "2020-10-01T00:25:13.460857Z",
     "shell.execute_reply": "2020-10-01T00:25:13.460064Z"
    },
    "papermill": {
     "duration": 0.031686,
     "end_time": "2020-10-01T00:25:13.461053",
     "exception": false,
     "start_time": "2020-10-01T00:25:13.429367",
     "status": "completed"
    },
    "tags": []
   },
   "outputs": [],
   "source": [
    "from geopandas.tools import geocode"
   ]
  },
  {
   "cell_type": "markdown",
   "metadata": {
    "papermill": {
     "duration": 0.022192,
     "end_time": "2020-10-01T00:25:13.506120",
     "exception": false,
     "start_time": "2020-10-01T00:25:13.483928",
     "status": "completed"
    },
    "tags": []
   },
   "source": [
    "To use the geocoder, we need only provide: \n",
    "- the name or address as a Python string, and\n",
    "- the name of the provider; to avoid having to provide an API key, we'll use the [OpenStreetMap Nominatim geocoder](https://nominatim.openstreetmap.org/).\n",
    "\n",
    "If the geocoding is successful, it returns a GeoDataFrame with two columns:\n",
    "- the \"geometry\" column contains the (latitude, longitude) location, and\n",
    "- the \"address\" column contains the full address."
   ]
  },
  {
   "cell_type": "code",
   "execution_count": 3,
   "metadata": {
    "execution": {
     "iopub.execute_input": "2020-10-01T00:25:13.556654Z",
     "iopub.status.busy": "2020-10-01T00:25:13.555839Z",
     "iopub.status.idle": "2020-10-01T00:25:14.081743Z",
     "shell.execute_reply": "2020-10-01T00:25:14.080946Z"
    },
    "papermill": {
     "duration": 0.553617,
     "end_time": "2020-10-01T00:25:14.081873",
     "exception": false,
     "start_time": "2020-10-01T00:25:13.528256",
     "status": "completed"
    },
    "tags": []
   },
   "outputs": [
    {
     "data": {
      "text/html": [
       "<div>\n",
       "<style scoped>\n",
       "    .dataframe tbody tr th:only-of-type {\n",
       "        vertical-align: middle;\n",
       "    }\n",
       "\n",
       "    .dataframe tbody tr th {\n",
       "        vertical-align: top;\n",
       "    }\n",
       "\n",
       "    .dataframe thead th {\n",
       "        text-align: right;\n",
       "    }\n",
       "</style>\n",
       "<table border=\"1\" class=\"dataframe\">\n",
       "  <thead>\n",
       "    <tr style=\"text-align: right;\">\n",
       "      <th></th>\n",
       "      <th>geometry</th>\n",
       "      <th>address</th>\n",
       "    </tr>\n",
       "  </thead>\n",
       "  <tbody>\n",
       "    <tr>\n",
       "      <th>0</th>\n",
       "      <td>POINT (31.13422 29.97915)</td>\n",
       "      <td>هرم خوفو, Cause way, كوم الأخضر, الجيزة, محافظ...</td>\n",
       "    </tr>\n",
       "  </tbody>\n",
       "</table>\n",
       "</div>"
      ],
      "text/plain": [
       "                    geometry  \\\n",
       "0  POINT (31.13422 29.97915)   \n",
       "\n",
       "                                             address  \n",
       "0  هرم خوفو, Cause way, كوم الأخضر, الجيزة, محافظ...  "
      ]
     },
     "execution_count": 3,
     "metadata": {},
     "output_type": "execute_result"
    }
   ],
   "source": [
    "result = geocode(\"The Great Pyramid of Giza\", provider=\"nominatim\")\n",
    "result"
   ]
  },
  {
   "cell_type": "markdown",
   "metadata": {
    "papermill": {
     "duration": 0.023866,
     "end_time": "2020-10-01T00:25:14.128483",
     "exception": false,
     "start_time": "2020-10-01T00:25:14.104617",
     "status": "completed"
    },
    "tags": []
   },
   "source": [
    "The entry in the \"geometry\" column is a `Point` object, and we can get the latitude and longitude from the `y` and `x` attributes, respectively."
   ]
  },
  {
   "cell_type": "code",
   "execution_count": 4,
   "metadata": {
    "execution": {
     "iopub.execute_input": "2020-10-01T00:25:14.184834Z",
     "iopub.status.busy": "2020-10-01T00:25:14.183525Z",
     "iopub.status.idle": "2020-10-01T00:25:14.188363Z",
     "shell.execute_reply": "2020-10-01T00:25:14.187650Z"
    },
    "papermill": {
     "duration": 0.036719,
     "end_time": "2020-10-01T00:25:14.188486",
     "exception": false,
     "start_time": "2020-10-01T00:25:14.151767",
     "status": "completed"
    },
    "tags": []
   },
   "outputs": [
    {
     "name": "stdout",
     "output_type": "stream",
     "text": [
      "Latitude: 29.9791509\n",
      "Longitude: 31.134219302763587\n"
     ]
    }
   ],
   "source": [
    "point = result.geometry.iloc[0]\n",
    "print(\"Latitude:\", point.y)\n",
    "print(\"Longitude:\", point.x)"
   ]
  },
  {
   "cell_type": "markdown",
   "metadata": {
    "papermill": {
     "duration": 0.023492,
     "end_time": "2020-10-01T00:25:14.235083",
     "exception": false,
     "start_time": "2020-10-01T00:25:14.211591",
     "status": "completed"
    },
    "tags": []
   },
   "source": [
    "It's often the case that we'll need to geocode many different addresses.  For instance, say we want to obtain the locations of 100 top universities in Europe."
   ]
  },
  {
   "cell_type": "code",
   "execution_count": 5,
   "metadata": {
    "execution": {
     "iopub.execute_input": "2020-10-01T00:25:14.292781Z",
     "iopub.status.busy": "2020-10-01T00:25:14.291861Z",
     "iopub.status.idle": "2020-10-01T00:25:14.306522Z",
     "shell.execute_reply": "2020-10-01T00:25:14.305730Z"
    },
    "papermill": {
     "duration": 0.048701,
     "end_time": "2020-10-01T00:25:14.306780",
     "exception": false,
     "start_time": "2020-10-01T00:25:14.258079",
     "status": "completed"
    },
    "tags": []
   },
   "outputs": [
    {
     "data": {
      "text/html": [
       "<div>\n",
       "<style scoped>\n",
       "    .dataframe tbody tr th:only-of-type {\n",
       "        vertical-align: middle;\n",
       "    }\n",
       "\n",
       "    .dataframe tbody tr th {\n",
       "        vertical-align: top;\n",
       "    }\n",
       "\n",
       "    .dataframe thead th {\n",
       "        text-align: right;\n",
       "    }\n",
       "</style>\n",
       "<table border=\"1\" class=\"dataframe\">\n",
       "  <thead>\n",
       "    <tr style=\"text-align: right;\">\n",
       "      <th></th>\n",
       "      <th>Name</th>\n",
       "    </tr>\n",
       "  </thead>\n",
       "  <tbody>\n",
       "    <tr>\n",
       "      <th>0</th>\n",
       "      <td>University of Oxford</td>\n",
       "    </tr>\n",
       "    <tr>\n",
       "      <th>1</th>\n",
       "      <td>University of Cambridge</td>\n",
       "    </tr>\n",
       "    <tr>\n",
       "      <th>2</th>\n",
       "      <td>Imperial College London</td>\n",
       "    </tr>\n",
       "    <tr>\n",
       "      <th>3</th>\n",
       "      <td>ETH Zurich</td>\n",
       "    </tr>\n",
       "    <tr>\n",
       "      <th>4</th>\n",
       "      <td>UCL</td>\n",
       "    </tr>\n",
       "  </tbody>\n",
       "</table>\n",
       "</div>"
      ],
      "text/plain": [
       "                      Name\n",
       "0     University of Oxford\n",
       "1  University of Cambridge\n",
       "2  Imperial College London\n",
       "3               ETH Zurich\n",
       "4                      UCL"
      ]
     },
     "execution_count": 5,
     "metadata": {},
     "output_type": "execute_result"
    }
   ],
   "source": [
    "universities = pd.read_csv(\"../input/geospatial-learn-course-data/top_universities.csv\")\n",
    "universities.head()"
   ]
  },
  {
   "cell_type": "markdown",
   "metadata": {
    "papermill": {
     "duration": 0.023367,
     "end_time": "2020-10-01T00:25:14.353938",
     "exception": false,
     "start_time": "2020-10-01T00:25:14.330571",
     "status": "completed"
    },
    "tags": []
   },
   "source": [
    "Then we can use a lambda function to apply the geocoder to every row in the DataFrame.  (We use a try/except statement to account for the case that the geocoding is unsuccessful.)"
   ]
  },
  {
   "cell_type": "code",
   "execution_count": 6,
   "metadata": {
    "execution": {
     "iopub.execute_input": "2020-10-01T00:25:14.412547Z",
     "iopub.status.busy": "2020-10-01T00:25:14.411642Z",
     "iopub.status.idle": "2020-10-01T00:26:04.169092Z",
     "shell.execute_reply": "2020-10-01T00:26:04.166797Z"
    },
    "papermill": {
     "duration": 49.790529,
     "end_time": "2020-10-01T00:26:04.169258",
     "exception": false,
     "start_time": "2020-10-01T00:25:14.378729",
     "status": "completed"
    },
    "tags": []
   },
   "outputs": [
    {
     "name": "stdout",
     "output_type": "stream",
     "text": [
      "91.0% of addresses were geocoded!\n"
     ]
    },
    {
     "name": "stderr",
     "output_type": "stream",
     "text": [
      "/opt/conda/lib/python3.7/site-packages/pyproj/crs/crs.py:53: FutureWarning: '+init=<authority>:<code>' syntax is deprecated. '<authority>:<code>' is the preferred initialization method. When making the change, be mindful of axis order changes: https://pyproj4.github.io/pyproj/stable/gotchas.html#axis-order-changes-in-proj-6\n",
      "  return _prepare_from_string(\" \".join(pjargs))\n"
     ]
    },
    {
     "data": {
      "text/html": [
       "<div>\n",
       "<style scoped>\n",
       "    .dataframe tbody tr th:only-of-type {\n",
       "        vertical-align: middle;\n",
       "    }\n",
       "\n",
       "    .dataframe tbody tr th {\n",
       "        vertical-align: top;\n",
       "    }\n",
       "\n",
       "    .dataframe thead th {\n",
       "        text-align: right;\n",
       "    }\n",
       "</style>\n",
       "<table border=\"1\" class=\"dataframe\">\n",
       "  <thead>\n",
       "    <tr style=\"text-align: right;\">\n",
       "      <th></th>\n",
       "      <th>Name</th>\n",
       "      <th>Latitude</th>\n",
       "      <th>Longitude</th>\n",
       "      <th>geometry</th>\n",
       "    </tr>\n",
       "  </thead>\n",
       "  <tbody>\n",
       "    <tr>\n",
       "      <th>0</th>\n",
       "      <td>University of Oxford</td>\n",
       "      <td>51.758708</td>\n",
       "      <td>-1.255668</td>\n",
       "      <td>POINT (-1.25567 51.75871)</td>\n",
       "    </tr>\n",
       "    <tr>\n",
       "      <th>1</th>\n",
       "      <td>University of Cambridge</td>\n",
       "      <td>52.199852</td>\n",
       "      <td>0.119739</td>\n",
       "      <td>POINT (0.11974 52.19985)</td>\n",
       "    </tr>\n",
       "    <tr>\n",
       "      <th>2</th>\n",
       "      <td>Imperial College London</td>\n",
       "      <td>51.498983</td>\n",
       "      <td>-0.174629</td>\n",
       "      <td>POINT (-0.17463 51.49898)</td>\n",
       "    </tr>\n",
       "    <tr>\n",
       "      <th>3</th>\n",
       "      <td>ETH Zurich</td>\n",
       "      <td>47.377327</td>\n",
       "      <td>8.547509</td>\n",
       "      <td>POINT (8.54751 47.37733)</td>\n",
       "    </tr>\n",
       "    <tr>\n",
       "      <th>4</th>\n",
       "      <td>UCL</td>\n",
       "      <td>51.523564</td>\n",
       "      <td>-0.132956</td>\n",
       "      <td>POINT (-0.13296 51.52356)</td>\n",
       "    </tr>\n",
       "  </tbody>\n",
       "</table>\n",
       "</div>"
      ],
      "text/plain": [
       "                      Name   Latitude  Longitude                   geometry\n",
       "0     University of Oxford  51.758708  -1.255668  POINT (-1.25567 51.75871)\n",
       "1  University of Cambridge  52.199852   0.119739   POINT (0.11974 52.19985)\n",
       "2  Imperial College London  51.498983  -0.174629  POINT (-0.17463 51.49898)\n",
       "3               ETH Zurich  47.377327   8.547509   POINT (8.54751 47.37733)\n",
       "4                      UCL  51.523564  -0.132956  POINT (-0.13296 51.52356)"
      ]
     },
     "execution_count": 6,
     "metadata": {},
     "output_type": "execute_result"
    }
   ],
   "source": [
    "def my_geocoder(row):\n",
    "    try:\n",
    "        point = geocode(row, provider='nominatim').geometry.iloc[0]\n",
    "        return pd.Series({'Latitude': point.y, 'Longitude': point.x, 'geometry': point})\n",
    "    except:\n",
    "        return None\n",
    "\n",
    "universities[['Latitude', 'Longitude', 'geometry']] = universities.apply(lambda x: my_geocoder(x['Name']), axis=1)\n",
    "\n",
    "print(\"{}% of addresses were geocoded!\".format(\n",
    "    (1 - sum(np.isnan(universities[\"Latitude\"])) / len(universities)) * 100))\n",
    "\n",
    "# Drop universities that were not successfully geocoded\n",
    "universities = universities.loc[~np.isnan(universities[\"Latitude\"])]\n",
    "universities = gpd.GeoDataFrame(universities, geometry=universities.geometry)\n",
    "universities.crs = {'init': 'epsg:4326'}\n",
    "universities.head()"
   ]
  },
  {
   "cell_type": "markdown",
   "metadata": {
    "papermill": {
     "duration": 0.024799,
     "end_time": "2020-10-01T00:26:04.219895",
     "exception": false,
     "start_time": "2020-10-01T00:26:04.195096",
     "status": "completed"
    },
    "tags": []
   },
   "source": [
    "Next, we visualize all of the locations that were returned by the geocoder.  Notice that a few of the locations are certainly inaccurate, as they're not in Europe!"
   ]
  },
  {
   "cell_type": "code",
   "execution_count": 7,
   "metadata": {
    "execution": {
     "iopub.execute_input": "2020-10-01T00:26:04.277865Z",
     "iopub.status.busy": "2020-10-01T00:26:04.276996Z",
     "iopub.status.idle": "2020-10-01T00:26:04.474657Z",
     "shell.execute_reply": "2020-10-01T00:26:04.475275Z"
    },
    "papermill": {
     "duration": 0.230465,
     "end_time": "2020-10-01T00:26:04.475449",
     "exception": false,
     "start_time": "2020-10-01T00:26:04.244984",
     "status": "completed"
    },
    "tags": []
   },
   "outputs": [
    {
     "data": {
      "text/html": [
       "<div style=\"width:100%;\"><div style=\"position:relative;width:100%;height:0;padding-bottom:60%;\"><span style=\"color:#565656\">Make this Notebook Trusted to load map: File -> Trust Notebook</span><iframe src=\"about:blank\" style=\"position:absolute;width:100%;height:100%;left:0;top:0;border:none !important;\" data-html=PCFET0NUWVBFIGh0bWw+CjxoZWFkPiAgICAKICAgIDxtZXRhIGh0dHAtZXF1aXY9ImNvbnRlbnQtdHlwZSIgY29udGVudD0idGV4dC9odG1sOyBjaGFyc2V0PVVURi04IiAvPgogICAgCiAgICAgICAgPHNjcmlwdD4KICAgICAgICAgICAgTF9OT19UT1VDSCA9IGZhbHNlOwogICAgICAgICAgICBMX0RJU0FCTEVfM0QgPSBmYWxzZTsKICAgICAgICA8L3NjcmlwdD4KICAgIAogICAgPHNjcmlwdCBzcmM9Imh0dHBzOi8vY2RuLmpzZGVsaXZyLm5ldC9ucG0vbGVhZmxldEAxLjYuMC9kaXN0L2xlYWZsZXQuanMiPjwvc2NyaXB0PgogICAgPHNjcmlwdCBzcmM9Imh0dHBzOi8vY29kZS5qcXVlcnkuY29tL2pxdWVyeS0xLjEyLjQubWluLmpzIj48L3NjcmlwdD4KICAgIDxzY3JpcHQgc3JjPSJodHRwczovL21heGNkbi5ib290c3RyYXBjZG4uY29tL2Jvb3RzdHJhcC8zLjIuMC9qcy9ib290c3RyYXAubWluLmpzIj48L3NjcmlwdD4KICAgIDxzY3JpcHQgc3JjPSJodHRwczovL2NkbmpzLmNsb3VkZmxhcmUuY29tL2FqYXgvbGlicy9MZWFmbGV0LmF3ZXNvbWUtbWFya2Vycy8yLjAuMi9sZWFmbGV0LmF3ZXNvbWUtbWFya2Vycy5qcyI+PC9zY3JpcHQ+CiAgICA8bGluayByZWw9InN0eWxlc2hlZXQiIGhyZWY9Imh0dHBzOi8vY2RuLmpzZGVsaXZyLm5ldC9ucG0vbGVhZmxldEAxLjYuMC9kaXN0L2xlYWZsZXQuY3NzIi8+CiAgICA8bGluayByZWw9InN0eWxlc2hlZXQiIGhyZWY9Imh0dHBzOi8vbWF4Y2RuLmJvb3RzdHJhcGNkbi5jb20vYm9vdHN0cmFwLzMuMi4wL2Nzcy9ib290c3RyYXAubWluLmNzcyIvPgogICAgPGxpbmsgcmVsPSJzdHlsZXNoZWV0IiBocmVmPSJodHRwczovL21heGNkbi5ib290c3RyYXBjZG4uY29tL2Jvb3RzdHJhcC8zLjIuMC9jc3MvYm9vdHN0cmFwLXRoZW1lLm1pbi5jc3MiLz4KICAgIDxsaW5rIHJlbD0ic3R5bGVzaGVldCIgaHJlZj0iaHR0cHM6Ly9tYXhjZG4uYm9vdHN0cmFwY2RuLmNvbS9mb250LWF3ZXNvbWUvNC42LjMvY3NzL2ZvbnQtYXdlc29tZS5taW4uY3NzIi8+CiAgICA8bGluayByZWw9InN0eWxlc2hlZXQiIGhyZWY9Imh0dHBzOi8vY2RuanMuY2xvdWRmbGFyZS5jb20vYWpheC9saWJzL0xlYWZsZXQuYXdlc29tZS1tYXJrZXJzLzIuMC4yL2xlYWZsZXQuYXdlc29tZS1tYXJrZXJzLmNzcyIvPgogICAgPGxpbmsgcmVsPSJzdHlsZXNoZWV0IiBocmVmPSJodHRwczovL3Jhd2Nkbi5naXRoYWNrLmNvbS9weXRob24tdmlzdWFsaXphdGlvbi9mb2xpdW0vbWFzdGVyL2ZvbGl1bS90ZW1wbGF0ZXMvbGVhZmxldC5hd2Vzb21lLnJvdGF0ZS5jc3MiLz4KICAgIDxzdHlsZT5odG1sLCBib2R5IHt3aWR0aDogMTAwJTtoZWlnaHQ6IDEwMCU7bWFyZ2luOiAwO3BhZGRpbmc6IDA7fTwvc3R5bGU+CiAgICA8c3R5bGU+I21hcCB7cG9zaXRpb246YWJzb2x1dGU7dG9wOjA7Ym90dG9tOjA7cmlnaHQ6MDtsZWZ0OjA7fTwvc3R5bGU+CiAgICAKICAgICAgICAgICAgPG1ldGEgbmFtZT0idmlld3BvcnQiIGNvbnRlbnQ9IndpZHRoPWRldmljZS13aWR0aCwKICAgICAgICAgICAgICAgIGluaXRpYWwtc2NhbGU9MS4wLCBtYXhpbXVtLXNjYWxlPTEuMCwgdXNlci1zY2FsYWJsZT1ubyIgLz4KICAgICAgICAgICAgPHN0eWxlPgogICAgICAgICAgICAgICAgI21hcF9mN2Y5NzUyYzAyZDg0MjAyYmQ0YzIwZGU1NTI5ZTZlNCB7CiAgICAgICAgICAgICAgICAgICAgcG9zaXRpb246IHJlbGF0aXZlOwogICAgICAgICAgICAgICAgICAgIHdpZHRoOiAxMDAuMCU7CiAgICAgICAgICAgICAgICAgICAgaGVpZ2h0OiAxMDAuMCU7CiAgICAgICAgICAgICAgICAgICAgbGVmdDogMC4wJTsKICAgICAgICAgICAgICAgICAgICB0b3A6IDAuMCU7CiAgICAgICAgICAgICAgICB9CiAgICAgICAgICAgIDwvc3R5bGU+CiAgICAgICAgCjwvaGVhZD4KPGJvZHk+ICAgIAogICAgCiAgICAgICAgICAgIDxkaXYgY2xhc3M9ImZvbGl1bS1tYXAiIGlkPSJtYXBfZjdmOTc1MmMwMmQ4NDIwMmJkNGMyMGRlNTUyOWU2ZTQiID48L2Rpdj4KICAgICAgICAKPC9ib2R5Pgo8c2NyaXB0PiAgICAKICAgIAogICAgICAgICAgICB2YXIgbWFwX2Y3Zjk3NTJjMDJkODQyMDJiZDRjMjBkZTU1MjllNmU0ID0gTC5tYXAoCiAgICAgICAgICAgICAgICAibWFwX2Y3Zjk3NTJjMDJkODQyMDJiZDRjMjBkZTU1MjllNmU0IiwKICAgICAgICAgICAgICAgIHsKICAgICAgICAgICAgICAgICAgICBjZW50ZXI6IFs1NC4wLCAxNS4wXSwKICAgICAgICAgICAgICAgICAgICBjcnM6IEwuQ1JTLkVQU0czODU3LAogICAgICAgICAgICAgICAgICAgIHpvb206IDIsCiAgICAgICAgICAgICAgICAgICAgem9vbUNvbnRyb2w6IHRydWUsCiAgICAgICAgICAgICAgICAgICAgcHJlZmVyQ2FudmFzOiBmYWxzZSwKICAgICAgICAgICAgICAgIH0KICAgICAgICAgICAgKTsKCiAgICAgICAgICAgIAoKICAgICAgICAKICAgIAogICAgICAgICAgICB2YXIgdGlsZV9sYXllcl8zYjRkOTExMzAwZmE0NDZiYmZhMDMzNmZmZDAxN2VlMyA9IEwudGlsZUxheWVyKAogICAgICAgICAgICAgICAgImh0dHBzOi8ve3N9LnRpbGUub3BlbnN0cmVldG1hcC5vcmcve3p9L3t4fS97eX0ucG5nIiwKICAgICAgICAgICAgICAgIHsiYXR0cmlidXRpb24iOiAiRGF0YSBieSBcdTAwMjZjb3B5OyBcdTAwM2NhIGhyZWY9XCJodHRwOi8vb3BlbnN0cmVldG1hcC5vcmdcIlx1MDAzZU9wZW5TdHJlZXRNYXBcdTAwM2MvYVx1MDAzZSwgdW5kZXIgXHUwMDNjYSBocmVmPVwiaHR0cDovL3d3dy5vcGVuc3RyZWV0bWFwLm9yZy9jb3B5cmlnaHRcIlx1MDAzZU9EYkxcdTAwM2MvYVx1MDAzZS4iLCAiZGV0ZWN0UmV0aW5hIjogZmFsc2UsICJtYXhOYXRpdmVab29tIjogMTgsICJtYXhab29tIjogMTgsICJtaW5ab29tIjogMCwgIm5vV3JhcCI6IGZhbHNlLCAib3BhY2l0eSI6IDEsICJzdWJkb21haW5zIjogImFiYyIsICJ0bXMiOiBmYWxzZX0KICAgICAgICAgICAgKS5hZGRUbyhtYXBfZjdmOTc1MmMwMmQ4NDIwMmJkNGMyMGRlNTUyOWU2ZTQpOwogICAgICAgIAogICAgCiAgICAgICAgICAgIHZhciBtYXJrZXJfNzVmNTA0NWI2MTk3NGI3Nzk1MzdhNDI2MTAyMDU1ZTIgPSBMLm1hcmtlcigKICAgICAgICAgICAgICAgIFs1MS43NTg3MDc1NSwgLTEuMjU1NjY4NDgyNjA5MjAzN10sCiAgICAgICAgICAgICAgICB7fQogICAgICAgICAgICApLmFkZFRvKG1hcF9mN2Y5NzUyYzAyZDg0MjAyYmQ0YzIwZGU1NTI5ZTZlNCk7CiAgICAgICAgCiAgICAKICAgICAgICB2YXIgcG9wdXBfNTE1NzNhNzhkYTljNGY3Nzg1Y2IxNDY5MGMzOGUyNWEgPSBMLnBvcHVwKHsibWF4V2lkdGgiOiAiMTAwJSJ9KTsKCiAgICAgICAgCiAgICAgICAgICAgIHZhciBodG1sXzVkZGJiN2U5YWM1ZDQ0OGQ5YTA0MDA4ZDQ1ZTViMzc3ID0gJChgPGRpdiBpZD0iaHRtbF81ZGRiYjdlOWFjNWQ0NDhkOWEwNDAwOGQ0NWU1YjM3NyIgc3R5bGU9IndpZHRoOiAxMDAuMCU7IGhlaWdodDogMTAwLjAlOyI+VW5pdmVyc2l0eSBvZiBPeGZvcmQ8L2Rpdj5gKVswXTsKICAgICAgICAgICAgcG9wdXBfNTE1NzNhNzhkYTljNGY3Nzg1Y2IxNDY5MGMzOGUyNWEuc2V0Q29udGVudChodG1sXzVkZGJiN2U5YWM1ZDQ0OGQ5YTA0MDA4ZDQ1ZTViMzc3KTsKICAgICAgICAKCiAgICAgICAgbWFya2VyXzc1ZjUwNDViNjE5NzRiNzc5NTM3YTQyNjEwMjA1NWUyLmJpbmRQb3B1cChwb3B1cF81MTU3M2E3OGRhOWM0Zjc3ODVjYjE0NjkwYzM4ZTI1YSkKICAgICAgICA7CgogICAgICAgIAogICAgCiAgICAKICAgICAgICAgICAgdmFyIG1hcmtlcl9lOGQ1NDhmMGRkZGE0YzQwYmU2Mjg5MDQ3NWQ3NmEyNSA9IEwubWFya2VyKAogICAgICAgICAgICAgICAgWzUyLjE5OTg1MjMsIDAuMTE5NzM4NjU3NDEwNzQzODNdLAogICAgICAgICAgICAgICAge30KICAgICAgICAgICAgKS5hZGRUbyhtYXBfZjdmOTc1MmMwMmQ4NDIwMmJkNGMyMGRlNTUyOWU2ZTQpOwogICAgICAgIAogICAgCiAgICAgICAgdmFyIHBvcHVwXzJiZDEyODVhZmVmNjRhOTk5YzE2NzY4MDlmMjFiYjE2ID0gTC5wb3B1cCh7Im1heFdpZHRoIjogIjEwMCUifSk7CgogICAgICAgIAogICAgICAgICAgICB2YXIgaHRtbF80ZTJjYTkwM2NmMTc0OTkwOGE4OWI0NTNkNDY3ODM5NCA9ICQoYDxkaXYgaWQ9Imh0bWxfNGUyY2E5MDNjZjE3NDk5MDhhODliNDUzZDQ2NzgzOTQiIHN0eWxlPSJ3aWR0aDogMTAwLjAlOyBoZWlnaHQ6IDEwMC4wJTsiPlVuaXZlcnNpdHkgb2YgQ2FtYnJpZGdlPC9kaXY+YClbMF07CiAgICAgICAgICAgIHBvcHVwXzJiZDEyODVhZmVmNjRhOTk5YzE2NzY4MDlmMjFiYjE2LnNldENvbnRlbnQoaHRtbF80ZTJjYTkwM2NmMTc0OTkwOGE4OWI0NTNkNDY3ODM5NCk7CiAgICAgICAgCgogICAgICAgIG1hcmtlcl9lOGQ1NDhmMGRkZGE0YzQwYmU2Mjg5MDQ3NWQ3NmEyNS5iaW5kUG9wdXAocG9wdXBfMmJkMTI4NWFmZWY2NGE5OTljMTY3NjgwOWYyMWJiMTYpCiAgICAgICAgOwoKICAgICAgICAKICAgIAogICAgCiAgICAgICAgICAgIHZhciBtYXJrZXJfYWEzOTVmODQ5OTdkNGViYjkwMGEyMDQwMjA2NjNkZTEgPSBMLm1hcmtlcigKICAgICAgICAgICAgICAgIFs1MS40OTg5ODM0LCAtMC4xNzQ2Mjg3NDYwOTM5MDI2Nl0sCiAgICAgICAgICAgICAgICB7fQogICAgICAgICAgICApLmFkZFRvKG1hcF9mN2Y5NzUyYzAyZDg0MjAyYmQ0YzIwZGU1NTI5ZTZlNCk7CiAgICAgICAgCiAgICAKICAgICAgICB2YXIgcG9wdXBfYTAyYzFiYTliZWY2NDE3ZjgwZTIyZDY5NzNkYzQ2MjggPSBMLnBvcHVwKHsibWF4V2lkdGgiOiAiMTAwJSJ9KTsKCiAgICAgICAgCiAgICAgICAgICAgIHZhciBodG1sX2I3MWFiODAyYmRjNjRhNDliZDg4MGExMjdkODVlNjBmID0gJChgPGRpdiBpZD0iaHRtbF9iNzFhYjgwMmJkYzY0YTQ5YmQ4ODBhMTI3ZDg1ZTYwZiIgc3R5bGU9IndpZHRoOiAxMDAuMCU7IGhlaWdodDogMTAwLjAlOyI+SW1wZXJpYWwgQ29sbGVnZSBMb25kb248L2Rpdj5gKVswXTsKICAgICAgICAgICAgcG9wdXBfYTAyYzFiYTliZWY2NDE3ZjgwZTIyZDY5NzNkYzQ2Mjguc2V0Q29udGVudChodG1sX2I3MWFiODAyYmRjNjRhNDliZDg4MGExMjdkODVlNjBmKTsKICAgICAgICAKCiAgICAgICAgbWFya2VyX2FhMzk1Zjg0OTk3ZDRlYmI5MDBhMjA0MDIwNjYzZGUxLmJpbmRQb3B1cChwb3B1cF9hMDJjMWJhOWJlZjY0MTdmODBlMjJkNjk3M2RjNDYyOCkKICAgICAgICA7CgogICAgICAgIAogICAgCiAgICAKICAgICAgICAgICAgdmFyIG1hcmtlcl9lOGJjYzBkYjZkM2E0OGFjYWM2OGE2NGNiMjRjYmUzMCA9IEwubWFya2VyKAogICAgICAgICAgICAgICAgWzQ3LjM3NzMyNjksIDguNTQ3NTA4OV0sCiAgICAgICAgICAgICAgICB7fQogICAgICAgICAgICApLmFkZFRvKG1hcF9mN2Y5NzUyYzAyZDg0MjAyYmQ0YzIwZGU1NTI5ZTZlNCk7CiAgICAgICAgCiAgICAKICAgICAgICB2YXIgcG9wdXBfMmZlYWNmYzc0NGJkNGIxYmI1MWZhMWRhYmFhYWMyNzUgPSBMLnBvcHVwKHsibWF4V2lkdGgiOiAiMTAwJSJ9KTsKCiAgICAgICAgCiAgICAgICAgICAgIHZhciBodG1sX2E0MTEyOGE4YjZlZTQ1NTI5OWM0MmMzZTk2YTIxYmE1ID0gJChgPGRpdiBpZD0iaHRtbF9hNDExMjhhOGI2ZWU0NTUyOTljNDJjM2U5NmEyMWJhNSIgc3R5bGU9IndpZHRoOiAxMDAuMCU7IGhlaWdodDogMTAwLjAlOyI+RVRIIFp1cmljaDwvZGl2PmApWzBdOwogICAgICAgICAgICBwb3B1cF8yZmVhY2ZjNzQ0YmQ0YjFiYjUxZmExZGFiYWFhYzI3NS5zZXRDb250ZW50KGh0bWxfYTQxMTI4YThiNmVlNDU1Mjk5YzQyYzNlOTZhMjFiYTUpOwogICAgICAgIAoKICAgICAgICBtYXJrZXJfZThiY2MwZGI2ZDNhNDhhY2FjNjhhNjRjYjI0Y2JlMzAuYmluZFBvcHVwKHBvcHVwXzJmZWFjZmM3NDRiZDRiMWJiNTFmYTFkYWJhYWFjMjc1KQogICAgICAgIDsKCiAgICAgICAgCiAgICAKICAgIAogICAgICAgICAgICB2YXIgbWFya2VyXzUwOTA5NmU4YjBkYTQ1ZTZiZjFhNDg1NjU3OTZkNmJhID0gTC5tYXJrZXIoCiAgICAgICAgICAgICAgICBbNTEuNTIzNTY0MSwgLTAuMTMyOTU2NDc0MjEwNzc2MTddLAogICAgICAgICAgICAgICAge30KICAgICAgICAgICAgKS5hZGRUbyhtYXBfZjdmOTc1MmMwMmQ4NDIwMmJkNGMyMGRlNTUyOWU2ZTQpOwogICAgICAgIAogICAgCiAgICAgICAgdmFyIHBvcHVwXzYyYTZhZmYyZmJiNTRhZTI5ZDVhMTIwY2FhZmJiYWI1ID0gTC5wb3B1cCh7Im1heFdpZHRoIjogIjEwMCUifSk7CgogICAgICAgIAogICAgICAgICAgICB2YXIgaHRtbF9kODY3MzY4MTMzODc0MWU2ODBiYjQ2ODYzMGY4NDVlZCA9ICQoYDxkaXYgaWQ9Imh0bWxfZDg2NzM2ODEzMzg3NDFlNjgwYmI0Njg2MzBmODQ1ZWQiIHN0eWxlPSJ3aWR0aDogMTAwLjAlOyBoZWlnaHQ6IDEwMC4wJTsiPlVDTDwvZGl2PmApWzBdOwogICAgICAgICAgICBwb3B1cF82MmE2YWZmMmZiYjU0YWUyOWQ1YTEyMGNhYWZiYmFiNS5zZXRDb250ZW50KGh0bWxfZDg2NzM2ODEzMzg3NDFlNjgwYmI0Njg2MzBmODQ1ZWQpOwogICAgICAgIAoKICAgICAgICBtYXJrZXJfNTA5MDk2ZThiMGRhNDVlNmJmMWE0ODU2NTc5NmQ2YmEuYmluZFBvcHVwKHBvcHVwXzYyYTZhZmYyZmJiNTRhZTI5ZDVhMTIwY2FhZmJiYWI1KQogICAgICAgIDsKCiAgICAgICAgCiAgICAKICAgIAogICAgICAgICAgICB2YXIgbWFya2VyX2ZhNmRlZDQ5ZGU2YjQ0NGJiNTUxYjJjZTc0YjEwNmYwID0gTC5tYXJrZXIoCiAgICAgICAgICAgICAgICBbNTEuNTE0NTkxMzUsIC0wLjExNjQzMDY1NzYwOTg4OTI4XSwKICAgICAgICAgICAgICAgIHt9CiAgICAgICAgICAgICkuYWRkVG8obWFwX2Y3Zjk3NTJjMDJkODQyMDJiZDRjMjBkZTU1MjllNmU0KTsKICAgICAgICAKICAgIAogICAgICAgIHZhciBwb3B1cF9lYzVhNGI4YTNhYjI0YjUxODY4MmIxZTIyZThjY2I1ZCA9IEwucG9wdXAoeyJtYXhXaWR0aCI6ICIxMDAlIn0pOwoKICAgICAgICAKICAgICAgICAgICAgdmFyIGh0bWxfOTM0Y2YzZTY5NWUwNGVkZThhNTg1YjA4ZjE1ZGM1OTAgPSAkKGA8ZGl2IGlkPSJodG1sXzkzNGNmM2U2OTVlMDRlZGU4YTU4NWIwOGYxNWRjNTkwIiBzdHlsZT0id2lkdGg6IDEwMC4wJTsgaGVpZ2h0OiAxMDAuMCU7Ij5Mb25kb24gU2Nob29sIG9mIEVjb25vbWljcyBhbmQgUG9saXRpY2FsIFNjaWVuY2U8L2Rpdj5gKVswXTsKICAgICAgICAgICAgcG9wdXBfZWM1YTRiOGEzYWIyNGI1MTg2ODJiMWUyMmU4Y2NiNWQuc2V0Q29udGVudChodG1sXzkzNGNmM2U2OTVlMDRlZGU4YTU4NWIwOGYxNWRjNTkwKTsKICAgICAgICAKCiAgICAgICAgbWFya2VyX2ZhNmRlZDQ5ZGU2YjQ0NGJiNTUxYjJjZTc0YjEwNmYwLmJpbmRQb3B1cChwb3B1cF9lYzVhNGI4YTNhYjI0YjUxODY4MmIxZTIyZThjY2I1ZCkKICAgICAgICA7CgogICAgICAgIAogICAgCiAgICAKICAgICAgICAgICAgdmFyIG1hcmtlcl8xYmM1YWY2NmU5YjI0ZTQ0OWU5YzY1YjI3NTNjNTE5YiA9IEwubWFya2VyKAogICAgICAgICAgICAgICAgWzU1Ljk0NDEyODMsIC0zLjE4ODQwNjM2MTIzNzcyMTZdLAogICAgICAgICAgICAgICAge30KICAgICAgICAgICAgKS5hZGRUbyhtYXBfZjdmOTc1MmMwMmQ4NDIwMmJkNGMyMGRlNTUyOWU2ZTQpOwogICAgICAgIAogICAgCiAgICAgICAgdmFyIHBvcHVwXzEyMDE1YjhmMDNhNTQ3NmZiYWMwYzM0OGI1Mzk2YzA5ID0gTC5wb3B1cCh7Im1heFdpZHRoIjogIjEwMCUifSk7CgogICAgICAgIAogICAgICAgICAgICB2YXIgaHRtbF8wN2QzYmI3ZTVhODY0MDcxOTlkN2IxNjMwYjFhMWNkMCA9ICQoYDxkaXYgaWQ9Imh0bWxfMDdkM2JiN2U1YTg2NDA3MTk5ZDdiMTYzMGIxYTFjZDAiIHN0eWxlPSJ3aWR0aDogMTAwLjAlOyBoZWlnaHQ6IDEwMC4wJTsiPlVuaXZlcnNpdHkgb2YgRWRpbmJ1cmdoPC9kaXY+YClbMF07CiAgICAgICAgICAgIHBvcHVwXzEyMDE1YjhmMDNhNTQ3NmZiYWMwYzM0OGI1Mzk2YzA5LnNldENvbnRlbnQoaHRtbF8wN2QzYmI3ZTVhODY0MDcxOTlkN2IxNjMwYjFhMWNkMCk7CiAgICAgICAgCgogICAgICAgIG1hcmtlcl8xYmM1YWY2NmU5YjI0ZTQ0OWU5YzY1YjI3NTNjNTE5Yi5iaW5kUG9wdXAocG9wdXBfMTIwMTViOGYwM2E1NDc2ZmJhYzBjMzQ4YjUzOTZjMDkpCiAgICAgICAgOwoKICAgICAgICAKICAgIAogICAgCiAgICAgICAgICAgIHZhciBtYXJrZXJfNzFjOTlmODYyYWY3NDk3NGE4Yzg4OGFmZDQ2MDQ1NDYgPSBMLm1hcmtlcigKICAgICAgICAgICAgICAgIFs0OC4xNDk3MDMsIDExLjU4MDUzMzhdLAogICAgICAgICAgICAgICAge30KICAgICAgICAgICAgKS5hZGRUbyhtYXBfZjdmOTc1MmMwMmQ4NDIwMmJkNGMyMGRlNTUyOWU2ZTQpOwogICAgICAgIAogICAgCiAgICAgICAgdmFyIHBvcHVwXzAyODRiNDE5NTY0NzQ0YmNiNTI4MzI3N2NjNjkzZTA0ID0gTC5wb3B1cCh7Im1heFdpZHRoIjogIjEwMCUifSk7CgogICAgICAgIAogICAgICAgICAgICB2YXIgaHRtbF8wNDZjOWZkMzU0YzU0ZDJmODEyZDZjZTJmYWU5ZDM4ZiA9ICQoYDxkaXYgaWQ9Imh0bWxfMDQ2YzlmZDM1NGM1NGQyZjgxMmQ2Y2UyZmFlOWQzOGYiIHN0eWxlPSJ3aWR0aDogMTAwLjAlOyBoZWlnaHQ6IDEwMC4wJTsiPkxNVSBNdW5pY2g8L2Rpdj5gKVswXTsKICAgICAgICAgICAgcG9wdXBfMDI4NGI0MTk1NjQ3NDRiY2I1MjgzMjc3Y2M2OTNlMDQuc2V0Q29udGVudChodG1sXzA0NmM5ZmQzNTRjNTRkMmY4MTJkNmNlMmZhZTlkMzhmKTsKICAgICAgICAKCiAgICAgICAgbWFya2VyXzcxYzk5Zjg2MmFmNzQ5NzRhOGM4ODhhZmQ0NjA0NTQ2LmJpbmRQb3B1cChwb3B1cF8wMjg0YjQxOTU2NDc0NGJjYjUyODMyNzdjYzY5M2UwNCkKICAgICAgICA7CgogICAgICAgIAogICAgCiAgICAKICAgICAgICAgICAgdmFyIG1hcmtlcl9mZDBmNjJlNWM4OTc0NmRmYWQ2MDMwMWNiM2MyMWFlNiA9IEwubWFya2VyKAogICAgICAgICAgICAgICAgWzQ2LjUxODY1OTQwMDAwMDAwNCwgNi41NjY1NjE1MDUxNDgwMDFdLAogICAgICAgICAgICAgICAge30KICAgICAgICAgICAgKS5hZGRUbyhtYXBfZjdmOTc1MmMwMmQ4NDIwMmJkNGMyMGRlNTUyOWU2ZTQpOwogICAgICAgIAogICAgCiAgICAgICAgdmFyIHBvcHVwXzE1MTQyZTAxOWQ4NTQwNTA4YzBiNWQ3YzBkNGFhYzA0ID0gTC5wb3B1cCh7Im1heFdpZHRoIjogIjEwMCUifSk7CgogICAgICAgIAogICAgICAgICAgICB2YXIgaHRtbF9jYTJmNWFlNTE3ZGI0YzdkYmYxZTI0ZDc5NWE2OGMzNyA9ICQoYDxkaXYgaWQ9Imh0bWxfY2EyZjVhZTUxN2RiNGM3ZGJmMWUyNGQ3OTVhNjhjMzciIHN0eWxlPSJ3aWR0aDogMTAwLjAlOyBoZWlnaHQ6IDEwMC4wJTsiPsOJY29sZSBQb2x5dGVjaG5pcXVlIEbDqWTDqXJhbGUgZGUgTGF1c2FubmU8L2Rpdj5gKVswXTsKICAgICAgICAgICAgcG9wdXBfMTUxNDJlMDE5ZDg1NDA1MDhjMGI1ZDdjMGQ0YWFjMDQuc2V0Q29udGVudChodG1sX2NhMmY1YWU1MTdkYjRjN2RiZjFlMjRkNzk1YTY4YzM3KTsKICAgICAgICAKCiAgICAgICAgbWFya2VyX2ZkMGY2MmU1Yzg5NzQ2ZGZhZDYwMzAxY2IzYzIxYWU2LmJpbmRQb3B1cChwb3B1cF8xNTE0MmUwMTlkODU0MDUwOGMwYjVkN2MwZDRhYWMwNCkKICAgICAgICA7CgogICAgICAgIAogICAgCiAgICAKICAgICAgICAgICAgdmFyIG1hcmtlcl80YzNiZTk0ODdmNDA0Nzk4OTNlOTMzMGVjYmE0NjE1NSA9IEwubWFya2VyKAogICAgICAgICAgICAgICAgWzUxLjUxNTEwNzYsIC0wLjExMDY3MjUyNDc4MzI5MzczXSwKICAgICAgICAgICAgICAgIHt9CiAgICAgICAgICAgICkuYWRkVG8obWFwX2Y3Zjk3NTJjMDJkODQyMDJiZDRjMjBkZTU1MjllNmU0KTsKICAgICAgICAKICAgIAogICAgICAgIHZhciBwb3B1cF9iZDA4NDg5ZDlkODA0MWJjOTYwNGVkZTlmNGI1MWQ2ZCA9IEwucG9wdXAoeyJtYXhXaWR0aCI6ICIxMDAlIn0pOwoKICAgICAgICAKICAgICAgICAgICAgdmFyIGh0bWxfOTBhZDFiODhiM2Y2NDRmNzhjZmVjMDBlOTQzOGExZDkgPSAkKGA8ZGl2IGlkPSJodG1sXzkwYWQxYjg4YjNmNjQ0Zjc4Y2ZlYzAwZTk0MzhhMWQ5IiBzdHlsZT0id2lkdGg6IDEwMC4wJTsgaGVpZ2h0OiAxMDAuMCU7Ij5LaW5n4oCZcyBDb2xsZWdlIExvbmRvbjwvZGl2PmApWzBdOwogICAgICAgICAgICBwb3B1cF9iZDA4NDg5ZDlkODA0MWJjOTYwNGVkZTlmNGI1MWQ2ZC5zZXRDb250ZW50KGh0bWxfOTBhZDFiODhiM2Y2NDRmNzhjZmVjMDBlOTQzOGExZDkpOwogICAgICAgIAoKICAgICAgICBtYXJrZXJfNGMzYmU5NDg3ZjQwNDc5ODkzZTkzMzBlY2JhNDYxNTUuYmluZFBvcHVwKHBvcHVwX2JkMDg0ODlkOWQ4MDQxYmM5NjA0ZWRlOWY0YjUxZDZkKQogICAgICAgIDsKCiAgICAgICAgCiAgICAKICAgIAogICAgICAgICAgICB2YXIgbWFya2VyX2U0YjIxYjJmYTNmMDRlYjZhMTdlZjA5ZDBhOTdlNmYyID0gTC5tYXJrZXIoCiAgICAgICAgICAgICAgICBbNDguMjY1NTY5NiwgMTEuNjY5MzQ3MDQyMDUwMTYzXSwKICAgICAgICAgICAgICAgIHt9CiAgICAgICAgICAgICkuYWRkVG8obWFwX2Y3Zjk3NTJjMDJkODQyMDJiZDRjMjBkZTU1MjllNmU0KTsKICAgICAgICAKICAgIAogICAgICAgIHZhciBwb3B1cF8xZmFkYmMxZGM5YWM0NmQ2OTVmNjU0NzQ1NjYxOTQ2NSA9IEwucG9wdXAoeyJtYXhXaWR0aCI6ICIxMDAlIn0pOwoKICAgICAgICAKICAgICAgICAgICAgdmFyIGh0bWxfMWNlOTM5NTAyY2FiNDZkMDgyZTdmMzAxZDkzMDI0NGYgPSAkKGA8ZGl2IGlkPSJodG1sXzFjZTkzOTUwMmNhYjQ2ZDA4MmU3ZjMwMWQ5MzAyNDRmIiBzdHlsZT0id2lkdGg6IDEwMC4wJTsgaGVpZ2h0OiAxMDAuMCU7Ij5UZWNobmljYWwgVW5pdmVyc2l0eSBvZiBNdW5pY2g8L2Rpdj5gKVswXTsKICAgICAgICAgICAgcG9wdXBfMWZhZGJjMWRjOWFjNDZkNjk1ZjY1NDc0NTY2MTk0NjUuc2V0Q29udGVudChodG1sXzFjZTkzOTUwMmNhYjQ2ZDA4MmU3ZjMwMWQ5MzAyNDRmKTsKICAgICAgICAKCiAgICAgICAgbWFya2VyX2U0YjIxYjJmYTNmMDRlYjZhMTdlZjA5ZDBhOTdlNmYyLmJpbmRQb3B1cChwb3B1cF8xZmFkYmMxZGM5YWM0NmQ2OTVmNjU0NzQ1NjYxOTQ2NSkKICAgICAgICA7CgogICAgICAgIAogICAgCiAgICAKICAgICAgICAgICAgdmFyIG1hcmtlcl85YTU2OGI5YzJlMjM0ZTc0YTYxOTliY2E5OTZhOTQyZCA9IEwubWFya2VyKAogICAgICAgICAgICAgICAgWzQxLjExNDQyNTI1LCAtODMuMTY2ODY2NjY2MzkzMjVdLAogICAgICAgICAgICAgICAge30KICAgICAgICAgICAgKS5hZGRUbyhtYXBfZjdmOTc1MmMwMmQ4NDIwMmJkNGMyMGRlNTUyOWU2ZTQpOwogICAgICAgIAogICAgCiAgICAgICAgdmFyIHBvcHVwXzI1ZGVhNjY0MjgzNDQxODk4MmM4ZGNhYWI5ZDY5YWE3ID0gTC5wb3B1cCh7Im1heFdpZHRoIjogIjEwMCUifSk7CgogICAgICAgIAogICAgICAgICAgICB2YXIgaHRtbF9kMjA2ZDc2N2YwYzg0ZGRiYTA2YmRhN2U0MDIwYTNiOCA9ICQoYDxkaXYgaWQ9Imh0bWxfZDIwNmQ3NjdmMGM4NGRkYmEwNmJkYTdlNDAyMGEzYjgiIHN0eWxlPSJ3aWR0aDogMTAwLjAlOyBoZWlnaHQ6IDEwMC4wJTsiPkhlaWRlbGJlcmcgVW5pdmVyc2l0eTwvZGl2PmApWzBdOwogICAgICAgICAgICBwb3B1cF8yNWRlYTY2NDI4MzQ0MTg5ODJjOGRjYWFiOWQ2OWFhNy5zZXRDb250ZW50KGh0bWxfZDIwNmQ3NjdmMGM4NGRkYmEwNmJkYTdlNDAyMGEzYjgpOwogICAgICAgIAoKICAgICAgICBtYXJrZXJfOWE1NjhiOWMyZTIzNGU3NGE2MTk5YmNhOTk2YTk0MmQuYmluZFBvcHVwKHBvcHVwXzI1ZGVhNjY0MjgzNDQxODk4MmM4ZGNhYWI5ZDY5YWE3KQogICAgICAgIDsKCiAgICAgICAgCiAgICAKICAgIAogICAgICAgICAgICB2YXIgbWFya2VyX2YwYTQyZDNmNjk2ZjQ1NjY5OWY5ZjY0MGQyYTJiZDgyID0gTC5tYXJrZXIoCiAgICAgICAgICAgICAgICBbNTAuODc2MTU0NywgNC43MDgwODY1ODk4NTM1NThdLAogICAgICAgICAgICAgICAge30KICAgICAgICAgICAgKS5hZGRUbyhtYXBfZjdmOTc1MmMwMmQ4NDIwMmJkNGMyMGRlNTUyOWU2ZTQpOwogICAgICAgIAogICAgCiAgICAgICAgdmFyIHBvcHVwXzZmODQzYzhkYjI0MzQ0ZjU4NjQ4MTY4MDRhYjAyZTYwID0gTC5wb3B1cCh7Im1heFdpZHRoIjogIjEwMCUifSk7CgogICAgICAgIAogICAgICAgICAgICB2YXIgaHRtbF9jM2FhNWRjYjU0NmY0MmFlYWYyM2Q4YjU5NTNiODliNSA9ICQoYDxkaXYgaWQ9Imh0bWxfYzNhYTVkY2I1NDZmNDJhZWFmMjNkOGI1OTUzYjg5YjUiIHN0eWxlPSJ3aWR0aDogMTAwLjAlOyBoZWlnaHQ6IDEwMC4wJTsiPktVIExldXZlbjwvZGl2PmApWzBdOwogICAgICAgICAgICBwb3B1cF82Zjg0M2M4ZGIyNDM0NGY1ODY0ODE2ODA0YWIwMmU2MC5zZXRDb250ZW50KGh0bWxfYzNhYTVkY2I1NDZmNDJhZWFmMjNkOGI1OTUzYjg5YjUpOwogICAgICAgIAoKICAgICAgICBtYXJrZXJfZjBhNDJkM2Y2OTZmNDU2Njk5ZjlmNjQwZDJhMmJkODIuYmluZFBvcHVwKHBvcHVwXzZmODQzYzhkYjI0MzQ0ZjU4NjQ4MTY4MDRhYjAyZTYwKQogICAgICAgIDsKCiAgICAgICAgCiAgICAKICAgIAogICAgICAgICAgICB2YXIgbWFya2VyX2JlMWM3MzBkOGVjNTQ2MTg5ZmE2NDBhZTY4YzMzMWMwID0gTC5tYXJrZXIoCiAgICAgICAgICAgICAgICBbNTMuNDczOTYyNDUsIC0yLjIzNTExODY2OTY2MzI1NzJdLAogICAgICAgICAgICAgICAge30KICAgICAgICAgICAgKS5hZGRUbyhtYXBfZjdmOTc1MmMwMmQ4NDIwMmJkNGMyMGRlNTUyOWU2ZTQpOwogICAgICAgIAogICAgCiAgICAgICAgdmFyIHBvcHVwX2E3OGE0NDE0YjJmYzQyYjJiYjFlZjM5MWEzYzhmMjVmID0gTC5wb3B1cCh7Im1heFdpZHRoIjogIjEwMCUifSk7CgogICAgICAgIAogICAgICAgICAgICB2YXIgaHRtbF81YjQ4NWViM2ZjNWE0YTBlYjBiODgzMGNlNmE1MTkzYyA9ICQoYDxkaXYgaWQ9Imh0bWxfNWI0ODVlYjNmYzVhNGEwZWIwYjg4MzBjZTZhNTE5M2MiIHN0eWxlPSJ3aWR0aDogMTAwLjAlOyBoZWlnaHQ6IDEwMC4wJTsiPlVuaXZlcnNpdHkgb2YgTWFuY2hlc3RlcjwvZGl2PmApWzBdOwogICAgICAgICAgICBwb3B1cF9hNzhhNDQxNGIyZmM0MmIyYmIxZWYzOTFhM2M4ZjI1Zi5zZXRDb250ZW50KGh0bWxfNWI0ODVlYjNmYzVhNGEwZWIwYjg4MzBjZTZhNTE5M2MpOwogICAgICAgIAoKICAgICAgICBtYXJrZXJfYmUxYzczMGQ4ZWM1NDYxODlmYTY0MGFlNjhjMzMxYzAuYmluZFBvcHVwKHBvcHVwX2E3OGE0NDE0YjJmYzQyYjJiYjFlZjM5MWEzYzhmMjVmKQogICAgICAgIDsKCiAgICAgICAgCiAgICAKICAgIAogICAgICAgICAgICB2YXIgbWFya2VyX2E0ZjkzMTAxZjE3NjRmMDQ4YTUyNGRiNWYyMGE1YTFlID0gTC5tYXJrZXIoCiAgICAgICAgICAgICAgICBbNTEuOTk4ODI3MzUsIDQuMzczOTYwMzY4MTU0MDQxXSwKICAgICAgICAgICAgICAgIHt9CiAgICAgICAgICAgICkuYWRkVG8obWFwX2Y3Zjk3NTJjMDJkODQyMDJiZDRjMjBkZTU1MjllNmU0KTsKICAgICAgICAKICAgIAogICAgICAgIHZhciBwb3B1cF80NzlhYzg2N2RkMTE0ZjQyOTM4ZjUwMzQ5ZTg1ZTM4ZCA9IEwucG9wdXAoeyJtYXhXaWR0aCI6ICIxMDAlIn0pOwoKICAgICAgICAKICAgICAgICAgICAgdmFyIGh0bWxfMDcwNGQ4OTFjOTE5NGRlODhlNjk0YmI4NmRlZDZjM2MgPSAkKGA8ZGl2IGlkPSJodG1sXzA3MDRkODkxYzkxOTRkZTg4ZTY5NGJiODZkZWQ2YzNjIiBzdHlsZT0id2lkdGg6IDEwMC4wJTsgaGVpZ2h0OiAxMDAuMCU7Ij5EZWxmdCBVbml2ZXJzaXR5IG9mIFRlY2hub2xvZ3k8L2Rpdj5gKVswXTsKICAgICAgICAgICAgcG9wdXBfNDc5YWM4NjdkZDExNGY0MjkzOGY1MDM0OWU4NWUzOGQuc2V0Q29udGVudChodG1sXzA3MDRkODkxYzkxOTRkZTg4ZTY5NGJiODZkZWQ2YzNjKTsKICAgICAgICAKCiAgICAgICAgbWFya2VyX2E0ZjkzMTAxZjE3NjRmMDQ4YTUyNGRiNWYyMGE1YTFlLmJpbmRQb3B1cChwb3B1cF80NzlhYzg2N2RkMTE0ZjQyOTM4ZjUwMzQ5ZTg1ZTM4ZCkKICAgICAgICA7CgogICAgICAgIAogICAgCiAgICAKICAgICAgICAgICAgdmFyIG1hcmtlcl9jYjQxMzk4ZTk5ZTI0OWFjYWE4NmM4MThmNTQzODY3MyA9IEwubWFya2VyKAogICAgICAgICAgICAgICAgWzUxLjk4NTI4MTM0OTk5OTk5NCwgNS42NjI4NzA4MjkyMjgwNF0sCiAgICAgICAgICAgICAgICB7fQogICAgICAgICAgICApLmFkZFRvKG1hcF9mN2Y5NzUyYzAyZDg0MjAyYmQ0YzIwZGU1NTI5ZTZlNCk7CiAgICAgICAgCiAgICAKICAgICAgICB2YXIgcG9wdXBfZmEyZmQ3MjI1OGNjNDNjZTk1Njg5NTU4MDI1ZTJhMWIgPSBMLnBvcHVwKHsibWF4V2lkdGgiOiAiMTAwJSJ9KTsKCiAgICAgICAgCiAgICAgICAgICAgIHZhciBodG1sXzJiODljNDE0NmJkOTRiNzY5ZjY3ZWVhZDM4MzFiODFiID0gJChgPGRpdiBpZD0iaHRtbF8yYjg5YzQxNDZiZDk0Yjc2OWY2N2VlYWQzODMxYjgxYiIgc3R5bGU9IndpZHRoOiAxMDAuMCU7IGhlaWdodDogMTAwLjAlOyI+V2FnZW5pbmdlbiBVbml2ZXJzaXR5ICYgUmVzZWFyY2g8L2Rpdj5gKVswXTsKICAgICAgICAgICAgcG9wdXBfZmEyZmQ3MjI1OGNjNDNjZTk1Njg5NTU4MDI1ZTJhMWIuc2V0Q29udGVudChodG1sXzJiODljNDE0NmJkOTRiNzY5ZjY3ZWVhZDM4MzFiODFiKTsKICAgICAgICAKCiAgICAgICAgbWFya2VyX2NiNDEzOThlOTllMjQ5YWNhYTg2YzgxOGY1NDM4NjczLmJpbmRQb3B1cChwb3B1cF9mYTJmZDcyMjU4Y2M0M2NlOTU2ODk1NTgwMjVlMmExYikKICAgICAgICA7CgogICAgICAgIAogICAgCiAgICAKICAgICAgICAgICAgdmFyIG1hcmtlcl8yOWZjNzI4NTVlODA0MGI0OWMxN2U2YThiZDliN2MzNiA9IEwubWFya2VyKAogICAgICAgICAgICAgICAgWzUyLjM1NTA1MzIsIDQuOTUwOTc4MzVdLAogICAgICAgICAgICAgICAge30KICAgICAgICAgICAgKS5hZGRUbyhtYXBfZjdmOTc1MmMwMmQ4NDIwMmJkNGMyMGRlNTUyOWU2ZTQpOwogICAgICAgIAogICAgCiAgICAgICAgdmFyIHBvcHVwXzkyNmVkMTIwMjk5MjRlODY5N2ExN2M3MWE2OWEzODEyID0gTC5wb3B1cCh7Im1heFdpZHRoIjogIjEwMCUifSk7CgogICAgICAgIAogICAgICAgICAgICB2YXIgaHRtbF9mNmY0ZDQxNzYxZDM0Y2QwYTE2ODU2ZDJhYmI5OWY1NiA9ICQoYDxkaXYgaWQ9Imh0bWxfZjZmNGQ0MTc2MWQzNGNkMGExNjg1NmQyYWJiOTlmNTYiIHN0eWxlPSJ3aWR0aDogMTAwLjAlOyBoZWlnaHQ6IDEwMC4wJTsiPlVuaXZlcnNpdHkgb2YgQW1zdGVyZGFtPC9kaXY+YClbMF07CiAgICAgICAgICAgIHBvcHVwXzkyNmVkMTIwMjk5MjRlODY5N2ExN2M3MWE2OWEzODEyLnNldENvbnRlbnQoaHRtbF9mNmY0ZDQxNzYxZDM0Y2QwYTE2ODU2ZDJhYmI5OWY1Nik7CiAgICAgICAgCgogICAgICAgIG1hcmtlcl8yOWZjNzI4NTVlODA0MGI0OWMxN2U2YThiZDliN2MzNi5iaW5kUG9wdXAocG9wdXBfOTI2ZWQxMjAyOTkyNGU4Njk3YTE3YzcxYTY5YTM4MTIpCiAgICAgICAgOwoKICAgICAgICAKICAgIAogICAgCiAgICAgICAgICAgIHZhciBtYXJrZXJfOWY0Y2Y0ODI5YzU1NGY2NWI2ZjQ1MWEyMjZjNThlZTEgPSBMLm1hcmtlcigKICAgICAgICAgICAgICAgIFs1Mi41MTg1ODE0NSwgMTMuMzkyODc4NDAyNDUwNDJdLAogICAgICAgICAgICAgICAge30KICAgICAgICAgICAgKS5hZGRUbyhtYXBfZjdmOTc1MmMwMmQ4NDIwMmJkNGMyMGRlNTUyOWU2ZTQpOwogICAgICAgIAogICAgCiAgICAgICAgdmFyIHBvcHVwXzM4YTAxOTNiYWM1OTRhNzhiMDBkNTY0NDk0MWQ3NWZiID0gTC5wb3B1cCh7Im1heFdpZHRoIjogIjEwMCUifSk7CgogICAgICAgIAogICAgICAgICAgICB2YXIgaHRtbF9kN2Q3NDllY2MyOTM0ZTI3ODI4YmM1MWFhZGQ3ZTdjMyA9ICQoYDxkaXYgaWQ9Imh0bWxfZDdkNzQ5ZWNjMjkzNGUyNzgyOGJjNTFhYWRkN2U3YzMiIHN0eWxlPSJ3aWR0aDogMTAwLjAlOyBoZWlnaHQ6IDEwMC4wJTsiPkh1bWJvbGR0IFVuaXZlcnNpdHkgb2YgQmVybGluPC9kaXY+YClbMF07CiAgICAgICAgICAgIHBvcHVwXzM4YTAxOTNiYWM1OTRhNzhiMDBkNTY0NDk0MWQ3NWZiLnNldENvbnRlbnQoaHRtbF9kN2Q3NDllY2MyOTM0ZTI3ODI4YmM1MWFhZGQ3ZTdjMyk7CiAgICAgICAgCgogICAgICAgIG1hcmtlcl85ZjRjZjQ4MjljNTU0ZjY1YjZmNDUxYTIyNmM1OGVlMS5iaW5kUG9wdXAocG9wdXBfMzhhMDE5M2JhYzU5NGE3OGIwMGQ1NjQ0OTQxZDc1ZmIpCiAgICAgICAgOwoKICAgICAgICAKICAgIAogICAgCiAgICAgICAgICAgIHZhciBtYXJrZXJfN2ZiMGJhNDY2MWMxNGUxNDliMWI4MDEwYmM3OWM1NDAgPSBMLm1hcmtlcigKICAgICAgICAgICAgICAgIFs1Mi4xNjg2MzY2NDk5OTk5OTYsIDQuNDU5NzQ3OTEyNzQxNzgxXSwKICAgICAgICAgICAgICAgIHt9CiAgICAgICAgICAgICkuYWRkVG8obWFwX2Y3Zjk3NTJjMDJkODQyMDJiZDRjMjBkZTU1MjllNmU0KTsKICAgICAgICAKICAgIAogICAgICAgIHZhciBwb3B1cF81YTNiMjEwZjRjNWI0YjFjOTY2NjMxMTE2ZWM4YTQ3YiA9IEwucG9wdXAoeyJtYXhXaWR0aCI6ICIxMDAlIn0pOwoKICAgICAgICAKICAgICAgICAgICAgdmFyIGh0bWxfYTk0ZGMzOGIyZmZiNDVkOWIyNTMyYmFkOWIwNzE3ZWUgPSAkKGA8ZGl2IGlkPSJodG1sX2E5NGRjMzhiMmZmYjQ1ZDliMjUzMmJhZDliMDcxN2VlIiBzdHlsZT0id2lkdGg6IDEwMC4wJTsgaGVpZ2h0OiAxMDAuMCU7Ij5MZWlkZW4gVW5pdmVyc2l0eTwvZGl2PmApWzBdOwogICAgICAgICAgICBwb3B1cF81YTNiMjEwZjRjNWI0YjFjOTY2NjMxMTE2ZWM4YTQ3Yi5zZXRDb250ZW50KGh0bWxfYTk0ZGMzOGIyZmZiNDVkOWIyNTMyYmFkOWIwNzE3ZWUpOwogICAgICAgIAoKICAgICAgICBtYXJrZXJfN2ZiMGJhNDY2MWMxNGUxNDliMWI4MDEwYmM3OWM1NDAuYmluZFBvcHVwKHBvcHVwXzVhM2IyMTBmNGM1YjRiMWM5NjY2MzExMTZlYzhhNDdiKQogICAgICAgIDsKCiAgICAgICAgCiAgICAKICAgIAogICAgICAgICAgICB2YXIgbWFya2VyX2ZjYTU1YWQ1MzY4YzQ3YThiZjk2M2UyYTAwOTM1NWZiID0gTC5tYXJrZXIoCiAgICAgICAgICAgICAgICBbNTEuOTIyODY5NiwgNC40ODc0OTg1Njg1MjgzNjZdLAogICAgICAgICAgICAgICAge30KICAgICAgICAgICAgKS5hZGRUbyhtYXBfZjdmOTc1MmMwMmQ4NDIwMmJkNGMyMGRlNTUyOWU2ZTQpOwogICAgICAgIAogICAgCiAgICAgICAgdmFyIHBvcHVwX2E5YzY4ZDg0ZjFlYzRjNGFhOWQ4MmNlYzAwZjNkNzRkID0gTC5wb3B1cCh7Im1heFdpZHRoIjogIjEwMCUifSk7CgogICAgICAgIAogICAgICAgICAgICB2YXIgaHRtbF8yYzcwYTUyZDE0N2I0Y2I5OTUwYmVlNmNmY2M2MzgxNCA9ICQoYDxkaXYgaWQ9Imh0bWxfMmM3MGE1MmQxNDdiNGNiOTk1MGJlZTZjZmNjNjM4MTQiIHN0eWxlPSJ3aWR0aDogMTAwLjAlOyBoZWlnaHQ6IDEwMC4wJTsiPkVyYXNtdXMgVW5pdmVyc2l0eSBSb3R0ZXJkYW08L2Rpdj5gKVswXTsKICAgICAgICAgICAgcG9wdXBfYTljNjhkODRmMWVjNGM0YWE5ZDgyY2VjMDBmM2Q3NGQuc2V0Q29udGVudChodG1sXzJjNzBhNTJkMTQ3YjRjYjk5NTBiZWU2Y2ZjYzYzODE0KTsKICAgICAgICAKCiAgICAgICAgbWFya2VyX2ZjYTU1YWQ1MzY4YzQ3YThiZjk2M2UyYTAwOTM1NWZiLmJpbmRQb3B1cChwb3B1cF9hOWM2OGQ4NGYxZWM0YzRhYTlkODJjZWMwMGYzZDc0ZCkKICAgICAgICA7CgogICAgICAgIAogICAgCiAgICAKICAgICAgICAgICAgdmFyIG1hcmtlcl9kZThhNjk5NWFlMjE0OTA3OTgyNWJmNmU5NjcxZDA5MCA9IEwubWFya2VyKAogICAgICAgICAgICAgICAgWzQ4Ljg0Njg5OTY5OTk5OTk5NCwgMi4zNTc0NDg2NTMxMTU4NzVdLAogICAgICAgICAgICAgICAge30KICAgICAgICAgICAgKS5hZGRUbyhtYXBfZjdmOTc1MmMwMmQ4NDIwMmJkNGMyMGRlNTUyOWU2ZTQpOwogICAgICAgIAogICAgCiAgICAgICAgdmFyIHBvcHVwX2I4YzgzOGRkMTZkMjQ4ZDNiNDAwNmRmYTE2ZDcxNjdkID0gTC5wb3B1cCh7Im1heFdpZHRoIjogIjEwMCUifSk7CgogICAgICAgIAogICAgICAgICAgICB2YXIgaHRtbF81ZTE5M2M3NjNjYTE0ZWM3YmFlODBkYWNjODhkOTVlYyA9ICQoYDxkaXYgaWQ9Imh0bWxfNWUxOTNjNzYzY2ExNGVjN2JhZTgwZGFjYzg4ZDk1ZWMiIHN0eWxlPSJ3aWR0aDogMTAwLjAlOyBoZWlnaHQ6IDEwMC4wJTsiPlNvcmJvbm5lIFVuaXZlcnNpdHk8L2Rpdj5gKVswXTsKICAgICAgICAgICAgcG9wdXBfYjhjODM4ZGQxNmQyNDhkM2I0MDA2ZGZhMTZkNzE2N2Quc2V0Q29udGVudChodG1sXzVlMTkzYzc2M2NhMTRlYzdiYWU4MGRhY2M4OGQ5NWVjKTsKICAgICAgICAKCiAgICAgICAgbWFya2VyX2RlOGE2OTk1YWUyMTQ5MDc5ODI1YmY2ZTk2NzFkMDkwLmJpbmRQb3B1cChwb3B1cF9iOGM4MzhkZDE2ZDI0OGQzYjQwMDZkZmExNmQ3MTY3ZCkKICAgICAgICA7CgogICAgICAgIAogICAgCiAgICAKICAgICAgICAgICAgdmFyIG1hcmtlcl8yMjUwMWY3MzljMGM0NzhiODI1YzYxNGVhNTg3ZTMzOSA9IEwubWFya2VyKAogICAgICAgICAgICAgICAgWzUyLjA4NTE2MjMsIDUuMTc0MTA2NF0sCiAgICAgICAgICAgICAgICB7fQogICAgICAgICAgICApLmFkZFRvKG1hcF9mN2Y5NzUyYzAyZDg0MjAyYmQ0YzIwZGU1NTI5ZTZlNCk7CiAgICAgICAgCiAgICAKICAgICAgICB2YXIgcG9wdXBfMmYxZTczOTY5OTRlNGY0MDkwZWY0ZGMyN2FjZDhjZGIgPSBMLnBvcHVwKHsibWF4V2lkdGgiOiAiMTAwJSJ9KTsKCiAgICAgICAgCiAgICAgICAgICAgIHZhciBodG1sXzk4ZDcxZmE2OTcyYTQxODRiMjIyYTg2YTAzMjZlOWQ4ID0gJChgPGRpdiBpZD0iaHRtbF85OGQ3MWZhNjk3MmE0MTg0YjIyMmE4NmEwMzI2ZTlkOCIgc3R5bGU9IndpZHRoOiAxMDAuMCU7IGhlaWdodDogMTAwLjAlOyI+VXRyZWNodCBVbml2ZXJzaXR5PC9kaXY+YClbMF07CiAgICAgICAgICAgIHBvcHVwXzJmMWU3Mzk2OTk0ZTRmNDA5MGVmNGRjMjdhY2Q4Y2RiLnNldENvbnRlbnQoaHRtbF85OGQ3MWZhNjk3MmE0MTg0YjIyMmE4NmEwMzI2ZTlkOCk7CiAgICAgICAgCgogICAgICAgIG1hcmtlcl8yMjUwMWY3MzljMGM0NzhiODI1YzYxNGVhNTg3ZTMzOS5iaW5kUG9wdXAocG9wdXBfMmYxZTczOTY5OTRlNGY0MDkwZWY0ZGMyN2FjZDhjZGIpCiAgICAgICAgOwoKICAgICAgICAKICAgIAogICAgCiAgICAgICAgICAgIHZhciBtYXJrZXJfNWY5NmQyZThkN2E0NDExNThkZDVhNzM2YzA5OTU1MWEgPSBMLm1hcmtlcigKICAgICAgICAgICAgICAgIFs1MS40NTg3NDM1LCAtMi42MDM5OTddLAogICAgICAgICAgICAgICAge30KICAgICAgICAgICAgKS5hZGRUbyhtYXBfZjdmOTc1MmMwMmQ4NDIwMmJkNGMyMGRlNTUyOWU2ZTQpOwogICAgICAgIAogICAgCiAgICAgICAgdmFyIHBvcHVwXzI2OTJkNmY1ZTk2MzRlODZiZDE0YmIwZTJmNGZlOTU5ID0gTC5wb3B1cCh7Im1heFdpZHRoIjogIjEwMCUifSk7CgogICAgICAgIAogICAgICAgICAgICB2YXIgaHRtbF9mMWM4ZjQ3NmVhMzk0NmY3YjBhNjlhMDcwMzM5NWRmYyA9ICQoYDxkaXYgaWQ9Imh0bWxfZjFjOGY0NzZlYTM5NDZmN2IwYTY5YTA3MDMzOTVkZmMiIHN0eWxlPSJ3aWR0aDogMTAwLjAlOyBoZWlnaHQ6IDEwMC4wJTsiPlVuaXZlcnNpdHkgb2YgQnJpc3RvbDwvZGl2PmApWzBdOwogICAgICAgICAgICBwb3B1cF8yNjkyZDZmNWU5NjM0ZTg2YmQxNGJiMGUyZjRmZTk1OS5zZXRDb250ZW50KGh0bWxfZjFjOGY0NzZlYTM5NDZmN2IwYTY5YTA3MDMzOTVkZmMpOwogICAgICAgIAoKICAgICAgICBtYXJrZXJfNWY5NmQyZThkN2E0NDExNThkZDVhNzM2YzA5OTU1MWEuYmluZFBvcHVwKHBvcHVwXzI2OTJkNmY1ZTk2MzRlODZiZDE0YmIwZTJmNGZlOTU5KQogICAgICAgIDsKCiAgICAgICAgCiAgICAKICAgIAogICAgICAgICAgICB2YXIgbWFya2VyXzJmZWI1YThiNmY3YzQxYjhiNjgyNWZhODc2NTJiMTdhID0gTC5tYXJrZXIoCiAgICAgICAgICAgICAgICBbNTMuMjE5Njc4MjUsIDYuNTYyNTE0ODIyMDY1NDE4XSwKICAgICAgICAgICAgICAgIHt9CiAgICAgICAgICAgICkuYWRkVG8obWFwX2Y3Zjk3NTJjMDJkODQyMDJiZDRjMjBkZTU1MjllNmU0KTsKICAgICAgICAKICAgIAogICAgICAgIHZhciBwb3B1cF9iNGM5MjViOTI5OWU0ZWJjYWM3ZTQ4NDc3MzViMTRjZSA9IEwucG9wdXAoeyJtYXhXaWR0aCI6ICIxMDAlIn0pOwoKICAgICAgICAKICAgICAgICAgICAgdmFyIGh0bWxfZTAwM2YxZWEzZTdjNGIzOGFjZWYxMWRiODhjMjg1ODAgPSAkKGA8ZGl2IGlkPSJodG1sX2UwMDNmMWVhM2U3YzRiMzhhY2VmMTFkYjg4YzI4NTgwIiBzdHlsZT0id2lkdGg6IDEwMC4wJTsgaGVpZ2h0OiAxMDAuMCU7Ij5Vbml2ZXJzaXR5IG9mIEdyb25pbmdlbjwvZGl2PmApWzBdOwogICAgICAgICAgICBwb3B1cF9iNGM5MjViOTI5OWU0ZWJjYWM3ZTQ4NDc3MzViMTRjZS5zZXRDb250ZW50KGh0bWxfZTAwM2YxZWEzZTdjNGIzOGFjZWYxMWRiODhjMjg1ODApOwogICAgICAgIAoKICAgICAgICBtYXJrZXJfMmZlYjVhOGI2ZjdjNDFiOGI2ODI1ZmE4NzY1MmIxN2EuYmluZFBvcHVwKHBvcHVwX2I0YzkyNWI5Mjk5ZTRlYmNhYzdlNDg0NzczNWIxNGNlKQogICAgICAgIDsKCiAgICAgICAgCiAgICAKICAgIAogICAgICAgICAgICB2YXIgbWFya2VyXzg0YWU3MTExZTk0OTQ3OTRiMGM4NWQ3ODBmYTQxMjRlID0gTC5tYXJrZXIoCiAgICAgICAgICAgICAgICBbNTIuMzgxMzA3MywgLTEuNTYzOTM2OTQ1NjY0MDUyOF0sCiAgICAgICAgICAgICAgICB7fQogICAgICAgICAgICApLmFkZFRvKG1hcF9mN2Y5NzUyYzAyZDg0MjAyYmQ0YzIwZGU1NTI5ZTZlNCk7CiAgICAgICAgCiAgICAKICAgICAgICB2YXIgcG9wdXBfZDkyY2UzMThjMWM3NDNlOTg0NTU3Njk5MWE0M2M1YTggPSBMLnBvcHVwKHsibWF4V2lkdGgiOiAiMTAwJSJ9KTsKCiAgICAgICAgCiAgICAgICAgICAgIHZhciBodG1sX2Y3YzNhMmZkZWJkMzRlOWZhOTY4MWJlZmIzNWVlOTljID0gJChgPGRpdiBpZD0iaHRtbF9mN2MzYTJmZGViZDM0ZTlmYTk2ODFiZWZiMzVlZTk5YyIgc3R5bGU9IndpZHRoOiAxMDAuMCU7IGhlaWdodDogMTAwLjAlOyI+VW5pdmVyc2l0eSBvZiBXYXJ3aWNrPC9kaXY+YClbMF07CiAgICAgICAgICAgIHBvcHVwX2Q5MmNlMzE4YzFjNzQzZTk4NDU1NzY5OTFhNDNjNWE4LnNldENvbnRlbnQoaHRtbF9mN2MzYTJmZGViZDM0ZTlmYTk2ODFiZWZiMzVlZTk5Yyk7CiAgICAgICAgCgogICAgICAgIG1hcmtlcl84NGFlNzExMWU5NDk0Nzk0YjBjODVkNzgwZmE0MTI0ZS5iaW5kUG9wdXAocG9wdXBfZDkyY2UzMThjMWM3NDNlOTg0NTU3Njk5MWE0M2M1YTgpCiAgICAgICAgOwoKICAgICAgICAKICAgIAogICAgCiAgICAgICAgICAgIHZhciBtYXJrZXJfYzY0N2YwM2UzNDZiNDZhZmJlOTFmNGM4YTM5MDI4NjUgPSBMLm1hcmtlcigKICAgICAgICAgICAgICAgIFs1MC43NzkxNzAzMDAwMDAwMDQsIDYuMDY4OTIwNzk5MDA4ODI5XSwKICAgICAgICAgICAgICAgIHt9CiAgICAgICAgICAgICkuYWRkVG8obWFwX2Y3Zjk3NTJjMDJkODQyMDJiZDRjMjBkZTU1MjllNmU0KTsKICAgICAgICAKICAgIAogICAgICAgIHZhciBwb3B1cF9iOTQ3ZGU3ZTA2Y2M0NzE4YmU0NDViN2FlZGM3N2ViMyA9IEwucG9wdXAoeyJtYXhXaWR0aCI6ICIxMDAlIn0pOwoKICAgICAgICAKICAgICAgICAgICAgdmFyIGh0bWxfNWM3MDUwZmEwYWRjNGUwMmJiNmM5Y2M2MzI4ZWQwYmUgPSAkKGA8ZGl2IGlkPSJodG1sXzVjNzA1MGZhMGFkYzRlMDJiYjZjOWNjNjMyOGVkMGJlIiBzdHlsZT0id2lkdGg6IDEwMC4wJTsgaGVpZ2h0OiAxMDAuMCU7Ij5SV1RIIEFhY2hlbiBVbml2ZXJzaXR5PC9kaXY+YClbMF07CiAgICAgICAgICAgIHBvcHVwX2I5NDdkZTdlMDZjYzQ3MThiZTQ0NWI3YWVkYzc3ZWIzLnNldENvbnRlbnQoaHRtbF81YzcwNTBmYTBhZGM0ZTAyYmI2YzljYzYzMjhlZDBiZSk7CiAgICAgICAgCgogICAgICAgIG1hcmtlcl9jNjQ3ZjAzZTM0NmI0NmFmYmU5MWY0YzhhMzkwMjg2NS5iaW5kUG9wdXAocG9wdXBfYjk0N2RlN2UwNmNjNDcxOGJlNDQ1YjdhZWRjNzdlYjMpCiAgICAgICAgOwoKICAgICAgICAKICAgIAogICAgCiAgICAgICAgICAgIHZhciBtYXJrZXJfZDJiNWE0ZjE0Yzk2NGM2Mjg4YzM2MjdmNjQ3ZDkzMGEgPSBMLm1hcmtlcigKICAgICAgICAgICAgICAgIFs1OS44NTE5NDI0LCAxNy42OTU2OTg1XSwKICAgICAgICAgICAgICAgIHt9CiAgICAgICAgICAgICkuYWRkVG8obWFwX2Y3Zjk3NTJjMDJkODQyMDJiZDRjMjBkZTU1MjllNmU0KTsKICAgICAgICAKICAgIAogICAgICAgIHZhciBwb3B1cF82M2MxM2VkOTkwNGY0ZTY0YTU0ZTI4ZmUxZjU1MzU2YyA9IEwucG9wdXAoeyJtYXhXaWR0aCI6ICIxMDAlIn0pOwoKICAgICAgICAKICAgICAgICAgICAgdmFyIGh0bWxfNGVmYWM2Y2Q2ZmI3NGZjYjllMmE0NjBhZjQ3NWYxYzAgPSAkKGA8ZGl2IGlkPSJodG1sXzRlZmFjNmNkNmZiNzRmY2I5ZTJhNDYwYWY0NzVmMWMwIiBzdHlsZT0id2lkdGg6IDEwMC4wJTsgaGVpZ2h0OiAxMDAuMCU7Ij5VcHBzYWxhIFVuaXZlcnNpdHk8L2Rpdj5gKVswXTsKICAgICAgICAgICAgcG9wdXBfNjNjMTNlZDk5MDRmNGU2NGE1NGUyOGZlMWY1NTM1NmMuc2V0Q29udGVudChodG1sXzRlZmFjNmNkNmZiNzRmY2I5ZTJhNDYwYWY0NzVmMWMwKTsKICAgICAgICAKCiAgICAgICAgbWFya2VyX2QyYjVhNGYxNGM5NjRjNjI4OGMzNjI3ZjY0N2Q5MzBhLmJpbmRQb3B1cChwb3B1cF82M2MxM2VkOTkwNGY0ZTY0YTU0ZTI4ZmUxZjU1MzU2YykKICAgICAgICA7CgogICAgICAgIAogICAgCiAgICAKICAgICAgICAgICAgdmFyIG1hcmtlcl83Y2M4MWM0ODczOWE0YmUyODRkODkyMTg3YmVhYTQ4MCA9IEwubWFya2VyKAogICAgICAgICAgICAgICAgWzQ4LjUzNDA1OTQ1LCA5LjA3MTI0NDQyOTIzNDgwOF0sCiAgICAgICAgICAgICAgICB7fQogICAgICAgICAgICApLmFkZFRvKG1hcF9mN2Y5NzUyYzAyZDg0MjAyYmQ0YzIwZGU1NTI5ZTZlNCk7CiAgICAgICAgCiAgICAKICAgICAgICB2YXIgcG9wdXBfODhjMDZlZTY3MGEyNGIzNmI5NDI4Y2U0ZTZhOWU0NTkgPSBMLnBvcHVwKHsibWF4V2lkdGgiOiAiMTAwJSJ9KTsKCiAgICAgICAgCiAgICAgICAgICAgIHZhciBodG1sXzk1N2JjZDIxNDdiODQ3ODg4NWRkYzY5ZWQ5ZDBmYTc3ID0gJChgPGRpdiBpZD0iaHRtbF85NTdiY2QyMTQ3Yjg0Nzg4ODVkZGM2OWVkOWQwZmE3NyIgc3R5bGU9IndpZHRoOiAxMDAuMCU7IGhlaWdodDogMTAwLjAlOyI+VW5pdmVyc2l0eSBvZiBUw7xiaW5nZW48L2Rpdj5gKVswXTsKICAgICAgICAgICAgcG9wdXBfODhjMDZlZTY3MGEyNGIzNmI5NDI4Y2U0ZTZhOWU0NTkuc2V0Q29udGVudChodG1sXzk1N2JjZDIxNDdiODQ3ODg4NWRkYzY5ZWQ5ZDBmYTc3KTsKICAgICAgICAKCiAgICAgICAgbWFya2VyXzdjYzgxYzQ4NzM5YTRiZTI4NGQ4OTIxODdiZWFhNDgwLmJpbmRQb3B1cChwb3B1cF84OGMwNmVlNjcwYTI0YjM2Yjk0MjhjZTRlNmE5ZTQ1OSkKICAgICAgICA7CgogICAgICAgIAogICAgCiAgICAKICAgICAgICAgICAgdmFyIG1hcmtlcl82MTZjZDQ2YjFiNmI0OTM2YjZlOGVlOTdmYWRjZTk3YyA9IEwubWFya2VyKAogICAgICAgICAgICAgICAgWzUyLjUyNTg1MTI1LCAxMy4zNzc3Mzk1Nzc5MzI3MzZdLAogICAgICAgICAgICAgICAge30KICAgICAgICAgICAgKS5hZGRUbyhtYXBfZjdmOTc1MmMwMmQ4NDIwMmJkNGMyMGRlNTUyOWU2ZTQpOwogICAgICAgIAogICAgCiAgICAgICAgdmFyIHBvcHVwXzc0MTYyN2ZkOWU4MDQ2YmM5Yzc3YTkwNjI4MDRhNzVmID0gTC5wb3B1cCh7Im1heFdpZHRoIjogIjEwMCUifSk7CgogICAgICAgIAogICAgICAgICAgICB2YXIgaHRtbF82NTBlZWJlMzExZGY0NTgxOGI0YzY2ZjI0ZmQ5NDU1ZCA9ICQoYDxkaXYgaWQ9Imh0bWxfNjUwZWViZTMxMWRmNDU4MThiNGM2NmYyNGZkOTQ1NWQiIHN0eWxlPSJ3aWR0aDogMTAwLjAlOyBoZWlnaHQ6IDEwMC4wJTsiPkNoYXJpdMOpIC0gVW5pdmVyc2l0w6R0c21lZGl6aW4gQmVybGluPC9kaXY+YClbMF07CiAgICAgICAgICAgIHBvcHVwXzc0MTYyN2ZkOWU4MDQ2YmM5Yzc3YTkwNjI4MDRhNzVmLnNldENvbnRlbnQoaHRtbF82NTBlZWJlMzExZGY0NTgxOGI0YzY2ZjI0ZmQ5NDU1ZCk7CiAgICAgICAgCgogICAgICAgIG1hcmtlcl82MTZjZDQ2YjFiNmI0OTM2YjZlOGVlOTdmYWRjZTk3Yy5iaW5kUG9wdXAocG9wdXBfNzQxNjI3ZmQ5ZTgwNDZiYzljNzdhOTA2MjgwNGE3NWYpCiAgICAgICAgOwoKICAgICAgICAKICAgIAogICAgCiAgICAgICAgICAgIHZhciBtYXJrZXJfMjg0OTdkOThkZjI4NDJhZjliMTAwNTk0M2M4MDBjZGIgPSBMLm1hcmtlcigKICAgICAgICAgICAgICAgIFs0Ny40OTY4NDM0NSwgOC43Mjk4MDcxNjgwOTQ5OF0sCiAgICAgICAgICAgICAgICB7fQogICAgICAgICAgICApLmFkZFRvKG1hcF9mN2Y5NzUyYzAyZDg0MjAyYmQ0YzIwZGU1NTI5ZTZlNCk7CiAgICAgICAgCiAgICAKICAgICAgICB2YXIgcG9wdXBfY2YwYmUyNzU1MjI5NDM5NGFjOTAyYzk1NDhlZGFkYjUgPSBMLnBvcHVwKHsibWF4V2lkdGgiOiAiMTAwJSJ9KTsKCiAgICAgICAgCiAgICAgICAgICAgIHZhciBodG1sXzE3MmUyNGU1M2U1NjQzY2FhM2M2OTBiZGQ2NjJkMTliID0gJChgPGRpdiBpZD0iaHRtbF8xNzJlMjRlNTNlNTY0M2NhYTNjNjkwYmRkNjYyZDE5YiIgc3R5bGU9IndpZHRoOiAxMDAuMCU7IGhlaWdodDogMTAwLjAlOyI+VW5pdmVyc2l0eSBvZiBadXJpY2g8L2Rpdj5gKVswXTsKICAgICAgICAgICAgcG9wdXBfY2YwYmUyNzU1MjI5NDM5NGFjOTAyYzk1NDhlZGFkYjUuc2V0Q29udGVudChodG1sXzE3MmUyNGU1M2U1NjQzY2FhM2M2OTBiZGQ2NjJkMTliKTsKICAgICAgICAKCiAgICAgICAgbWFya2VyXzI4NDk3ZDk4ZGYyODQyYWY5YjEwMDU5NDNjODAwY2RiLmJpbmRQb3B1cChwb3B1cF9jZjBiZTI3NTUyMjk0Mzk0YWM5MDJjOTU0OGVkYWRiNSkKICAgICAgICA7CgogICAgICAgIAogICAgCiAgICAKICAgICAgICAgICAgdmFyIG1hcmtlcl85Zjk5OGEzYzM4YTY0ZDNmYTNkNDMxNzU5NGM3YWRiMSA9IEwubWFya2VyKAogICAgICAgICAgICAgICAgWzU1Ljg3MjMxNTM0OTk5OTk5NCwgLTQuMjg5MjE5MTEyOTgxODIzXSwKICAgICAgICAgICAgICAgIHt9CiAgICAgICAgICAgICkuYWRkVG8obWFwX2Y3Zjk3NTJjMDJkODQyMDJiZDRjMjBkZTU1MjllNmU0KTsKICAgICAgICAKICAgIAogICAgICAgIHZhciBwb3B1cF9jMzM5ZDZmNDFhY2Q0OWMwYTQ4MDk1MGE1MDlhODZhMSA9IEwucG9wdXAoeyJtYXhXaWR0aCI6ICIxMDAlIn0pOwoKICAgICAgICAKICAgICAgICAgICAgdmFyIGh0bWxfZDA5OTQyNDM4MDYyNGFjMzkwNWEzYTZhYjA4MDY0MWYgPSAkKGA8ZGl2IGlkPSJodG1sX2QwOTk0MjQzODA2MjRhYzM5MDVhM2E2YWIwODA2NDFmIiBzdHlsZT0id2lkdGg6IDEwMC4wJTsgaGVpZ2h0OiAxMDAuMCU7Ij5Vbml2ZXJzaXR5IG9mIEdsYXNnb3c8L2Rpdj5gKVswXTsKICAgICAgICAgICAgcG9wdXBfYzMzOWQ2ZjQxYWNkNDljMGE0ODA5NTBhNTA5YTg2YTEuc2V0Q29udGVudChodG1sX2QwOTk0MjQzODA2MjRhYzM5MDVhM2E2YWIwODA2NDFmKTsKICAgICAgICAKCiAgICAgICAgbWFya2VyXzlmOTk4YTNjMzhhNjRkM2ZhM2Q0MzE3NTk0YzdhZGIxLmJpbmRQb3B1cChwb3B1cF9jMzM5ZDZmNDFhY2Q0OWMwYTQ4MDk1MGE1MDlhODZhMSkKICAgICAgICA7CgogICAgICAgIAogICAgCiAgICAKICAgICAgICAgICAgdmFyIG1hcmtlcl9mODIzZTIwZmYwYTU0Yzk4YWU4OTYzZmM0YzNkNjg3NyA9IEwubWFya2VyKAogICAgICAgICAgICAgICAgWzU1LjcwNTgxMjQ0OTk5OTk5NiwgMTMuMTkzMzYxMTQ4Mjc1ODczXSwKICAgICAgICAgICAgICAgIHt9CiAgICAgICAgICAgICkuYWRkVG8obWFwX2Y3Zjk3NTJjMDJkODQyMDJiZDRjMjBkZTU1MjllNmU0KTsKICAgICAgICAKICAgIAogICAgICAgIHZhciBwb3B1cF83Mzc2NmQxOGI1MTI0MjdhODVkZmMwNWYzYTQxOTI2ZCA9IEwucG9wdXAoeyJtYXhXaWR0aCI6ICIxMDAlIn0pOwoKICAgICAgICAKICAgICAgICAgICAgdmFyIGh0bWxfZDc2OWEzMmQ3YjRkNDRmMmE3MWZjMTlhZTBlMjVjNWYgPSAkKGA8ZGl2IGlkPSJodG1sX2Q3NjlhMzJkN2I0ZDQ0ZjJhNzFmYzE5YWUwZTI1YzVmIiBzdHlsZT0id2lkdGg6IDEwMC4wJTsgaGVpZ2h0OiAxMDAuMCU7Ij5MdW5kIFVuaXZlcnNpdHk8L2Rpdj5gKVswXTsKICAgICAgICAgICAgcG9wdXBfNzM3NjZkMThiNTEyNDI3YTg1ZGZjMDVmM2E0MTkyNmQuc2V0Q29udGVudChodG1sX2Q3NjlhMzJkN2I0ZDQ0ZjJhNzFmYzE5YWUwZTI1YzVmKTsKICAgICAgICAKCiAgICAgICAgbWFya2VyX2Y4MjNlMjBmZjBhNTRjOThhZTg5NjNmYzRjM2Q2ODc3LmJpbmRQb3B1cChwb3B1cF83Mzc2NmQxOGI1MTI0MjdhODVkZmMwNWYzYTQxOTI2ZCkKICAgICAgICA7CgogICAgICAgIAogICAgCiAgICAKICAgICAgICAgICAgdmFyIG1hcmtlcl9hOTZhNGI2YjIxNjA0MWQwOTQxMDBiY2M1YjViYmNkMyA9IEwubWFya2VyKAogICAgICAgICAgICAgICAgWzYwLjE3MTAzOTMwMDAwMDAwNCwgMjQuOTQ5MTUwNDYxMTY0MzVdLAogICAgICAgICAgICAgICAge30KICAgICAgICAgICAgKS5hZGRUbyhtYXBfZjdmOTc1MmMwMmQ4NDIwMmJkNGMyMGRlNTUyOWU2ZTQpOwogICAgICAgIAogICAgCiAgICAgICAgdmFyIHBvcHVwXzAyNWEwZTg3ZDQ3NDQ3ZjE4NmY5M2Y0ODQ0MjcwZTE5ID0gTC5wb3B1cCh7Im1heFdpZHRoIjogIjEwMCUifSk7CgogICAgICAgIAogICAgICAgICAgICB2YXIgaHRtbF84MjM0MzgwMjY1ODA0MDc0YjNhNjNiZmYxMDQzNDQwZiA9ICQoYDxkaXYgaWQ9Imh0bWxfODIzNDM4MDI2NTgwNDA3NGIzYTYzYmZmMTA0MzQ0MGYiIHN0eWxlPSJ3aWR0aDogMTAwLjAlOyBoZWlnaHQ6IDEwMC4wJTsiPlVuaXZlcnNpdHkgb2YgSGVsc2lua2k8L2Rpdj5gKVswXTsKICAgICAgICAgICAgcG9wdXBfMDI1YTBlODdkNDc0NDdmMTg2ZjkzZjQ4NDQyNzBlMTkuc2V0Q29udGVudChodG1sXzgyMzQzODAyNjU4MDQwNzRiM2E2M2JmZjEwNDM0NDBmKTsKICAgICAgICAKCiAgICAgICAgbWFya2VyX2E5NmE0YjZiMjE2MDQxZDA5NDEwMGJjYzViNWJiY2QzLmJpbmRQb3B1cChwb3B1cF8wMjVhMGU4N2Q0NzQ0N2YxODZmOTNmNDg0NDI3MGUxOSkKICAgICAgICA7CgogICAgICAgIAogICAgCiAgICAKICAgICAgICAgICAgdmFyIG1hcmtlcl9lMzkwMDE2MzBlOTc0YjA0YTkzNGY5NWQ3MzUyZjRiZSA9IEwubWFya2VyKAogICAgICAgICAgICAgICAgWzQ3LjU2MTI2NTEsIDcuNTc1Mjk2MV0sCiAgICAgICAgICAgICAgICB7fQogICAgICAgICAgICApLmFkZFRvKG1hcF9mN2Y5NzUyYzAyZDg0MjAyYmQ0YzIwZGU1NTI5ZTZlNCk7CiAgICAgICAgCiAgICAKICAgICAgICB2YXIgcG9wdXBfMGZjZmM4OGJiMTQ5NDczMzg3MmRiZGQwZmU5NmRjMTMgPSBMLnBvcHVwKHsibWF4V2lkdGgiOiAiMTAwJSJ9KTsKCiAgICAgICAgCiAgICAgICAgICAgIHZhciBodG1sXzM0MjUyOTYwYzhiMDRmZGY4YTZmY2FlNzA5ZGE2ZDkxID0gJChgPGRpdiBpZD0iaHRtbF8zNDI1Mjk2MGM4YjA0ZmRmOGE2ZmNhZTcwOWRhNmQ5MSIgc3R5bGU9IndpZHRoOiAxMDAuMCU7IGhlaWdodDogMTAwLjAlOyI+VW5pdmVyc2l0eSBvZiBCYXNlbDwvZGl2PmApWzBdOwogICAgICAgICAgICBwb3B1cF8wZmNmYzg4YmIxNDk0NzMzODcyZGJkZDBmZTk2ZGMxMy5zZXRDb250ZW50KGh0bWxfMzQyNTI5NjBjOGIwNGZkZjhhNmZjYWU3MDlkYTZkOTEpOwogICAgICAgIAoKICAgICAgICBtYXJrZXJfZTM5MDAxNjMwZTk3NGIwNGE5MzRmOTVkNzM1MmY0YmUuYmluZFBvcHVwKHBvcHVwXzBmY2ZjODhiYjE0OTQ3MzM4NzJkYmRkMGZlOTZkYzEzKQogICAgICAgIDsKCiAgICAgICAgCiAgICAKICAgIAogICAgICAgICAgICB2YXIgbWFya2VyXzA5YmViZmU5YTg2NDRmOGRiNjlkMWUwODQxYjYyYTU4ID0gTC5tYXJrZXIoCiAgICAgICAgICAgICAgICBbNTMuMzgxNTI0OCwgLTEuNDgwNjgxNDI1XSwKICAgICAgICAgICAgICAgIHt9CiAgICAgICAgICAgICkuYWRkVG8obWFwX2Y3Zjk3NTJjMDJkODQyMDJiZDRjMjBkZTU1MjllNmU0KTsKICAgICAgICAKICAgIAogICAgICAgIHZhciBwb3B1cF8xYTMwNjU1ZGQwZWM0YTlhOGE4NjJkYWE4MDI3ZTRmNCA9IEwucG9wdXAoeyJtYXhXaWR0aCI6ICIxMDAlIn0pOwoKICAgICAgICAKICAgICAgICAgICAgdmFyIGh0bWxfN2M0Y2NiOGQ2ZDVjNDRmMGFkZWUyN2JmYWZhYTdjYjQgPSAkKGA8ZGl2IGlkPSJodG1sXzdjNGNjYjhkNmQ1YzQ0ZjBhZGVlMjdiZmFmYWE3Y2I0IiBzdHlsZT0id2lkdGg6IDEwMC4wJTsgaGVpZ2h0OiAxMDAuMCU7Ij5Vbml2ZXJzaXR5IG9mIFNoZWZmaWVsZDwvZGl2PmApWzBdOwogICAgICAgICAgICBwb3B1cF8xYTMwNjU1ZGQwZWM0YTlhOGE4NjJkYWE4MDI3ZTRmNC5zZXRDb250ZW50KGh0bWxfN2M0Y2NiOGQ2ZDVjNDRmMGFkZWUyN2JmYWZhYTdjYjQpOwogICAgICAgIAoKICAgICAgICBtYXJrZXJfMDliZWJmZTlhODY0NGY4ZGI2OWQxZTA4NDFiNjJhNTguYmluZFBvcHVwKHBvcHVwXzFhMzA2NTVkZDBlYzRhOWE4YTg2MmRhYTgwMjdlNGY0KQogICAgICAgIDsKCiAgICAgICAgCiAgICAKICAgIAogICAgICAgICAgICB2YXIgbWFya2VyXzIyZDVkZjY0MTdjMjQ5Y2RiNmEzOTU1YWIyY2JhYjM1ID0gTC5tYXJrZXIoCiAgICAgICAgICAgICAgICBbMzYuNzIzMzU5MDUsIDMuMTUwNTkyMDgxOTIyMjczXSwKICAgICAgICAgICAgICAgIHt9CiAgICAgICAgICAgICkuYWRkVG8obWFwX2Y3Zjk3NTJjMDJkODQyMDJiZDRjMjBkZTU1MjllNmU0KTsKICAgICAgICAKICAgIAogICAgICAgIHZhciBwb3B1cF8yY2M0MDQxMzFiZTU0MjhhYWVmZTk2YTI5OTdhOWJhNCA9IEwucG9wdXAoeyJtYXhXaWR0aCI6ICIxMDAlIn0pOwoKICAgICAgICAKICAgICAgICAgICAgdmFyIGh0bWxfYmM3MGJkY2U4ZTZmNDk5MDlmYTc3NDMwMTEwZjM1MzQgPSAkKGA8ZGl2IGlkPSJodG1sX2JjNzBiZGNlOGU2ZjQ5OTA5ZmE3NzQzMDExMGYzNTM0IiBzdHlsZT0id2lkdGg6IDEwMC4wJTsgaGVpZ2h0OiAxMDAuMCU7Ij7DiWNvbGUgUG9seXRlY2huaXF1ZTwvZGl2PmApWzBdOwogICAgICAgICAgICBwb3B1cF8yY2M0MDQxMzFiZTU0MjhhYWVmZTk2YTI5OTdhOWJhNC5zZXRDb250ZW50KGh0bWxfYmM3MGJkY2U4ZTZmNDk5MDlmYTc3NDMwMTEwZjM1MzQpOwogICAgICAgIAoKICAgICAgICBtYXJrZXJfMjJkNWRmNjQxN2MyNDljZGI2YTM5NTVhYjJjYmFiMzUuYmluZFBvcHVwKHBvcHVwXzJjYzQwNDEzMWJlNTQyOGFhZWZlOTZhMjk5N2E5YmE0KQogICAgICAgIDsKCiAgICAgICAgCiAgICAKICAgIAogICAgICAgICAgICB2YXIgbWFya2VyX2IyODhlMjYyM2ZkZTQ2MzliNWZkNjBkNjczYjlhNmRkID0gTC5tYXJrZXIoCiAgICAgICAgICAgICAgICBbNDYuOTUwOTAyMywgNy40Mzg2NzYyMzk3MDQxNjJdLAogICAgICAgICAgICAgICAge30KICAgICAgICAgICAgKS5hZGRUbyhtYXBfZjdmOTc1MmMwMmQ4NDIwMmJkNGMyMGRlNTUyOWU2ZTQpOwogICAgICAgIAogICAgCiAgICAgICAgdmFyIHBvcHVwXzg3Zjg1M2E4NzVhMTQzYzRhM2Q4YThjYjI2YzFmZDM5ID0gTC5wb3B1cCh7Im1heFdpZHRoIjogIjEwMCUifSk7CgogICAgICAgIAogICAgICAgICAgICB2YXIgaHRtbF8wN2YxOWQ0Y2IwMDM0Y2ZmYTY3NjQxY2NiM2NmYzQ2YSA9ICQoYDxkaXYgaWQ9Imh0bWxfMDdmMTlkNGNiMDAzNGNmZmE2NzY0MWNjYjNjZmM0NmEiIHN0eWxlPSJ3aWR0aDogMTAwLjAlOyBoZWlnaHQ6IDEwMC4wJTsiPlVuaXZlcnNpdHkgb2YgQmVybjwvZGl2PmApWzBdOwogICAgICAgICAgICBwb3B1cF84N2Y4NTNhODc1YTE0M2M0YTNkOGE4Y2IyNmMxZmQzOS5zZXRDb250ZW50KGh0bWxfMDdmMTlkNGNiMDAzNGNmZmE2NzY0MWNjYjNjZmM0NmEpOwogICAgICAgIAoKICAgICAgICBtYXJrZXJfYjI4OGUyNjIzZmRlNDYzOWI1ZmQ2MGQ2NzNiOWE2ZGQuYmluZFBvcHVwKHBvcHVwXzg3Zjg1M2E4NzVhMTQzYzRhM2Q4YThjYjI2YzFmZDM5KQogICAgICAgIDsKCiAgICAgICAgCiAgICAKICAgIAogICAgICAgICAgICB2YXIgbWFya2VyX2ViMGU1ODM0ZGFhMzRlMTNhMWNjN2M4NDExMzRjOGE5ID0gTC5tYXJrZXIoCiAgICAgICAgICAgICAgICBbNTAuNzMzODEyNCwgNy4xMDIyNDY1XSwKICAgICAgICAgICAgICAgIHt9CiAgICAgICAgICAgICkuYWRkVG8obWFwX2Y3Zjk3NTJjMDJkODQyMDJiZDRjMjBkZTU1MjllNmU0KTsKICAgICAgICAKICAgIAogICAgICAgIHZhciBwb3B1cF81MDA1NmNlMTM3NGE0MDVmOWIyMWY0ODNiY2RkYmVkYiA9IEwucG9wdXAoeyJtYXhXaWR0aCI6ICIxMDAlIn0pOwoKICAgICAgICAKICAgICAgICAgICAgdmFyIGh0bWxfYmMyODk1MzYwZTgyNDE3MTgwMWEzZjllM2M2YTExZjEgPSAkKGA8ZGl2IGlkPSJodG1sX2JjMjg5NTM2MGU4MjQxNzE4MDFhM2Y5ZTNjNmExMWYxIiBzdHlsZT0id2lkdGg6IDEwMC4wJTsgaGVpZ2h0OiAxMDAuMCU7Ij5Vbml2ZXJzaXR5IG9mIEJvbm48L2Rpdj5gKVswXTsKICAgICAgICAgICAgcG9wdXBfNTAwNTZjZTEzNzRhNDA1ZjliMjFmNDgzYmNkZGJlZGIuc2V0Q29udGVudChodG1sX2JjMjg5NTM2MGU4MjQxNzE4MDFhM2Y5ZTNjNmExMWYxKTsKICAgICAgICAKCiAgICAgICAgbWFya2VyX2ViMGU1ODM0ZGFhMzRlMTNhMWNjN2M4NDExMzRjOGE5LmJpbmRQb3B1cChwb3B1cF81MDA1NmNlMTM3NGE0MDVmOWIyMWY0ODNiY2RkYmVkYikKICAgICAgICA7CgogICAgICAgIAogICAgCiAgICAKICAgICAgICAgICAgdmFyIG1hcmtlcl8zYTcyOGFkMGQwOGM0ZjM4YTA1NDg4YzVkNDZmNDE0ZCA9IEwubWFya2VyKAogICAgICAgICAgICAgICAgWzU0Ljc2ODYzMzcsIC0xLjU3MjA4OTRdLAogICAgICAgICAgICAgICAge30KICAgICAgICAgICAgKS5hZGRUbyhtYXBfZjdmOTc1MmMwMmQ4NDIwMmJkNGMyMGRlNTUyOWU2ZTQpOwogICAgICAgIAogICAgCiAgICAgICAgdmFyIHBvcHVwXzA0YTViNDMyODdhODRhYTNhNmY4OWNkY2UyNmE5YTgxID0gTC5wb3B1cCh7Im1heFdpZHRoIjogIjEwMCUifSk7CgogICAgICAgIAogICAgICAgICAgICB2YXIgaHRtbF8yMjYzZWUwMGExZjk0NzkwYjk5ZTIzMTk2ZDhjODYyNCA9ICQoYDxkaXYgaWQ9Imh0bWxfMjI2M2VlMDBhMWY5NDc5MGI5OWUyMzE5NmQ4Yzg2MjQiIHN0eWxlPSJ3aWR0aDogMTAwLjAlOyBoZWlnaHQ6IDEwMC4wJTsiPkR1cmhhbSBVbml2ZXJzaXR5PC9kaXY+YClbMF07CiAgICAgICAgICAgIHBvcHVwXzA0YTViNDMyODdhODRhYTNhNmY4OWNkY2UyNmE5YTgxLnNldENvbnRlbnQoaHRtbF8yMjYzZWUwMGExZjk0NzkwYjk5ZTIzMTk2ZDhjODYyNCk7CiAgICAgICAgCgogICAgICAgIG1hcmtlcl8zYTcyOGFkMGQwOGM0ZjM4YTA1NDg4YzVkNDZmNDE0ZC5iaW5kUG9wdXAocG9wdXBfMDRhNWI0MzI4N2E4NGFhM2E2Zjg5Y2RjZTI2YTlhODEpCiAgICAgICAgOwoKICAgICAgICAKICAgIAogICAgCiAgICAgICAgICAgIHZhciBtYXJrZXJfNmEwYWM0YWNmOTUwNDE2ZDg3MjAxYjhiNzY0ZTdmY2YgPSBMLm1hcmtlcigKICAgICAgICAgICAgICAgIFs1Mi40NTAzMTI5LCAtMS45Mjk2NDAyXSwKICAgICAgICAgICAgICAgIHt9CiAgICAgICAgICAgICkuYWRkVG8obWFwX2Y3Zjk3NTJjMDJkODQyMDJiZDRjMjBkZTU1MjllNmU0KTsKICAgICAgICAKICAgIAogICAgICAgIHZhciBwb3B1cF9lYjkwYjk1NmQwOTA0NWEyOTU3NDg5MDRmNTkwNThjMyA9IEwucG9wdXAoeyJtYXhXaWR0aCI6ICIxMDAlIn0pOwoKICAgICAgICAKICAgICAgICAgICAgdmFyIGh0bWxfMDZmOTQyNDdkYjI4NGFmNmFhZmE0ZWQzMjM5Yzg5M2QgPSAkKGA8ZGl2IGlkPSJodG1sXzA2Zjk0MjQ3ZGIyODRhZjZhYWZhNGVkMzIzOWM4OTNkIiBzdHlsZT0id2lkdGg6IDEwMC4wJTsgaGVpZ2h0OiAxMDAuMCU7Ij5Vbml2ZXJzaXR5IG9mIEJpcm1pbmdoYW08L2Rpdj5gKVswXTsKICAgICAgICAgICAgcG9wdXBfZWI5MGI5NTZkMDkwNDVhMjk1NzQ4OTA0ZjU5MDU4YzMuc2V0Q29udGVudChodG1sXzA2Zjk0MjQ3ZGIyODRhZjZhYWZhNGVkMzIzOWM4OTNkKTsKICAgICAgICAKCiAgICAgICAgbWFya2VyXzZhMGFjNGFjZjk1MDQxNmQ4NzIwMWI4Yjc2NGU3ZmNmLmJpbmRQb3B1cChwb3B1cF9lYjkwYjk1NmQwOTA0NWEyOTU3NDg5MDRmNTkwNThjMykKICAgICAgICA7CgogICAgICAgIAogICAgCiAgICAKICAgICAgICAgICAgdmFyIG1hcmtlcl84MGI4Y2E2YzdmNzQ0MmNhOWIwOGI5N2U3YjNmOGNiMSA9IEwubWFya2VyKAogICAgICAgICAgICAgICAgWzU1LjY4MDE1MDIsIDEyLjU3MjMyNzAwMTQwNjI1XSwKICAgICAgICAgICAgICAgIHt9CiAgICAgICAgICAgICkuYWRkVG8obWFwX2Y3Zjk3NTJjMDJkODQyMDJiZDRjMjBkZTU1MjllNmU0KTsKICAgICAgICAKICAgIAogICAgICAgIHZhciBwb3B1cF8yYTQzZmFkZjNiZjE0ZDViOGFjOTFlODJjMDBmMmJkOCA9IEwucG9wdXAoeyJtYXhXaWR0aCI6ICIxMDAlIn0pOwoKICAgICAgICAKICAgICAgICAgICAgdmFyIGh0bWxfYWYwNzc3YmJkYTMyNDEwNGI5ZWRlZWI5NjA1MjI2ZjggPSAkKGA8ZGl2IGlkPSJodG1sX2FmMDc3N2JiZGEzMjQxMDRiOWVkZWViOTYwNTIyNmY4IiBzdHlsZT0id2lkdGg6IDEwMC4wJTsgaGVpZ2h0OiAxMDAuMCU7Ij5Vbml2ZXJzaXR5IG9mIENvcGVuaGFnZW48L2Rpdj5gKVswXTsKICAgICAgICAgICAgcG9wdXBfMmE0M2ZhZGYzYmYxNGQ1YjhhYzkxZTgyYzAwZjJiZDguc2V0Q29udGVudChodG1sX2FmMDc3N2JiZGEzMjQxMDRiOWVkZWViOTYwNTIyNmY4KTsKICAgICAgICAKCiAgICAgICAgbWFya2VyXzgwYjhjYTZjN2Y3NDQyY2E5YjA4Yjk3ZTdiM2Y4Y2IxLmJpbmRQb3B1cChwb3B1cF8yYTQzZmFkZjNiZjE0ZDViOGFjOTFlODJjMDBmMmJkOCkKICAgICAgICA7CgogICAgICAgIAogICAgCiAgICAKICAgICAgICAgICAgdmFyIG1hcmtlcl8xMDViMmVmNmZjZTM0N2ExOThiYTdlMzk5MTZhZGRjNSA9IEwubWFya2VyKAogICAgICAgICAgICAgICAgWzEuNDI5ODkzMzUsIDEwMy42MTIyMDQ2NjY3NzkxMl0sCiAgICAgICAgICAgICAgICB7fQogICAgICAgICAgICApLmFkZFRvKG1hcF9mN2Y5NzUyYzAyZDg0MjAyYmQ0YzIwZGU1NTI5ZTZlNCk7CiAgICAgICAgCiAgICAKICAgICAgICB2YXIgcG9wdXBfN2JkODU1MWUyZGFhNDRjOGFjNWUwYzBjOGRiZjE1MjAgPSBMLnBvcHVwKHsibWF4V2lkdGgiOiAiMTAwJSJ9KTsKCiAgICAgICAgCiAgICAgICAgICAgIHZhciBodG1sX2YwZmRiMjlmZmZjODRhY2M5ZTEzMGQ3Zjc1MGQ3ODY4ID0gJChgPGRpdiBpZD0iaHRtbF9mMGZkYjI5ZmZmYzg0YWNjOWUxMzBkN2Y3NTBkNzg2OCIgc3R5bGU9IndpZHRoOiAxMDAuMCU7IGhlaWdodDogMTAwLjAlOyI+VW5pdmVyc2l0eSBvZiBTb3V0aGFtcHRvbjwvZGl2PmApWzBdOwogICAgICAgICAgICBwb3B1cF83YmQ4NTUxZTJkYWE0NGM4YWM1ZTBjMGM4ZGJmMTUyMC5zZXRDb250ZW50KGh0bWxfZjBmZGIyOWZmZmM4NGFjYzllMTMwZDdmNzUwZDc4NjgpOwogICAgICAgIAoKICAgICAgICBtYXJrZXJfMTA1YjJlZjZmY2UzNDdhMTk4YmE3ZTM5OTE2YWRkYzUuYmluZFBvcHVwKHBvcHVwXzdiZDg1NTFlMmRhYTQ0YzhhYzVlMGMwYzhkYmYxNTIwKQogICAgICAgIDsKCiAgICAgICAgCiAgICAKICAgIAogICAgICAgICAgICB2YXIgbWFya2VyX2E1YjdkZmRkMWFmODRhZTZiZWZiYTM1MjVkOWVkOTdiID0gTC5tYXJrZXIoCiAgICAgICAgICAgICAgICBbNTMuOTQ1MzkwMywgLTEuMDMxNDU5Mjk0MzEwNDY3NV0sCiAgICAgICAgICAgICAgICB7fQogICAgICAgICAgICApLmFkZFRvKG1hcF9mN2Y5NzUyYzAyZDg0MjAyYmQ0YzIwZGU1NTI5ZTZlNCk7CiAgICAgICAgCiAgICAKICAgICAgICB2YXIgcG9wdXBfODZiOThlNWU3ZmFmNGZlOTlkNWE5YjEwZjQxNGM2MjcgPSBMLnBvcHVwKHsibWF4V2lkdGgiOiAiMTAwJSJ9KTsKCiAgICAgICAgCiAgICAgICAgICAgIHZhciBodG1sXzE0MDk5MGQ5NGVmZjQwMThhNjYzM2MyNDNlMmMyYmNjID0gJChgPGRpdiBpZD0iaHRtbF8xNDA5OTBkOTRlZmY0MDE4YTY2MzNjMjQzZTJjMmJjYyIgc3R5bGU9IndpZHRoOiAxMDAuMCU7IGhlaWdodDogMTAwLjAlOyI+VW5pdmVyc2l0eSBvZiBZb3JrPC9kaXY+YClbMF07CiAgICAgICAgICAgIHBvcHVwXzg2Yjk4ZTVlN2ZhZjRmZTk5ZDVhOWIxMGY0MTRjNjI3LnNldENvbnRlbnQoaHRtbF8xNDA5OTBkOTRlZmY0MDE4YTY2MzNjMjQzZTJjMmJjYyk7CiAgICAgICAgCgogICAgICAgIG1hcmtlcl9hNWI3ZGZkZDFhZjg0YWU2YmVmYmEzNTI1ZDllZDk3Yi5iaW5kUG9wdXAocG9wdXBfODZiOThlNWU3ZmFmNGZlOTlkNWE5YjEwZjQxNGM2MjcpCiAgICAgICAgOwoKICAgICAgICAKICAgIAogICAgCiAgICAgICAgICAgIHZhciBtYXJrZXJfYTMyNzQ0ZDQ0MTQ2NDRhN2EzM2RkOWJjODkxNjAzOWEgPSBMLm1hcmtlcigKICAgICAgICAgICAgICAgIFs1My4zNDM2Njc0NSwgLTYuMjU0NDQ0NzI0NTExODIyXSwKICAgICAgICAgICAgICAgIHt9CiAgICAgICAgICAgICkuYWRkVG8obWFwX2Y3Zjk3NTJjMDJkODQyMDJiZDRjMjBkZTU1MjllNmU0KTsKICAgICAgICAKICAgIAogICAgICAgIHZhciBwb3B1cF8wZDIyODhhZjE2NjI0NzAyYmIzZGNiZjBhMmViMDM1ZCA9IEwucG9wdXAoeyJtYXhXaWR0aCI6ICIxMDAlIn0pOwoKICAgICAgICAKICAgICAgICAgICAgdmFyIGh0bWxfMjdlOTUyNzI2NmI5NDU4NDllZThmNjA4NTczNGIzYzggPSAkKGA8ZGl2IGlkPSJodG1sXzI3ZTk1MjcyNjZiOTQ1ODQ5ZWU4ZjYwODU3MzRiM2M4IiBzdHlsZT0id2lkdGg6IDEwMC4wJTsgaGVpZ2h0OiAxMDAuMCU7Ij5UcmluaXR5IENvbGxlZ2UgRHVibGluPC9kaXY+YClbMF07CiAgICAgICAgICAgIHBvcHVwXzBkMjI4OGFmMTY2MjQ3MDJiYjNkY2JmMGEyZWIwMzVkLnNldENvbnRlbnQoaHRtbF8yN2U5NTI3MjY2Yjk0NTg0OWVlOGY2MDg1NzM0YjNjOCk7CiAgICAgICAgCgogICAgICAgIG1hcmtlcl9hMzI3NDRkNDQxNDY0NGE3YTMzZGQ5YmM4OTE2MDM5YS5iaW5kUG9wdXAocG9wdXBfMGQyMjg4YWYxNjYyNDcwMmJiM2RjYmYwYTJlYjAzNWQpCiAgICAgICAgOwoKICAgICAgICAKICAgIAogICAgCiAgICAgICAgICAgIHZhciBtYXJrZXJfZTllOGFlMDNiNGUzNGY3Njg4NGE5N2YxMDViYTMxOTcgPSBMLm1hcmtlcigKICAgICAgICAgICAgICAgIFs1OS45NDEyNTExOTk5OTk5OTYsIDEwLjcyMTA2MjUxMTcxNTE5XSwKICAgICAgICAgICAgICAgIHt9CiAgICAgICAgICAgICkuYWRkVG8obWFwX2Y3Zjk3NTJjMDJkODQyMDJiZDRjMjBkZTU1MjllNmU0KTsKICAgICAgICAKICAgIAogICAgICAgIHZhciBwb3B1cF83NWVlMDYwNzEyOWM0ODM5YTc5ZTE3ZWEyNGU2ZmZjZiA9IEwucG9wdXAoeyJtYXhXaWR0aCI6ICIxMDAlIn0pOwoKICAgICAgICAKICAgICAgICAgICAgdmFyIGh0bWxfMmRmZGFiODE2Y2JjNGFjNDgwZWUyNjRlYWJiZDdhNWMgPSAkKGA8ZGl2IGlkPSJodG1sXzJkZmRhYjgxNmNiYzRhYzQ4MGVlMjY0ZWFiYmQ3YTVjIiBzdHlsZT0id2lkdGg6IDEwMC4wJTsgaGVpZ2h0OiAxMDAuMCU7Ij5Vbml2ZXJzaXR5IG9mIE9zbG88L2Rpdj5gKVswXTsKICAgICAgICAgICAgcG9wdXBfNzVlZTA2MDcxMjljNDgzOWE3OWUxN2VhMjRlNmZmY2Yuc2V0Q29udGVudChodG1sXzJkZmRhYjgxNmNiYzRhYzQ4MGVlMjY0ZWFiYmQ3YTVjKTsKICAgICAgICAKCiAgICAgICAgbWFya2VyX2U5ZThhZTAzYjRlMzRmNzY4ODRhOTdmMTA1YmEzMTk3LmJpbmRQb3B1cChwb3B1cF83NWVlMDYwNzEyOWM0ODM5YTc5ZTE3ZWEyNGU2ZmZjZikKICAgICAgICA7CgogICAgICAgIAogICAgCiAgICAKICAgICAgICAgICAgdmFyIG1hcmtlcl81NTJmMzE3MjMzYTI0ZTNiOTVhZmMyMGU0NDkxNTc5ZiA9IEwubWFya2VyKAogICAgICAgICAgICAgICAgWzU2LjE2NzIwNTIsIDEwLjIwMjYwODg3MDk2NDA3XSwKICAgICAgICAgICAgICAgIHt9CiAgICAgICAgICAgICkuYWRkVG8obWFwX2Y3Zjk3NTJjMDJkODQyMDJiZDRjMjBkZTU1MjllNmU0KTsKICAgICAgICAKICAgIAogICAgICAgIHZhciBwb3B1cF9lZWVhYWQzM2RlMzk0MmJlYjFjYzllZGMxZWJiYTYxNCA9IEwucG9wdXAoeyJtYXhXaWR0aCI6ICIxMDAlIn0pOwoKICAgICAgICAKICAgICAgICAgICAgdmFyIGh0bWxfYzc3MmI0NWQ3MzQ4NGEyODljNWExOTVjOWM0OTFlMzUgPSAkKGA8ZGl2IGlkPSJodG1sX2M3NzJiNDVkNzM0ODRhMjg5YzVhMTk1YzljNDkxZTM1IiBzdHlsZT0id2lkdGg6IDEwMC4wJTsgaGVpZ2h0OiAxMDAuMCU7Ij5BYXJodXMgVW5pdmVyc2l0eTwvZGl2PmApWzBdOwogICAgICAgICAgICBwb3B1cF9lZWVhYWQzM2RlMzk0MmJlYjFjYzllZGMxZWJiYTYxNC5zZXRDb250ZW50KGh0bWxfYzc3MmI0NWQ3MzQ4NGEyODljNWExOTVjOWM0OTFlMzUpOwogICAgICAgIAoKICAgICAgICBtYXJrZXJfNTUyZjMxNzIzM2EyNGUzYjk1YWZjMjBlNDQ5MTU3OWYuYmluZFBvcHVwKHBvcHVwX2VlZWFhZDMzZGUzOTQyYmViMWNjOWVkYzFlYmJhNjE0KQogICAgICAgIDsKCiAgICAgICAgCiAgICAKICAgIAogICAgICAgICAgICB2YXIgbWFya2VyXzBkOWIwZTVmM2E5NzRhMDM4MjBlOTVmMDY5YTBkYTc1ID0gTC5tYXJrZXIoCiAgICAgICAgICAgICAgICBbNTEuNTI4NTA3OTUwMDAwMDA1LCA5LjkzMjMyNjA0MzQ4NTYxNV0sCiAgICAgICAgICAgICAgICB7fQogICAgICAgICAgICApLmFkZFRvKG1hcF9mN2Y5NzUyYzAyZDg0MjAyYmQ0YzIwZGU1NTI5ZTZlNCk7CiAgICAgICAgCiAgICAKICAgICAgICB2YXIgcG9wdXBfOTkyYWJjNmNhZjdkNGU4YWJmNmI5ZmU0Mjg1MWYzMTggPSBMLnBvcHVwKHsibWF4V2lkdGgiOiAiMTAwJSJ9KTsKCiAgICAgICAgCiAgICAgICAgICAgIHZhciBodG1sXzZiNTFkZTcyZDgwZTQzNDA4YzBkZWIyNmRiMTlkNjBjID0gJChgPGRpdiBpZD0iaHRtbF82YjUxZGU3MmQ4MGU0MzQwOGMwZGViMjZkYjE5ZDYwYyIgc3R5bGU9IndpZHRoOiAxMDAuMCU7IGhlaWdodDogMTAwLjAlOyI+VW5pdmVyc2l0eSBvZiBHw7Z0dGluZ2VuPC9kaXY+YClbMF07CiAgICAgICAgICAgIHBvcHVwXzk5MmFiYzZjYWY3ZDRlOGFiZjZiOWZlNDI4NTFmMzE4LnNldENvbnRlbnQoaHRtbF82YjUxZGU3MmQ4MGU0MzQwOGMwZGViMjZkYjE5ZDYwYyk7CiAgICAgICAgCgogICAgICAgIG1hcmtlcl8wZDliMGU1ZjNhOTc0YTAzODIwZTk1ZjA2OWEwZGE3NS5iaW5kUG9wdXAocG9wdXBfOTkyYWJjNmNhZjdkNGU4YWJmNmI5ZmU0Mjg1MWYzMTgpCiAgICAgICAgOwoKICAgICAgICAKICAgIAogICAgCiAgICAgICAgICAgIHZhciBtYXJrZXJfNzJkMDhjZjkwYjJjNGY0YWI2OWQ2MmM1NzY3YzM1MjAgPSBMLm1hcmtlcigKICAgICAgICAgICAgICAgIFs0OS40Njk5NzY1LCA4LjQ4MTkwMjRdLAogICAgICAgICAgICAgICAge30KICAgICAgICAgICAgKS5hZGRUbyhtYXBfZjdmOTc1MmMwMmQ4NDIwMmJkNGMyMGRlNTUyOWU2ZTQpOwogICAgICAgIAogICAgCiAgICAgICAgdmFyIHBvcHVwXzkzYTQ3MWVkZWFkYTQ4OTM4Yzk0MDM3NzZkYzYxMzQ5ID0gTC5wb3B1cCh7Im1heFdpZHRoIjogIjEwMCUifSk7CgogICAgICAgIAogICAgICAgICAgICB2YXIgaHRtbF8wNTVlODk2NTJkZjY0YTk5OTUzY2VjNzRmNTFjZTgwMyA9ICQoYDxkaXYgaWQ9Imh0bWxfMDU1ZTg5NjUyZGY2NGE5OTk1M2NlYzc0ZjUxY2U4MDMiIHN0eWxlPSJ3aWR0aDogMTAwLjAlOyBoZWlnaHQ6IDEwMC4wJTsiPlVuaXZlcnNpdHkgb2YgTWFubmhlaW08L2Rpdj5gKVswXTsKICAgICAgICAgICAgcG9wdXBfOTNhNDcxZWRlYWRhNDg5MzhjOTQwMzc3NmRjNjEzNDkuc2V0Q29udGVudChodG1sXzA1NWU4OTY1MmRmNjRhOTk5NTNjZWM3NGY1MWNlODAzKTsKICAgICAgICAKCiAgICAgICAgbWFya2VyXzcyZDA4Y2Y5MGIyYzRmNGFiNjlkNjJjNTc2N2MzNTIwLmJpbmRQb3B1cChwb3B1cF85M2E0NzFlZGVhZGE0ODkzOGM5NDAzNzc2ZGM2MTM0OSkKICAgICAgICA7CgogICAgICAgIAogICAgCiAgICAKICAgICAgICAgICAgdmFyIG1hcmtlcl9jN2VhNzlmMDg1ZWM0ODdiYjJkODAxY2U2ODRmMTIzMSA9IEwubWFya2VyKAogICAgICAgICAgICAgICAgWzUxLjgyMTUxNzI1LCA1Ljg2MzQwMzQ0MjU0MTA0Ml0sCiAgICAgICAgICAgICAgICB7fQogICAgICAgICAgICApLmFkZFRvKG1hcF9mN2Y5NzUyYzAyZDg0MjAyYmQ0YzIwZGU1NTI5ZTZlNCk7CiAgICAgICAgCiAgICAKICAgICAgICB2YXIgcG9wdXBfMzg5NjZlZmUyZTQyNDcxYjhiZTI0MGNhZTE2MmMwODcgPSBMLnBvcHVwKHsibWF4V2lkdGgiOiAiMTAwJSJ9KTsKCiAgICAgICAgCiAgICAgICAgICAgIHZhciBodG1sXzQ1ZDBiNTg5ZmE0MjRmZGM4OGQ2Y2I3MTFiMDI2ODJkID0gJChgPGRpdiBpZD0iaHRtbF80NWQwYjU4OWZhNDI0ZmRjODhkNmNiNzExYjAyNjgyZCIgc3R5bGU9IndpZHRoOiAxMDAuMCU7IGhlaWdodDogMTAwLjAlOyI+UmFkYm91ZCBVbml2ZXJzaXR5IE5pam1lZ2VuPC9kaXY+YClbMF07CiAgICAgICAgICAgIHBvcHVwXzM4OTY2ZWZlMmU0MjQ3MWI4YmUyNDBjYWUxNjJjMDg3LnNldENvbnRlbnQoaHRtbF80NWQwYjU4OWZhNDI0ZmRjODhkNmNiNzExYjAyNjgyZCk7CiAgICAgICAgCgogICAgICAgIG1hcmtlcl9jN2VhNzlmMDg1ZWM0ODdiYjJkODAxY2U2ODRmMTIzMS5iaW5kUG9wdXAocG9wdXBfMzg5NjZlZmUyZTQyNDcxYjhiZTI0MGNhZTE2MmMwODcpCiAgICAgICAgOwoKICAgICAgICAKICAgIAogICAgCiAgICAgICAgICAgIHZhciBtYXJrZXJfMzZmMTg1ZWFkY2NkNGI4YTgzNjY5NDNjNGNlNzcxYjQgPSBMLm1hcmtlcigKICAgICAgICAgICAgICAgIFs1MC42NjgyNTM4LCA0LjYyMDEwOTUyNjgxMTU5NV0sCiAgICAgICAgICAgICAgICB7fQogICAgICAgICAgICApLmFkZFRvKG1hcF9mN2Y5NzUyYzAyZDg0MjAyYmQ0YzIwZGU1NTI5ZTZlNCk7CiAgICAgICAgCiAgICAKICAgICAgICB2YXIgcG9wdXBfZGY4MDk5ZGIwNDg1NDM2OThjMWY4NmJmZjk3MzRhOTQgPSBMLnBvcHVwKHsibWF4V2lkdGgiOiAiMTAwJSJ9KTsKCiAgICAgICAgCiAgICAgICAgICAgIHZhciBodG1sXzhjMDJiMTM2NzAyYzQ4MjI4Yjc4NGVmMGVlMzgxNjliID0gJChgPGRpdiBpZD0iaHRtbF84YzAyYjEzNjcwMmM0ODIyOGI3ODRlZjBlZTM4MTY5YiIgc3R5bGU9IndpZHRoOiAxMDAuMCU7IGhlaWdodDogMTAwLjAlOyI+VW5pdmVyc2l0w6kgQ2F0aG9saXF1ZSBkZSBMb3V2YWluPC9kaXY+YClbMF07CiAgICAgICAgICAgIHBvcHVwX2RmODA5OWRiMDQ4NTQzNjk4YzFmODZiZmY5NzM0YTk0LnNldENvbnRlbnQoaHRtbF84YzAyYjEzNjcwMmM0ODIyOGI3ODRlZjBlZTM4MTY5Yik7CiAgICAgICAgCgogICAgICAgIG1hcmtlcl8zNmYxODVlYWRjY2Q0YjhhODM2Njk0M2M0Y2U3NzFiNC5iaW5kUG9wdXAocG9wdXBfZGY4MDk5ZGIwNDg1NDM2OThjMWY4NmJmZjk3MzRhOTQpCiAgICAgICAgOwoKICAgICAgICAKICAgIAogICAgCiAgICAgICAgICAgIHZhciBtYXJrZXJfMzJmZGFmNzAxOGE1NDE2YTgzYzg0N2VlMTY2YTRiZDIgPSBMLm1hcmtlcigKICAgICAgICAgICAgICAgIFs1MC44MzczNDY5LCA0LjQwNjE2NF0sCiAgICAgICAgICAgICAgICB7fQogICAgICAgICAgICApLmFkZFRvKG1hcF9mN2Y5NzUyYzAyZDg0MjAyYmQ0YzIwZGU1NTI5ZTZlNCk7CiAgICAgICAgCiAgICAKICAgICAgICB2YXIgcG9wdXBfOTg1YjVlOTMwNGU3NDYwZGFiMGU2NzUzNDRhNWQyNmQgPSBMLnBvcHVwKHsibWF4V2lkdGgiOiAiMTAwJSJ9KTsKCiAgICAgICAgCiAgICAgICAgICAgIHZhciBodG1sXzI2MTdhMzY1YjIxZjQyOGM4MmVlNmFmYjRjMTk1OTg0ID0gJChgPGRpdiBpZD0iaHRtbF8yNjE3YTM2NWIyMWY0MjhjODJlZTZhZmI0YzE5NTk4NCIgc3R5bGU9IndpZHRoOiAxMDAuMCU7IGhlaWdodDogMTAwLjAlOyI+TWFhc3RyaWNodCBVbml2ZXJzaXR5PC9kaXY+YClbMF07CiAgICAgICAgICAgIHBvcHVwXzk4NWI1ZTkzMDRlNzQ2MGRhYjBlNjc1MzQ0YTVkMjZkLnNldENvbnRlbnQoaHRtbF8yNjE3YTM2NWIyMWY0MjhjODJlZTZhZmI0YzE5NTk4NCk7CiAgICAgICAgCgogICAgICAgIG1hcmtlcl8zMmZkYWY3MDE4YTU0MTZhODNjODQ3ZWUxNjZhNGJkMi5iaW5kUG9wdXAocG9wdXBfOTg1YjVlOTMwNGU3NDYwZGFiMGU2NzUzNDRhNWQyNmQpCiAgICAgICAgOwoKICAgICAgICAKICAgIAogICAgCiAgICAgICAgICAgIHZhciBtYXJrZXJfNGI4YWI3YzUxYWJhNDVkOWEyNDJlODVmYWJiYzJiMzcgPSBMLm1hcmtlcigKICAgICAgICAgICAgICAgIFs1MS41MjQ3MjcyLCAtMC4wMzkzMTAzNDY2MzAxNjI0M10sCiAgICAgICAgICAgICAgICB7fQogICAgICAgICAgICApLmFkZFRvKG1hcF9mN2Y5NzUyYzAyZDg0MjAyYmQ0YzIwZGU1NTI5ZTZlNCk7CiAgICAgICAgCiAgICAKICAgICAgICB2YXIgcG9wdXBfNDExYWEzZDE0NjgwNGE1Njk1ZDJiZDY0NjZhMmJkYTggPSBMLnBvcHVwKHsibWF4V2lkdGgiOiAiMTAwJSJ9KTsKCiAgICAgICAgCiAgICAgICAgICAgIHZhciBodG1sXzFmNWYxYzQzNzFlZjQ1YTQ4ZjFmMTA1NGY5ZjU4NDBhID0gJChgPGRpdiBpZD0iaHRtbF8xZjVmMWM0MzcxZWY0NWE0OGYxZjEwNTRmOWY1ODQwYSIgc3R5bGU9IndpZHRoOiAxMDAuMCU7IGhlaWdodDogMTAwLjAlOyI+UXVlZW4gTWFyeSBVbml2ZXJzaXR5IG9mIExvbmRvbjwvZGl2PmApWzBdOwogICAgICAgICAgICBwb3B1cF80MTFhYTNkMTQ2ODA0YTU2OTVkMmJkNjQ2NmEyYmRhOC5zZXRDb250ZW50KGh0bWxfMWY1ZjFjNDM3MWVmNDVhNDhmMWYxMDU0ZjlmNTg0MGEpOwogICAgICAgIAoKICAgICAgICBtYXJrZXJfNGI4YWI3YzUxYWJhNDVkOWEyNDJlODVmYWJiYzJiMzcuYmluZFBvcHVwKHBvcHVwXzQxMWFhM2QxNDY4MDRhNTY5NWQyYmQ2NDY2YTJiZGE4KQogICAgICAgIDsKCiAgICAgICAgCiAgICAKICAgIAogICAgICAgICAgICB2YXIgbWFya2VyXzVkMjQ0NWY5MDM2ZjRjNWU5NDE5ZjIxZTZhOTdmMWYzID0gTC5tYXJrZXIoCiAgICAgICAgICAgICAgICBbNDYuMTkzNTIxNSwgNi4xNTE1MTA4XSwKICAgICAgICAgICAgICAgIHt9CiAgICAgICAgICAgICkuYWRkVG8obWFwX2Y3Zjk3NTJjMDJkODQyMDJiZDRjMjBkZTU1MjllNmU0KTsKICAgICAgICAKICAgIAogICAgICAgIHZhciBwb3B1cF84MGM5MDVlNDU0Njk0YTU1YmUyMWZkMzAyOWQ0ZGU3ZiA9IEwucG9wdXAoeyJtYXhXaWR0aCI6ICIxMDAlIn0pOwoKICAgICAgICAKICAgICAgICAgICAgdmFyIGh0bWxfMTJiMDdjMzhkNmI3NGI4OWE3MThkNGY2MDJlYmEwZGUgPSAkKGA8ZGl2IGlkPSJodG1sXzEyYjA3YzM4ZDZiNzRiODlhNzE4ZDRmNjAyZWJhMGRlIiBzdHlsZT0id2lkdGg6IDEwMC4wJTsgaGVpZ2h0OiAxMDAuMCU7Ij5Vbml2ZXJzaXR5IG9mIEdlbmV2YTwvZGl2PmApWzBdOwogICAgICAgICAgICBwb3B1cF84MGM5MDVlNDU0Njk0YTU1YmUyMWZkMzAyOWQ0ZGU3Zi5zZXRDb250ZW50KGh0bWxfMTJiMDdjMzhkNmI3NGI4OWE3MThkNGY2MDJlYmEwZGUpOwogICAgICAgIAoKICAgICAgICBtYXJrZXJfNWQyNDQ1ZjkwMzZmNGM1ZTk0MTlmMjFlNmE5N2YxZjMuYmluZFBvcHVwKHBvcHVwXzgwYzkwNWU0NTQ2OTRhNTViZTIxZmQzMDI5ZDRkZTdmKQogICAgICAgIDsKCiAgICAgICAgCiAgICAKICAgIAogICAgICAgICAgICB2YXIgbWFya2VyXzAyMGUxMWMxNzQ3YzQ3Y2NiNDhiNzM1ZTY5ZWE1NjA3ID0gTC5tYXJrZXIoCiAgICAgICAgICAgICAgICBbNTMuNTY0MTAwNCwgOS45OTQ5Nzg5NzEyMDI3MDJdLAogICAgICAgICAgICAgICAge30KICAgICAgICAgICAgKS5hZGRUbyhtYXBfZjdmOTc1MmMwMmQ4NDIwMmJkNGMyMGRlNTUyOWU2ZTQpOwogICAgICAgIAogICAgCiAgICAgICAgdmFyIHBvcHVwX2JiNDcyZDhkNWQ3YjQyMTdhNzQ3MWYxMWExODY1ZDBlID0gTC5wb3B1cCh7Im1heFdpZHRoIjogIjEwMCUifSk7CgogICAgICAgIAogICAgICAgICAgICB2YXIgaHRtbF9mMGU0ZDcwMWI0MzY0MWE5YWE4YWE2YWE2M2VmYTk4OSA9ICQoYDxkaXYgaWQ9Imh0bWxfZjBlNGQ3MDFiNDM2NDFhOWFhOGFhNmFhNjNlZmE5ODkiIHN0eWxlPSJ3aWR0aDogMTAwLjAlOyBoZWlnaHQ6IDEwMC4wJTsiPlVuaXZlcnNpdHkgb2YgSGFtYnVyZzwvZGl2PmApWzBdOwogICAgICAgICAgICBwb3B1cF9iYjQ3MmQ4ZDVkN2I0MjE3YTc0NzFmMTFhMTg2NWQwZS5zZXRDb250ZW50KGh0bWxfZjBlNGQ3MDFiNDM2NDFhOWFhOGFhNmFhNjNlZmE5ODkpOwogICAgICAgIAoKICAgICAgICBtYXJrZXJfMDIwZTExYzE3NDdjNDdjY2I0OGI3MzVlNjllYTU2MDcuYmluZFBvcHVwKHBvcHVwX2JiNDcyZDhkNWQ3YjQyMTdhNzQ3MWYxMWExODY1ZDBlKQogICAgICAgIDsKCiAgICAgICAgCiAgICAKICAgIAogICAgICAgICAgICB2YXIgbWFya2VyXzBlOTYwNGYyNDVmOTQ4MmFhYTA5ZTdhZDU5MmEyM2ZiID0gTC5tYXJrZXIoCiAgICAgICAgICAgICAgICBbNDkuMTAxODQzNzUsIDguNDMzMTI1NTk2MjM4NzU3XSwKICAgICAgICAgICAgICAgIHt9CiAgICAgICAgICAgICkuYWRkVG8obWFwX2Y3Zjk3NTJjMDJkODQyMDJiZDRjMjBkZTU1MjllNmU0KTsKICAgICAgICAKICAgIAogICAgICAgIHZhciBwb3B1cF8yZWFjNzA0NGFhZjI0YTA2OWQ5MTZkYzk3YzlkZGI5ZSA9IEwucG9wdXAoeyJtYXhXaWR0aCI6ICIxMDAlIn0pOwoKICAgICAgICAKICAgICAgICAgICAgdmFyIGh0bWxfM2FlMDFiODgzNDZlNDkxZmExM2FjNDZkNDFmOTEzNTggPSAkKGA8ZGl2IGlkPSJodG1sXzNhZTAxYjg4MzQ2ZTQ5MWZhMTNhYzQ2ZDQxZjkxMzU4IiBzdHlsZT0id2lkdGg6IDEwMC4wJTsgaGVpZ2h0OiAxMDAuMCU7Ij5LYXJsc3J1aGUgSW5zdGl0dXRlIG9mIFRlY2hub2xvZ3k8L2Rpdj5gKVswXTsKICAgICAgICAgICAgcG9wdXBfMmVhYzcwNDRhYWYyNGEwNjlkOTE2ZGM5N2M5ZGRiOWUuc2V0Q29udGVudChodG1sXzNhZTAxYjg4MzQ2ZTQ5MWZhMTNhYzQ2ZDQxZjkxMzU4KTsKICAgICAgICAKCiAgICAgICAgbWFya2VyXzBlOTYwNGYyNDVmOTQ4MmFhYTA5ZTdhZDU5MmEyM2ZiLmJpbmRQb3B1cChwb3B1cF8yZWFjNzA0NGFhZjI0YTA2OWQ5MTZkYzk3YzlkZGI5ZSkKICAgICAgICA7CgogICAgICAgIAogICAgCiAgICAKICAgICAgICAgICAgdmFyIG1hcmtlcl84YjMyYzFjNWM0OGQ0MWVjODJkZWJlNmJhNWM2MjAyNiA9IEwubWFya2VyKAogICAgICAgICAgICAgICAgWzQxLjczNjc2NTMsIDEuODI1MDczMDU2NDQ3Mzg3Nl0sCiAgICAgICAgICAgICAgICB7fQogICAgICAgICAgICApLmFkZFRvKG1hcF9mN2Y5NzUyYzAyZDg0MjAyYmQ0YzIwZGU1NTI5ZTZlNCk7CiAgICAgICAgCiAgICAKICAgICAgICB2YXIgcG9wdXBfOWY5ZjlmMWJkNDlkNDIyZWI1MWRmZGY5YmQ3YzhlYmIgPSBMLnBvcHVwKHsibWF4V2lkdGgiOiAiMTAwJSJ9KTsKCiAgICAgICAgCiAgICAgICAgICAgIHZhciBodG1sXzgwYjQ2NDY3ZDVmYzQ4NTQ4MDcwNzM1NTljYzQ2ODRjID0gJChgPGRpdiBpZD0iaHRtbF84MGI0NjQ2N2Q1ZmM0ODU0ODA3MDczNTU5Y2M0Njg0YyIgc3R5bGU9IndpZHRoOiAxMDAuMCU7IGhlaWdodDogMTAwLjAlOyI+UG9tcGV1IEZhYnJhIFVuaXZlcnNpdHk8L2Rpdj5gKVswXTsKICAgICAgICAgICAgcG9wdXBfOWY5ZjlmMWJkNDlkNDIyZWI1MWRmZGY5YmQ3YzhlYmIuc2V0Q29udGVudChodG1sXzgwYjQ2NDY3ZDVmYzQ4NTQ4MDcwNzM1NTljYzQ2ODRjKTsKICAgICAgICAKCiAgICAgICAgbWFya2VyXzhiMzJjMWM1YzQ4ZDQxZWM4MmRlYmU2YmE1YzYyMDI2LmJpbmRQb3B1cChwb3B1cF85ZjlmOWYxYmQ0OWQ0MjJlYjUxZGZkZjliZDdjOGViYikKICAgICAgICA7CgogICAgICAgIAogICAgCiAgICAKICAgICAgICAgICAgdmFyIG1hcmtlcl82YWUzZjI3NzQ0OTA0NGMzYTMyNzBhNjYwMTBmZjYwYiA9IEwubWFya2VyKAogICAgICAgICAgICAgICAgWzUwLjczNjkzMDIsIC0zLjUzNjQ3NjcxNzAyMTY3MV0sCiAgICAgICAgICAgICAgICB7fQogICAgICAgICAgICApLmFkZFRvKG1hcF9mN2Y5NzUyYzAyZDg0MjAyYmQ0YzIwZGU1NTI5ZTZlNCk7CiAgICAgICAgCiAgICAKICAgICAgICB2YXIgcG9wdXBfYjk3OWFkOWNkOTZlNGM1MDhhOTYxZmUyZWNjZTE5YzQgPSBMLnBvcHVwKHsibWF4V2lkdGgiOiAiMTAwJSJ9KTsKCiAgICAgICAgCiAgICAgICAgICAgIHZhciBodG1sXzVmYWYyMTI0OTZkMTQzMmNhN2Y5ZDViM2ZjMDgwYWQxID0gJChgPGRpdiBpZD0iaHRtbF81ZmFmMjEyNDk2ZDE0MzJjYTdmOWQ1YjNmYzA4MGFkMSIgc3R5bGU9IndpZHRoOiAxMDAuMCU7IGhlaWdodDogMTAwLjAlOyI+VW5pdmVyc2l0eSBvZiBFeGV0ZXI8L2Rpdj5gKVswXTsKICAgICAgICAgICAgcG9wdXBfYjk3OWFkOWNkOTZlNGM1MDhhOTYxZmUyZWNjZTE5YzQuc2V0Q29udGVudChodG1sXzVmYWYyMTI0OTZkMTQzMmNhN2Y5ZDViM2ZjMDgwYWQxKTsKICAgICAgICAKCiAgICAgICAgbWFya2VyXzZhZTNmMjc3NDQ5MDQ0YzNhMzI3MGE2NjAxMGZmNjBiLmJpbmRQb3B1cChwb3B1cF9iOTc5YWQ5Y2Q5NmU0YzUwOGE5NjFmZTJlY2NlMTljNCkKICAgICAgICA7CgogICAgICAgIAogICAgCiAgICAKICAgICAgICAgICAgdmFyIG1hcmtlcl8wNWU4ODAxYTBhZmE0YjlmOGMwNzk4NTM4ZmY1NTY1OCA9IEwubWFya2VyKAogICAgICAgICAgICAgICAgWzUxLjAyNTA4OTgsIDMuNzEzNTM5NDYwMDYwMDY1XSwKICAgICAgICAgICAgICAgIHt9CiAgICAgICAgICAgICkuYWRkVG8obWFwX2Y3Zjk3NTJjMDJkODQyMDJiZDRjMjBkZTU1MjllNmU0KTsKICAgICAgICAKICAgIAogICAgICAgIHZhciBwb3B1cF85M2VjZjc2Yjk5ODE0Zjc5YmE4NjMxOTcyYmZmNjg3YiA9IEwucG9wdXAoeyJtYXhXaWR0aCI6ICIxMDAlIn0pOwoKICAgICAgICAKICAgICAgICAgICAgdmFyIGh0bWxfMGQwYTkzODQ4NjJiNDQ0NmI5MzM1NTIzYWU2NGIyODQgPSAkKGA8ZGl2IGlkPSJodG1sXzBkMGE5Mzg0ODYyYjQ0NDZiOTMzNTUyM2FlNjRiMjg0IiBzdHlsZT0id2lkdGg6IDEwMC4wJTsgaGVpZ2h0OiAxMDAuMCU7Ij5HaGVudCBVbml2ZXJzaXR5PC9kaXY+YClbMF07CiAgICAgICAgICAgIHBvcHVwXzkzZWNmNzZiOTk4MTRmNzliYTg2MzE5NzJiZmY2ODdiLnNldENvbnRlbnQoaHRtbF8wZDBhOTM4NDg2MmI0NDQ2YjkzMzU1MjNhZTY0YjI4NCk7CiAgICAgICAgCgogICAgICAgIG1hcmtlcl8wNWU4ODAxYTBhZmE0YjlmOGMwNzk4NTM4ZmY1NTY1OC5iaW5kUG9wdXAocG9wdXBfOTNlY2Y3NmI5OTgxNGY3OWJhODYzMTk3MmJmZjY4N2IpCiAgICAgICAgOwoKICAgICAgICAKICAgIAogICAgCiAgICAgICAgICAgIHZhciBtYXJrZXJfYjYxMjFlMDAzNjNmNGIxM2I0MmVhYjQ4YmIxMzIxMTAgPSBMLm1hcmtlcigKICAgICAgICAgICAgICAgIFs0OC4yMTMxMzAyLCAxNi4zNjA2ODY1MzM4MDE2NDhdLAogICAgICAgICAgICAgICAge30KICAgICAgICAgICAgKS5hZGRUbyhtYXBfZjdmOTc1MmMwMmQ4NDIwMmJkNGMyMGRlNTUyOWU2ZTQpOwogICAgICAgIAogICAgCiAgICAgICAgdmFyIHBvcHVwXzUyM2NhZTE3YjJkNDRhYTE5Zjk2YTJlOTkyYWJlZTM4ID0gTC5wb3B1cCh7Im1heFdpZHRoIjogIjEwMCUifSk7CgogICAgICAgIAogICAgICAgICAgICB2YXIgaHRtbF9iMzMzNDFjYWYxNmY0NGUyOTdjOTM5ZjMzMjZkYzIwYyA9ICQoYDxkaXYgaWQ9Imh0bWxfYjMzMzQxY2FmMTZmNDRlMjk3YzkzOWYzMzI2ZGMyMGMiIHN0eWxlPSJ3aWR0aDogMTAwLjAlOyBoZWlnaHQ6IDEwMC4wJTsiPlVuaXZlcnNpdHkgb2YgVmllbm5hPC9kaXY+YClbMF07CiAgICAgICAgICAgIHBvcHVwXzUyM2NhZTE3YjJkNDRhYTE5Zjk2YTJlOTkyYWJlZTM4LnNldENvbnRlbnQoaHRtbF9iMzMzNDFjYWYxNmY0NGUyOTdjOTM5ZjMzMjZkYzIwYyk7CiAgICAgICAgCgogICAgICAgIG1hcmtlcl9iNjEyMWUwMDM2M2Y0YjEzYjQyZWFiNDhiYjEzMjExMC5iaW5kUG9wdXAocG9wdXBfNTIzY2FlMTdiMmQ0NGFhMTlmOTZhMmU5OTJhYmVlMzgpCiAgICAgICAgOwoKICAgICAgICAKICAgIAogICAgCiAgICAgICAgICAgIHZhciBtYXJrZXJfMTYzYzVjZmZjYjZlNDFiYjg5NTNhMmNkYzgxMmZjNDQgPSBMLm1hcmtlcigKICAgICAgICAgICAgICAgIFs1MC45NTE4MzI3NDk5OTk5OTQsIDYuODk3OTQ4NjcyMjUwODE1XSwKICAgICAgICAgICAgICAgIHt9CiAgICAgICAgICAgICkuYWRkVG8obWFwX2Y3Zjk3NTJjMDJkODQyMDJiZDRjMjBkZTU1MjllNmU0KTsKICAgICAgICAKICAgIAogICAgICAgIHZhciBwb3B1cF8zZWIwY2NhMjU0MmE0Zjk4YjM2ZTc0MTM0MzY1OTAzZCA9IEwucG9wdXAoeyJtYXhXaWR0aCI6ICIxMDAlIn0pOwoKICAgICAgICAKICAgICAgICAgICAgdmFyIGh0bWxfMmIxNWM1MjQwYjVhNDNiMTkyOTQzNDg4NDAzM2RlNTQgPSAkKGA8ZGl2IGlkPSJodG1sXzJiMTVjNTI0MGI1YTQzYjE5Mjk0MzQ4ODQwMzNkZTU0IiBzdHlsZT0id2lkdGg6IDEwMC4wJTsgaGVpZ2h0OiAxMDAuMCU7Ij5Vbml2ZXJzaXR5IG9mIENvbG9nbmU8L2Rpdj5gKVswXTsKICAgICAgICAgICAgcG9wdXBfM2ViMGNjYTI1NDJhNGY5OGIzNmU3NDEzNDM2NTkwM2Quc2V0Q29udGVudChodG1sXzJiMTVjNTI0MGI1YTQzYjE5Mjk0MzQ4ODQwMzNkZTU0KTsKICAgICAgICAKCiAgICAgICAgbWFya2VyXzE2M2M1Y2ZmY2I2ZTQxYmI4OTUzYTJjZGM4MTJmYzQ0LmJpbmRQb3B1cChwb3B1cF8zZWIwY2NhMjU0MmE0Zjk4YjM2ZTc0MTM0MzY1OTAzZCkKICAgICAgICA7CgogICAgICAgIAogICAgCiAgICAKICAgICAgICAgICAgdmFyIG1hcmtlcl84ZmEwMjYzZDU0YWQ0ZTMxOWQwY2I3Y2YxNjg4ZDhiYiA9IEwubWFya2VyKAogICAgICAgICAgICAgICAgWzU0LjAwOTM2ODksIC0yLjc4NTI0NDhdLAogICAgICAgICAgICAgICAge30KICAgICAgICAgICAgKS5hZGRUbyhtYXBfZjdmOTc1MmMwMmQ4NDIwMmJkNGMyMGRlNTUyOWU2ZTQpOwogICAgICAgIAogICAgCiAgICAgICAgdmFyIHBvcHVwX2U0NTczZWFmZjA2MjQzZjc5YjIwN2Y3NzNlZTNjNmJjID0gTC5wb3B1cCh7Im1heFdpZHRoIjogIjEwMCUifSk7CgogICAgICAgIAogICAgICAgICAgICB2YXIgaHRtbF83NGEzMjQwYWVkZWU0M2NkODM5ZDI0ZDRkOTBhNmE0ZSA9ICQoYDxkaXYgaWQ9Imh0bWxfNzRhMzI0MGFlZGVlNDNjZDgzOWQyNGQ0ZDkwYTZhNGUiIHN0eWxlPSJ3aWR0aDogMTAwLjAlOyBoZWlnaHQ6IDEwMC4wJTsiPkxhbmNhc3RlciBVbml2ZXJzaXR5PC9kaXY+YClbMF07CiAgICAgICAgICAgIHBvcHVwX2U0NTczZWFmZjA2MjQzZjc5YjIwN2Y3NzNlZTNjNmJjLnNldENvbnRlbnQoaHRtbF83NGEzMjQwYWVkZWU0M2NkODM5ZDI0ZDRkOTBhNmE0ZSk7CiAgICAgICAgCgogICAgICAgIG1hcmtlcl84ZmEwMjYzZDU0YWQ0ZTMxOWQwY2I3Y2YxNjg4ZDhiYi5iaW5kUG9wdXAocG9wdXBfZTQ1NzNlYWZmMDYyNDNmNzliMjA3Zjc3M2VlM2M2YmMpCiAgICAgICAgOwoKICAgICAgICAKICAgIAogICAgCiAgICAgICAgICAgIHZhciBtYXJrZXJfNzI5YzY1ZTY0ZmFlNDEyMjkwNDJmMTBlZDlhNjQ0NzQgPSBMLm1hcmtlcigKICAgICAgICAgICAgICAgIFs1Mi45Mzg3NDI4LCAtMS4yMDAyOTU2OTI3NDU3NDI3XSwKICAgICAgICAgICAgICAgIHt9CiAgICAgICAgICAgICkuYWRkVG8obWFwX2Y3Zjk3NTJjMDJkODQyMDJiZDRjMjBkZTU1MjllNmU0KTsKICAgICAgICAKICAgIAogICAgICAgIHZhciBwb3B1cF85ZjkzZTZlMzc4NTU0NTI3YTYxNjc5ZmQwOGEyN2FlNCA9IEwucG9wdXAoeyJtYXhXaWR0aCI6ICIxMDAlIn0pOwoKICAgICAgICAKICAgICAgICAgICAgdmFyIGh0bWxfZWMxMGQwNDQ5NmEwNDE0NmFmYjM3ZjI5NzQ1MmIzZDEgPSAkKGA8ZGl2IGlkPSJodG1sX2VjMTBkMDQ0OTZhMDQxNDZhZmIzN2YyOTc0NTJiM2QxIiBzdHlsZT0id2lkdGg6IDEwMC4wJTsgaGVpZ2h0OiAxMDAuMCU7Ij5Vbml2ZXJzaXR5IG9mIE5vdHRpbmdoYW08L2Rpdj5gKVswXTsKICAgICAgICAgICAgcG9wdXBfOWY5M2U2ZTM3ODU1NDUyN2E2MTY3OWZkMDhhMjdhZTQuc2V0Q29udGVudChodG1sX2VjMTBkMDQ0OTZhMDQxNDZhZmIzN2YyOTc0NTJiM2QxKTsKICAgICAgICAKCiAgICAgICAgbWFya2VyXzcyOWM2NWU2NGZhZTQxMjI5MDQyZjEwZWQ5YTY0NDc0LmJpbmRQb3B1cChwb3B1cF85ZjkzZTZlMzc4NTU0NTI3YTYxNjc5ZmQwOGEyN2FlNCkKICAgICAgICA7CgogICAgICAgIAogICAgCiAgICAKICAgICAgICAgICAgdmFyIG1hcmtlcl8yY2VlMjZjYjBjNDg0ODgwYjVlNzViMjdjMzYwMWQ0YiA9IEwubWFya2VyKAogICAgICAgICAgICAgICAgWzQ4LjM5MjkyNDQsIDkuOTg3MjEwNDMxNzE5NTQ2XSwKICAgICAgICAgICAgICAgIHt9CiAgICAgICAgICAgICkuYWRkVG8obWFwX2Y3Zjk3NTJjMDJkODQyMDJiZDRjMjBkZTU1MjllNmU0KTsKICAgICAgICAKICAgIAogICAgICAgIHZhciBwb3B1cF9kODg3YzVkZGIwYmI0YjRhYmNhMGI1NWZlN2EzZmM1YiA9IEwucG9wdXAoeyJtYXhXaWR0aCI6ICIxMDAlIn0pOwoKICAgICAgICAKICAgICAgICAgICAgdmFyIGh0bWxfODM3Y2Y1Yjc5ZjNiNGFlMzllZDM1NGQ3NzY3MzliZDEgPSAkKGA8ZGl2IGlkPSJodG1sXzgzN2NmNWI3OWYzYjRhZTM5ZWQzNTRkNzc2NzM5YmQxIiBzdHlsZT0id2lkdGg6IDEwMC4wJTsgaGVpZ2h0OiAxMDAuMCU7Ij5VbG0gVW5pdmVyc2l0eTwvZGl2PmApWzBdOwogICAgICAgICAgICBwb3B1cF9kODg3YzVkZGIwYmI0YjRhYmNhMGI1NWZlN2EzZmM1Yi5zZXRDb250ZW50KGh0bWxfODM3Y2Y1Yjc5ZjNiNGFlMzllZDM1NGQ3NzY3MzliZDEpOwogICAgICAgIAoKICAgICAgICBtYXJrZXJfMmNlZTI2Y2IwYzQ4NDg4MGI1ZTc1YjI3YzM2MDFkNGIuYmluZFBvcHVwKHBvcHVwX2Q4ODdjNWRkYjBiYjRiNGFiY2EwYjU1ZmU3YTNmYzViKQogICAgICAgIDsKCiAgICAgICAgCiAgICAKICAgIAogICAgICAgICAgICB2YXIgbWFya2VyXzNmNGQzMGYwZmMzMzRiMDFhZWVhZjIwODM5NDE5MDYzID0gTC5tYXJrZXIoCiAgICAgICAgICAgICAgICBbNTEuMDI4Mjc2NTAwMDAwMDA0LCAxMy43MzU5ODI3NTQ5MzUxNzZdLAogICAgICAgICAgICAgICAge30KICAgICAgICAgICAgKS5hZGRUbyhtYXBfZjdmOTc1MmMwMmQ4NDIwMmJkNGMyMGRlNTUyOWU2ZTQpOwogICAgICAgIAogICAgCiAgICAgICAgdmFyIHBvcHVwXzQ2ODc5ZGFhOWNjOTQzNjViNDhmOTZkYTYzZTY0NDNkID0gTC5wb3B1cCh7Im1heFdpZHRoIjogIjEwMCUifSk7CgogICAgICAgIAogICAgICAgICAgICB2YXIgaHRtbF80NDU1OTg0MTgwZDM0OGJiYjU1MWJiYzRmOTE0ZTM3OCA9ICQoYDxkaXYgaWQ9Imh0bWxfNDQ1NTk4NDE4MGQzNDhiYmI1NTFiYmM0ZjkxNGUzNzgiIHN0eWxlPSJ3aWR0aDogMTAwLjAlOyBoZWlnaHQ6IDEwMC4wJTsiPlRVIERyZXNkZW48L2Rpdj5gKVswXTsKICAgICAgICAgICAgcG9wdXBfNDY4NzlkYWE5Y2M5NDM2NWI0OGY5NmRhNjNlNjQ0M2Quc2V0Q29udGVudChodG1sXzQ0NTU5ODQxODBkMzQ4YmJiNTUxYmJjNGY5MTRlMzc4KTsKICAgICAgICAKCiAgICAgICAgbWFya2VyXzNmNGQzMGYwZmMzMzRiMDFhZWVhZjIwODM5NDE5MDYzLmJpbmRQb3B1cChwb3B1cF80Njg3OWRhYTljYzk0MzY1YjQ4Zjk2ZGE2M2U2NDQzZCkKICAgICAgICA7CgogICAgICAgIAogICAgCiAgICAKICAgICAgICAgICAgdmFyIG1hcmtlcl9jODE1OThmMDQ0NWE0YjQyYjAxNDJjZTI4OTI4ZGE2NiA9IEwubWFya2VyKAogICAgICAgICAgICAgICAgWzUzLjgwNjY4NDYsIC0xLjU1NjAzNzgzODA0MzU0NTFdLAogICAgICAgICAgICAgICAge30KICAgICAgICAgICAgKS5hZGRUbyhtYXBfZjdmOTc1MmMwMmQ4NDIwMmJkNGMyMGRlNTUyOWU2ZTQpOwogICAgICAgIAogICAgCiAgICAgICAgdmFyIHBvcHVwXzQ3YTFkYTQwNTA5MzQzNTBiYTM2MzQ0ZDlmN2RiMTljID0gTC5wb3B1cCh7Im1heFdpZHRoIjogIjEwMCUifSk7CgogICAgICAgIAogICAgICAgICAgICB2YXIgaHRtbF8wNDUxZjA4YzA2ZjI0ZmY2OWU3NGMyZmUzZTgwY2UxMiA9ICQoYDxkaXYgaWQ9Imh0bWxfMDQ1MWYwOGMwNmYyNGZmNjllNzRjMmZlM2U4MGNlMTIiIHN0eWxlPSJ3aWR0aDogMTAwLjAlOyBoZWlnaHQ6IDEwMC4wJTsiPlVuaXZlcnNpdHkgb2YgTGVlZHM8L2Rpdj5gKVswXTsKICAgICAgICAgICAgcG9wdXBfNDdhMWRhNDA1MDkzNDM1MGJhMzYzNDRkOWY3ZGIxOWMuc2V0Q29udGVudChodG1sXzA0NTFmMDhjMDZmMjRmZjY5ZTc0YzJmZTNlODBjZTEyKTsKICAgICAgICAKCiAgICAgICAgbWFya2VyX2M4MTU5OGYwNDQ1YTRiNDJiMDE0MmNlMjg5MjhkYTY2LmJpbmRQb3B1cChwb3B1cF80N2ExZGE0MDUwOTM0MzUwYmEzNjM0NGQ5ZjdkYjE5YykKICAgICAgICA7CgogICAgICAgIAogICAgCiAgICAKICAgICAgICAgICAgdmFyIG1hcmtlcl9lMGJkOWUwZWM1ZWU0Y2NiOWU0ODYyNzRiYzY1MTVlZCA9IEwubWFya2VyKAogICAgICAgICAgICAgICAgWzQzLjcyMDYwNzgsIDEwLjQwMjY0NDRdLAogICAgICAgICAgICAgICAge30KICAgICAgICAgICAgKS5hZGRUbyhtYXBfZjdmOTc1MmMwMmQ4NDIwMmJkNGMyMGRlNTUyOWU2ZTQpOwogICAgICAgIAogICAgCiAgICAgICAgdmFyIHBvcHVwXzIxN2IyMTAxY2ZkNDQ1YWY5MjJiNDdjZDUwZWEzYTVkID0gTC5wb3B1cCh7Im1heFdpZHRoIjogIjEwMCUifSk7CgogICAgICAgIAogICAgICAgICAgICB2YXIgaHRtbF85ZTBkNjFlNzNiNzY0ZTk4OTg3NmEwNzg1ZjJlMTg3MiA9ICQoYDxkaXYgaWQ9Imh0bWxfOWUwZDYxZTczYjc2NGU5ODk4NzZhMDc4NWYyZTE4NzIiIHN0eWxlPSJ3aWR0aDogMTAwLjAlOyBoZWlnaHQ6IDEwMC4wJTsiPlNjdW9sYSBTdXBlcmlvcmUgU2FudOKAmUFubmE8L2Rpdj5gKVswXTsKICAgICAgICAgICAgcG9wdXBfMjE3YjIxMDFjZmQ0NDVhZjkyMmI0N2NkNTBlYTNhNWQuc2V0Q29udGVudChodG1sXzllMGQ2MWU3M2I3NjRlOTg5ODc2YTA3ODVmMmUxODcyKTsKICAgICAgICAKCiAgICAgICAgbWFya2VyX2UwYmQ5ZTBlYzVlZTRjY2I5ZTQ4NjI3NGJjNjUxNWVkLmJpbmRQb3B1cChwb3B1cF8yMTdiMjEwMWNmZDQ0NWFmOTIyYjQ3Y2Q1MGVhM2E1ZCkKICAgICAgICA7CgogICAgICAgIAogICAgCiAgICAKICAgICAgICAgICAgdmFyIG1hcmtlcl9hMDliODZlOTUzMDI0ODI1YTJkZjk0NTc1ZmIyZGQ0MiA9IEwubWFya2VyKAogICAgICAgICAgICAgICAgWzU5LjM2NjE0MSwgMTguMDU5NTkyOTYwNTU5MzkyXSwKICAgICAgICAgICAgICAgIHt9CiAgICAgICAgICAgICkuYWRkVG8obWFwX2Y3Zjk3NTJjMDJkODQyMDJiZDRjMjBkZTU1MjllNmU0KTsKICAgICAgICAKICAgIAogICAgICAgIHZhciBwb3B1cF84MjcwYTgyODYzYjY0NWQ1YWFlYTI1OWRlZDQxZGZjOCA9IEwucG9wdXAoeyJtYXhXaWR0aCI6ICIxMDAlIn0pOwoKICAgICAgICAKICAgICAgICAgICAgdmFyIGh0bWxfNTk4M2Q2OTRmOTkwNDlmMDlmOTgwMzBiZDFhZTViZWIgPSAkKGA8ZGl2IGlkPSJodG1sXzU5ODNkNjk0Zjk5MDQ5ZjA5Zjk4MDMwYmQxYWU1YmViIiBzdHlsZT0id2lkdGg6IDEwMC4wJTsgaGVpZ2h0OiAxMDAuMCU7Ij5TdG9ja2hvbG0gVW5pdmVyc2l0eTwvZGl2PmApWzBdOwogICAgICAgICAgICBwb3B1cF84MjcwYTgyODYzYjY0NWQ1YWFlYTI1OWRlZDQxZGZjOC5zZXRDb250ZW50KGh0bWxfNTk4M2Q2OTRmOTkwNDlmMDlmOTgwMzBiZDFhZTViZWIpOwogICAgICAgIAoKICAgICAgICBtYXJrZXJfYTA5Yjg2ZTk1MzAyNDgyNWEyZGY5NDU3NWZiMmRkNDIuYmluZFBvcHVwKHBvcHVwXzgyNzBhODI4NjNiNjQ1ZDVhYWVhMjU5ZGVkNDFkZmM4KQogICAgICAgIDsKCiAgICAgICAgCiAgICAKICAgIAogICAgICAgICAgICB2YXIgbWFya2VyX2Y3N2NhZmZjNmRiMzQzMDI4ZGUzZjZmODc4YjdmZWViID0gTC5tYXJrZXIoCiAgICAgICAgICAgICAgICBbNTcuMTY0NTg3OTk5OTk5OTk1LCAtMi4xMDE4NTM1NDQ4MzY4Ml0sCiAgICAgICAgICAgICAgICB7fQogICAgICAgICAgICApLmFkZFRvKG1hcF9mN2Y5NzUyYzAyZDg0MjAyYmQ0YzIwZGU1NTI5ZTZlNCk7CiAgICAgICAgCiAgICAKICAgICAgICB2YXIgcG9wdXBfODRmOThjYWFlY2QyNDI2MDk3ZTFhZTAxOWJhODdhZmEgPSBMLnBvcHVwKHsibWF4V2lkdGgiOiAiMTAwJSJ9KTsKCiAgICAgICAgCiAgICAgICAgICAgIHZhciBodG1sXzY1NjE4OTI2MWEzNjQ1Mzg5YzI2OGI3OGZiNTU0MjVmID0gJChgPGRpdiBpZD0iaHRtbF82NTYxODkyNjFhMzY0NTM4OWMyNjhiNzhmYjU1NDI1ZiIgc3R5bGU9IndpZHRoOiAxMDAuMCU7IGhlaWdodDogMTAwLjAlOyI+VW5pdmVyc2l0eSBvZiBBYmVyZGVlbjwvZGl2PmApWzBdOwogICAgICAgICAgICBwb3B1cF84NGY5OGNhYWVjZDI0MjYwOTdlMWFlMDE5YmE4N2FmYS5zZXRDb250ZW50KGh0bWxfNjU2MTg5MjYxYTM2NDUzODljMjY4Yjc4ZmI1NTQyNWYpOwogICAgICAgIAoKICAgICAgICBtYXJrZXJfZjc3Y2FmZmM2ZGIzNDMwMjhkZTNmNmY4NzhiN2ZlZWIuYmluZFBvcHVwKHBvcHVwXzg0Zjk4Y2FhZWNkMjQyNjA5N2UxYWUwMTliYTg3YWZhKQogICAgICAgIDsKCiAgICAgICAgCiAgICAKICAgIAogICAgICAgICAgICB2YXIgbWFya2VyXzk3M2FkMzU3ZGZiYjQ5YjQ5NmNkYmMyZjhmNWZiNDk4ID0gTC5tYXJrZXIoCiAgICAgICAgICAgICAgICBbNDMuNzE5NjY4NjUsIDEwLjQwMDQyODQ1NTgyOTIwN10sCiAgICAgICAgICAgICAgICB7fQogICAgICAgICAgICApLmFkZFRvKG1hcF9mN2Y5NzUyYzAyZDg0MjAyYmQ0YzIwZGU1NTI5ZTZlNCk7CiAgICAgICAgCiAgICAKICAgICAgICB2YXIgcG9wdXBfZGFhMTI5ZjZlNDQzNDI3MDhiY2UzZGMxZmMwYTdkZGUgPSBMLnBvcHVwKHsibWF4V2lkdGgiOiAiMTAwJSJ9KTsKCiAgICAgICAgCiAgICAgICAgICAgIHZhciBodG1sXzA0MjViN2NmYmM3MDQ5OWFiNTAwYjdiZjQ0NjQ1ZDg5ID0gJChgPGRpdiBpZD0iaHRtbF8wNDI1YjdjZmJjNzA0OTlhYjUwMGI3YmY0NDY0NWQ4OSIgc3R5bGU9IndpZHRoOiAxMDAuMCU7IGhlaWdodDogMTAwLjAlOyI+U2N1b2xhIE5vcm1hbGUgU3VwZXJpb3JlIGRpIFBpc2E8L2Rpdj5gKVswXTsKICAgICAgICAgICAgcG9wdXBfZGFhMTI5ZjZlNDQzNDI3MDhiY2UzZGMxZmMwYTdkZGUuc2V0Q29udGVudChodG1sXzA0MjViN2NmYmM3MDQ5OWFiNTAwYjdiZjQ0NjQ1ZDg5KTsKICAgICAgICAKCiAgICAgICAgbWFya2VyXzk3M2FkMzU3ZGZiYjQ5YjQ5NmNkYmMyZjhmNWZiNDk4LmJpbmRQb3B1cChwb3B1cF9kYWExMjlmNmU0NDM0MjcwOGJjZTNkYzFmYzBhN2RkZSkKICAgICAgICA7CgogICAgICAgIAogICAgCiAgICAKICAgICAgICAgICAgdmFyIG1hcmtlcl82YTc2MzQxOTM3OTE0MmM2YTlmMzVhODFlZTcwNzBjZSA9IEwubWFya2VyKAogICAgICAgICAgICAgICAgWzUwLjg2Nzk1NTY5OTk5OTk5NiwgLTAuMDg3Nzg1NjE2MjU0MzgxNDZdLAogICAgICAgICAgICAgICAge30KICAgICAgICAgICAgKS5hZGRUbyhtYXBfZjdmOTc1MmMwMmQ4NDIwMmJkNGMyMGRlNTUyOWU2ZTQpOwogICAgICAgIAogICAgCiAgICAgICAgdmFyIHBvcHVwX2NkZTYxYjllMTkzMDQ3OGViODU3NmU3NzVjMzRjMmQ4ID0gTC5wb3B1cCh7Im1heFdpZHRoIjogIjEwMCUifSk7CgogICAgICAgIAogICAgICAgICAgICB2YXIgaHRtbF9hZDU2OTkzNDllZjM0MTUwYmU4MzMzY2M4MjgwYmM3MyA9ICQoYDxkaXYgaWQ9Imh0bWxfYWQ1Njk5MzQ5ZWYzNDE1MGJlODMzM2NjODI4MGJjNzMiIHN0eWxlPSJ3aWR0aDogMTAwLjAlOyBoZWlnaHQ6IDEwMC4wJTsiPlVuaXZlcnNpdHkgb2YgU3Vzc2V4PC9kaXY+YClbMF07CiAgICAgICAgICAgIHBvcHVwX2NkZTYxYjllMTkzMDQ3OGViODU3NmU3NzVjMzRjMmQ4LnNldENvbnRlbnQoaHRtbF9hZDU2OTkzNDllZjM0MTUwYmU4MzMzY2M4MjgwYmM3Myk7CiAgICAgICAgCgogICAgICAgIG1hcmtlcl82YTc2MzQxOTM3OTE0MmM2YTlmMzVhODFlZTcwNzBjZS5iaW5kUG9wdXAocG9wdXBfY2RlNjFiOWUxOTMwNDc4ZWI4NTc2ZTc3NWMzNGMyZDgpCiAgICAgICAgOwoKICAgICAgICAKICAgIAogICAgCiAgICAgICAgICAgIHZhciBtYXJrZXJfNGIzYzIwMWVlYTEzNDhlZmE4MzdiNDlmMGVlNjJjZWEgPSBMLm1hcmtlcigKICAgICAgICAgICAgICAgIFs1NS43ODU0MTQ0NTAwMDAwMDUsIDEyLjUyMDIxNTE0NDQ0MjA5NF0sCiAgICAgICAgICAgICAgICB7fQogICAgICAgICAgICApLmFkZFRvKG1hcF9mN2Y5NzUyYzAyZDg0MjAyYmQ0YzIwZGU1NTI5ZTZlNCk7CiAgICAgICAgCiAgICAKICAgICAgICB2YXIgcG9wdXBfODk3NDc1ZDdkZmZmNDZkMTkzMWIxYWI2NmE2ZDM2ZDMgPSBMLnBvcHVwKHsibWF4V2lkdGgiOiAiMTAwJSJ9KTsKCiAgICAgICAgCiAgICAgICAgICAgIHZhciBodG1sX2NlZWY4MmI3MThiMjQ4MWE5ODc3ZTMxMmIxYTA4NjUzID0gJChgPGRpdiBpZD0iaHRtbF9jZWVmODJiNzE4YjI0ODFhOTg3N2UzMTJiMWEwODY1MyIgc3R5bGU9IndpZHRoOiAxMDAuMCU7IGhlaWdodDogMTAwLjAlOyI+VGVjaG5pY2FsIFVuaXZlcnNpdHkgb2YgRGVubWFyazwvZGl2PmApWzBdOwogICAgICAgICAgICBwb3B1cF84OTc0NzVkN2RmZmY0NmQxOTMxYjFhYjY2YTZkMzZkMy5zZXRDb250ZW50KGh0bWxfY2VlZjgyYjcxOGIyNDgxYTk4NzdlMzEyYjFhMDg2NTMpOwogICAgICAgIAoKICAgICAgICBtYXJrZXJfNGIzYzIwMWVlYTEzNDhlZmE4MzdiNDlmMGVlNjJjZWEuYmluZFBvcHVwKHBvcHVwXzg5NzQ3NWQ3ZGZmZjQ2ZDE5MzFiMWFiNjZhNmQzNmQzKQogICAgICAgIDsKCiAgICAgICAgCiAgICAKICAgIAogICAgICAgICAgICB2YXIgbWFya2VyXzQ1MDQ3ZWFkNzI3MTQ1YjJiMGI1YTFmYzA5ZTY3MTYzID0gTC5tYXJrZXIoCiAgICAgICAgICAgICAgICBbNTYuMzQxMTk4NCwgLTIuNzkzMDkzOF0sCiAgICAgICAgICAgICAgICB7fQogICAgICAgICAgICApLmFkZFRvKG1hcF9mN2Y5NzUyYzAyZDg0MjAyYmQ0YzIwZGU1NTI5ZTZlNCk7CiAgICAgICAgCiAgICAKICAgICAgICB2YXIgcG9wdXBfOGJhYzQ5NWM0NzAzNDExM2FiNWU5NGZkYjBmOTFkMmUgPSBMLnBvcHVwKHsibWF4V2lkdGgiOiAiMTAwJSJ9KTsKCiAgICAgICAgCiAgICAgICAgICAgIHZhciBodG1sXzRlMjc0MzY5NmZkMDRmNDFhZjMyNzI3NzZmNjI5MmQ1ID0gJChgPGRpdiBpZD0iaHRtbF80ZTI3NDM2OTZmZDA0ZjQxYWYzMjcyNzc2ZjYyOTJkNSIgc3R5bGU9IndpZHRoOiAxMDAuMCU7IGhlaWdodDogMTAwLjAlOyI+VW5pdmVyc2l0eSBvZiBTdCBBbmRyZXdzPC9kaXY+YClbMF07CiAgICAgICAgICAgIHBvcHVwXzhiYWM0OTVjNDcwMzQxMTNhYjVlOTRmZGIwZjkxZDJlLnNldENvbnRlbnQoaHRtbF80ZTI3NDM2OTZmZDA0ZjQxYWYzMjcyNzc2ZjYyOTJkNSk7CiAgICAgICAgCgogICAgICAgIG1hcmtlcl80NTA0N2VhZDcyNzE0NWIyYjBiNWExZmMwOWU2NzE2My5iaW5kUG9wdXAocG9wdXBfOGJhYzQ5NWM0NzAzNDExM2FiNWU5NGZkYjBmOTFkMmUpCiAgICAgICAgOwoKICAgICAgICAKICAgIAogICAgCiAgICAgICAgICAgIHZhciBtYXJrZXJfZDA0OTg2OTRhNmNlNDA0MzgzMjY2MDBjYjYwNzJjOGEgPSBMLm1hcmtlcigKICAgICAgICAgICAgICAgIFs1Mi4zMzQxODAwNSwgNC44NjY5MDA1NDk4NzExMjJdLAogICAgICAgICAgICAgICAge30KICAgICAgICAgICAgKS5hZGRUbyhtYXBfZjdmOTc1MmMwMmQ4NDIwMmJkNGMyMGRlNTUyOWU2ZTQpOwogICAgICAgIAogICAgCiAgICAgICAgdmFyIHBvcHVwXzRlZTA2NWI0ZjlhYjQ1NThiMGIzNDViODJkZTgzMzU3ID0gTC5wb3B1cCh7Im1heFdpZHRoIjogIjEwMCUifSk7CgogICAgICAgIAogICAgICAgICAgICB2YXIgaHRtbF80ZDA2YTViMTJlY2I0NGRjODdlYTBiZTgwOWEyYTc0NyA9ICQoYDxkaXYgaWQ9Imh0bWxfNGQwNmE1YjEyZWNiNDRkYzg3ZWEwYmU4MDlhMmE3NDciIHN0eWxlPSJ3aWR0aDogMTAwLjAlOyBoZWlnaHQ6IDEwMC4wJTsiPlZyaWplIFVuaXZlcnNpdGVpdCBBbXN0ZXJkYW08L2Rpdj5gKVswXTsKICAgICAgICAgICAgcG9wdXBfNGVlMDY1YjRmOWFiNDU1OGIwYjM0NWI4MmRlODMzNTcuc2V0Q29udGVudChodG1sXzRkMDZhNWIxMmVjYjQ0ZGM4N2VhMGJlODA5YTJhNzQ3KTsKICAgICAgICAKCiAgICAgICAgbWFya2VyX2QwNDk4Njk0YTZjZTQwNDM4MzI2NjAwY2I2MDcyYzhhLmJpbmRQb3B1cChwb3B1cF80ZWUwNjViNGY5YWI0NTU4YjBiMzQ1YjgyZGU4MzM1NykKICAgICAgICA7CgogICAgICAgIAogICAgCiAgICAKICAgICAgICAgICAgdmFyIG1hcmtlcl8wMDJiODUwYzZkY2I0ZTA1YmE1MGVmNzA1NGRkOGNhOCA9IEwubWFya2VyKAogICAgICAgICAgICAgICAgWzUxLjQ0ODY2MDIsIDUuNDkwMzk5NTY1NTA4MDQ3NV0sCiAgICAgICAgICAgICAgICB7fQogICAgICAgICAgICApLmFkZFRvKG1hcF9mN2Y5NzUyYzAyZDg0MjAyYmQ0YzIwZGU1NTI5ZTZlNCk7CiAgICAgICAgCiAgICAKICAgICAgICB2YXIgcG9wdXBfNWZmNjg4MWQ3ZTEyNGI2NGJmNjViMjFlMTNjZjkyOTcgPSBMLnBvcHVwKHsibWF4V2lkdGgiOiAiMTAwJSJ9KTsKCiAgICAgICAgCiAgICAgICAgICAgIHZhciBodG1sXzBiMzFmMzBmM2U1MDQ3NGFiZGU4NGI2ZmNmZmNlYmZmID0gJChgPGRpdiBpZD0iaHRtbF8wYjMxZjMwZjNlNTA0NzRhYmRlODRiNmZjZmZjZWJmZiIgc3R5bGU9IndpZHRoOiAxMDAuMCU7IGhlaWdodDogMTAwLjAlOyI+RWluZGhvdmVuIFVuaXZlcnNpdHkgb2YgVGVjaG5vbG9neTwvZGl2PmApWzBdOwogICAgICAgICAgICBwb3B1cF81ZmY2ODgxZDdlMTI0YjY0YmY2NWIyMWUxM2NmOTI5Ny5zZXRDb250ZW50KGh0bWxfMGIzMWYzMGYzZTUwNDc0YWJkZTg0YjZmY2ZmY2ViZmYpOwogICAgICAgIAoKICAgICAgICBtYXJrZXJfMDAyYjg1MGM2ZGNiNGUwNWJhNTBlZjcwNTRkZDhjYTguYmluZFBvcHVwKHBvcHVwXzVmZjY4ODFkN2UxMjRiNjRiZjY1YjIxZTEzY2Y5Mjk3KQogICAgICAgIDsKCiAgICAgICAgCiAgICAKICAgIAogICAgICAgICAgICB2YXIgbWFya2VyXzYyYmVjYzI3ODIxZDQyYzNiMDA1YmNhYmNjNTczMDQ3ID0gTC5tYXJrZXIoCiAgICAgICAgICAgICAgICBbNTIuNjI0NDYzNTUsIC0xLjEyNTczMDE0MzMzMzc5OF0sCiAgICAgICAgICAgICAgICB7fQogICAgICAgICAgICApLmFkZFRvKG1hcF9mN2Y5NzUyYzAyZDg0MjAyYmQ0YzIwZGU1NTI5ZTZlNCk7CiAgICAgICAgCiAgICAKICAgICAgICB2YXIgcG9wdXBfMjY0ZjAwY2E2NGY3NDgwOWEwNDUwNDk4YWU2NjNhNWQgPSBMLnBvcHVwKHsibWF4V2lkdGgiOiAiMTAwJSJ9KTsKCiAgICAgICAgCiAgICAgICAgICAgIHZhciBodG1sXzUzNmRmOTlmMTYxNTQ3MmE5Y2E4YWQ0NjlkYmI0OTNlID0gJChgPGRpdiBpZD0iaHRtbF81MzZkZjk5ZjE2MTU0NzJhOWNhOGFkNDY5ZGJiNDkzZSIgc3R5bGU9IndpZHRoOiAxMDAuMCU7IGhlaWdodDogMTAwLjAlOyI+VW5pdmVyc2l0eSBvZiBMZWljZXN0ZXI8L2Rpdj5gKVswXTsKICAgICAgICAgICAgcG9wdXBfMjY0ZjAwY2E2NGY3NDgwOWEwNDUwNDk4YWU2NjNhNWQuc2V0Q29udGVudChodG1sXzUzNmRmOTlmMTYxNTQ3MmE5Y2E4YWQ0NjlkYmI0OTNlKTsKICAgICAgICAKCiAgICAgICAgbWFya2VyXzYyYmVjYzI3ODIxZDQyYzNiMDA1YmNhYmNjNTczMDQ3LmJpbmRQb3B1cChwb3B1cF8yNjRmMDBjYTY0Zjc0ODA5YTA0NTA0OThhZTY2M2E1ZCkKICAgICAgICA7CgogICAgICAgIAogICAgCiAgICAKICAgICAgICAgICAgdmFyIG1hcmtlcl80NTkxZmZlYjhmYmY0MDE5YTIyZDJjZGU1OWNkMDU5YyA9IEwubWFya2VyKAogICAgICAgICAgICAgICAgWzU0Ljk4MDIxOTk1MDAwMDAwNiwgLTEuNjE0Njc2OTc0ODA1NjkwMl0sCiAgICAgICAgICAgICAgICB7fQogICAgICAgICAgICApLmFkZFRvKG1hcF9mN2Y5NzUyYzAyZDg0MjAyYmQ0YzIwZGU1NTI5ZTZlNCk7CiAgICAgICAgCiAgICAKICAgICAgICB2YXIgcG9wdXBfZDhmZmMzOGNkZDNmNDY3YmIwNzQwMjUwNjAwOTZkNjQgPSBMLnBvcHVwKHsibWF4V2lkdGgiOiAiMTAwJSJ9KTsKCiAgICAgICAgCiAgICAgICAgICAgIHZhciBodG1sXzhkOWQ5NmI5OWU4ZDQyMTJhYjg2NDhjYmIyM2ViZWIyID0gJChgPGRpdiBpZD0iaHRtbF84ZDlkOTZiOTllOGQ0MjEyYWI4NjQ4Y2JiMjNlYmViMiIgc3R5bGU9IndpZHRoOiAxMDAuMCU7IGhlaWdodDogMTAwLjAlOyI+TmV3Y2FzdGxlIFVuaXZlcnNpdHk8L2Rpdj5gKVswXTsKICAgICAgICAgICAgcG9wdXBfZDhmZmMzOGNkZDNmNDY3YmIwNzQwMjUwNjAwOTZkNjQuc2V0Q29udGVudChodG1sXzhkOWQ5NmI5OWU4ZDQyMTJhYjg2NDhjYmIyM2ViZWIyKTsKICAgICAgICAKCiAgICAgICAgbWFya2VyXzQ1OTFmZmViOGZiZjQwMTlhMjJkMmNkZTU5Y2QwNTljLmJpbmRQb3B1cChwb3B1cF9kOGZmYzM4Y2RkM2Y0NjdiYjA3NDAyNTA2MDA5NmQ2NCkKICAgICAgICA7CgogICAgICAgIAogICAgCiAgICAKICAgICAgICAgICAgdmFyIG1hcmtlcl80MjZjM2I3YjE5YTU0MDBhOGFlYmJhMDUyNGU5YWFiOCA9IEwubWFya2VyKAogICAgICAgICAgICAgICAgWzQ2LjUyMjU2OTUsIDYuNTgwOTUwNDk3NjU0Mjk0XSwKICAgICAgICAgICAgICAgIHt9CiAgICAgICAgICAgICkuYWRkVG8obWFwX2Y3Zjk3NTJjMDJkODQyMDJiZDRjMjBkZTU1MjllNmU0KTsKICAgICAgICAKICAgIAogICAgICAgIHZhciBwb3B1cF83NWMzOTMzZGUwMWM0MTViYTVlYzJlM2NhN2M2ZDYyYiA9IEwucG9wdXAoeyJtYXhXaWR0aCI6ICIxMDAlIn0pOwoKICAgICAgICAKICAgICAgICAgICAgdmFyIGh0bWxfMDc4ZWNlMjc0ZDk4NGU5N2JiMDI3MjM3YWM3NzgzY2YgPSAkKGA8ZGl2IGlkPSJodG1sXzA3OGVjZTI3NGQ5ODRlOTdiYjAyNzIzN2FjNzc4M2NmIiBzdHlsZT0id2lkdGg6IDEwMC4wJTsgaGVpZ2h0OiAxMDAuMCU7Ij5Vbml2ZXJzaXR5IG9mIExhdXNhbm5lPC9kaXY+YClbMF07CiAgICAgICAgICAgIHBvcHVwXzc1YzM5MzNkZTAxYzQxNWJhNWVjMmUzY2E3YzZkNjJiLnNldENvbnRlbnQoaHRtbF8wNzhlY2UyNzRkOTg0ZTk3YmIwMjcyMzdhYzc3ODNjZik7CiAgICAgICAgCgogICAgICAgIG1hcmtlcl80MjZjM2I3YjE5YTU0MDBhOGFlYmJhMDUyNGU5YWFiOC5iaW5kUG9wdXAocG9wdXBfNzVjMzkzM2RlMDFjNDE1YmE1ZWMyZTNjYTdjNmQ2MmIpCiAgICAgICAgOwoKICAgICAgICAKICAgIAogICAgCiAgICAgICAgICAgIHZhciBtYXJrZXJfOWZkMDlkMzYwZmNjNDczMzg5NTM1NTJhNjVlOWU4ZjMgPSBMLm1hcmtlcigKICAgICAgICAgICAgICAgIFs0NC40OTQ3NzAyLCAxMS4zNTU4OTY3XSwKICAgICAgICAgICAgICAgIHt9CiAgICAgICAgICAgICkuYWRkVG8obWFwX2Y3Zjk3NTJjMDJkODQyMDJiZDRjMjBkZTU1MjllNmU0KTsKICAgICAgICAKICAgIAogICAgICAgIHZhciBwb3B1cF9jNmJkMTg2MzhmMmE0YTRjYjgzODJlNGY0NjY4YWY1MyA9IEwucG9wdXAoeyJtYXhXaWR0aCI6ICIxMDAlIn0pOwoKICAgICAgICAKICAgICAgICAgICAgdmFyIGh0bWxfOTI4M2VlMDU4MDMzNGMyMTllNTljMjZhMWJiYjMxMDkgPSAkKGA8ZGl2IGlkPSJodG1sXzkyODNlZTA1ODAzMzRjMjE5ZTU5YzI2YTFiYmIzMTA5IiBzdHlsZT0id2lkdGg6IDEwMC4wJTsgaGVpZ2h0OiAxMDAuMCU7Ij5Vbml2ZXJzaXR5IG9mIEJvbG9nbmE8L2Rpdj5gKVswXTsKICAgICAgICAgICAgcG9wdXBfYzZiZDE4NjM4ZjJhNGE0Y2I4MzgyZTRmNDY2OGFmNTMuc2V0Q29udGVudChodG1sXzkyODNlZTA1ODAzMzRjMjE5ZTU5YzI2YTFiYmIzMTA5KTsKICAgICAgICAKCiAgICAgICAgbWFya2VyXzlmZDA5ZDM2MGZjYzQ3MzM4OTUzNTUyYTY1ZTllOGYzLmJpbmRQb3B1cChwb3B1cF9jNmJkMTg2MzhmMmE0YTRjYjgzODJlNGY0NjY4YWY1MykKICAgICAgICA7CgogICAgICAgIAogICAgCiAgICAKICAgICAgICAgICAgdmFyIG1hcmtlcl9lNDQ2ODEwNWY3YTc0MGE4YmI4MTk0YjE5MjU1M2MxMiA9IEwubWFya2VyKAogICAgICAgICAgICAgICAgWzYwLjE4NTQ3NzM5OTk5OTk5NiwgMjQuODI4MDgxOTI0NzYyNDE1XSwKICAgICAgICAgICAgICAgIHt9CiAgICAgICAgICAgICkuYWRkVG8obWFwX2Y3Zjk3NTJjMDJkODQyMDJiZDRjMjBkZTU1MjllNmU0KTsKICAgICAgICAKICAgIAogICAgICAgIHZhciBwb3B1cF8wYWM2NTgwNDAzNzU0ZTkwYTkyMmRjMTI2ZjRmODJiZSA9IEwucG9wdXAoeyJtYXhXaWR0aCI6ICIxMDAlIn0pOwoKICAgICAgICAKICAgICAgICAgICAgdmFyIGh0bWxfM2U0ZDQxYjg4NWNhNDY4NWJjMGUyNzlkNTE3Yjc4NDAgPSAkKGA8ZGl2IGlkPSJodG1sXzNlNGQ0MWI4ODVjYTQ2ODViYzBlMjc5ZDUxN2I3ODQwIiBzdHlsZT0id2lkdGg6IDEwMC4wJTsgaGVpZ2h0OiAxMDAuMCU7Ij5BYWx0byBVbml2ZXJzaXR5PC9kaXY+YClbMF07CiAgICAgICAgICAgIHBvcHVwXzBhYzY1ODA0MDM3NTRlOTBhOTIyZGMxMjZmNGY4MmJlLnNldENvbnRlbnQoaHRtbF8zZTRkNDFiODg1Y2E0Njg1YmMwZTI3OWQ1MTdiNzg0MCk7CiAgICAgICAgCgogICAgICAgIG1hcmtlcl9lNDQ2ODEwNWY3YTc0MGE4YmI4MTk0YjE5MjU1M2MxMi5iaW5kUG9wdXAocG9wdXBfMGFjNjU4MDQwMzc1NGU5MGE5MjJkYzEyNmY0ZjgyYmUpCiAgICAgICAgOwoKICAgICAgICAKICAgIAogICAgCiAgICAgICAgICAgIHZhciBtYXJrZXJfNGI4MjVjYTI1MGFmNGNhMGE4ZTBjNGMzY2I2YjhhMjcgPSBMLm1hcmtlcigKICAgICAgICAgICAgICAgIFs1My40MDQ1ODU2NSwgLTIuOTY0NTYwNzc5NzEwNDA2XSwKICAgICAgICAgICAgICAgIHt9CiAgICAgICAgICAgICkuYWRkVG8obWFwX2Y3Zjk3NTJjMDJkODQyMDJiZDRjMjBkZTU1MjllNmU0KTsKICAgICAgICAKICAgIAogICAgICAgIHZhciBwb3B1cF80ZTUxOWM4ZGYwZTY0OGQxYWZjMDgwYjEyNmFhMzU3ZCA9IEwucG9wdXAoeyJtYXhXaWR0aCI6ICIxMDAlIn0pOwoKICAgICAgICAKICAgICAgICAgICAgdmFyIGh0bWxfOTJhOWFiZTEyOTIzNGMwMmJkYTAxYWE1NTY4ZTZkY2EgPSAkKGA8ZGl2IGlkPSJodG1sXzkyYTlhYmUxMjkyMzRjMDJiZGEwMWFhNTU2OGU2ZGNhIiBzdHlsZT0id2lkdGg6IDEwMC4wJTsgaGVpZ2h0OiAxMDAuMCU7Ij5Vbml2ZXJzaXR5IG9mIExpdmVycG9vbDwvZGl2PmApWzBdOwogICAgICAgICAgICBwb3B1cF80ZTUxOWM4ZGYwZTY0OGQxYWZjMDgwYjEyNmFhMzU3ZC5zZXRDb250ZW50KGh0bWxfOTJhOWFiZTEyOTIzNGMwMmJkYTAxYWE1NTY4ZTZkY2EpOwogICAgICAgIAoKICAgICAgICBtYXJrZXJfNGI4MjVjYTI1MGFmNGNhMGE4ZTBjNGMzY2I2YjhhMjcuYmluZFBvcHVwKHBvcHVwXzRlNTE5YzhkZjBlNjQ4ZDFhZmMwODBiMTI2YWEzNTdkKQogICAgICAgIDsKCiAgICAgICAgCiAgICAKICAgIAogICAgICAgICAgICB2YXIgbWFya2VyXzMwMjRkNjU0YmRhODRkOGQ4OWJiZmEwYTYyOTZjZjZjID0gTC5tYXJrZXIoCiAgICAgICAgICAgICAgICBbNTEuOTY3MzQyMTUsIDcuNTk5MjQzMzI2MjcyMTU5XSwKICAgICAgICAgICAgICAgIHt9CiAgICAgICAgICAgICkuYWRkVG8obWFwX2Y3Zjk3NTJjMDJkODQyMDJiZDRjMjBkZTU1MjllNmU0KTsKICAgICAgICAKICAgIAogICAgICAgIHZhciBwb3B1cF80YjlmNTk1NDM5NDU0OGM2YTdhNWYxYmQ4MDBiODM2MSA9IEwucG9wdXAoeyJtYXhXaWR0aCI6ICIxMDAlIn0pOwoKICAgICAgICAKICAgICAgICAgICAgdmFyIGh0bWxfNzdjMzcwZTg0NDVlNDhmYmJjMWEzNDQxYzQzYjg3ZmQgPSAkKGA8ZGl2IGlkPSJodG1sXzc3YzM3MGU4NDQ1ZTQ4ZmJiYzFhMzQ0MWM0M2I4N2ZkIiBzdHlsZT0id2lkdGg6IDEwMC4wJTsgaGVpZ2h0OiAxMDAuMCU7Ij5Vbml2ZXJzaXR5IG9mIE3DvG5zdGVyPC9kaXY+YClbMF07CiAgICAgICAgICAgIHBvcHVwXzRiOWY1OTU0Mzk0NTQ4YzZhN2E1ZjFiZDgwMGI4MzYxLnNldENvbnRlbnQoaHRtbF83N2MzNzBlODQ0NWU0OGZiYmMxYTM0NDFjNDNiODdmZCk7CiAgICAgICAgCgogICAgICAgIG1hcmtlcl8zMDI0ZDY1NGJkYTg0ZDhkODliYmZhMGE2Mjk2Y2Y2Yy5iaW5kUG9wdXAocG9wdXBfNGI5ZjU5NTQzOTQ1NDhjNmE3YTVmMWJkODAwYjgzNjEpCiAgICAgICAgOwoKICAgICAgICAKICAgIAogICAgCiAgICAgICAgICAgIHZhciBtYXJrZXJfZjBkM2E4Y2JlMjVlNGRlYzg2ZWY1M2UwY2ViZTFlNDMgPSBMLm1hcmtlcigKICAgICAgICAgICAgICAgIFs1Mi4yMjMzODYyLCA2Ljg4NTQyMzE1OTk3MTE2XSwKICAgICAgICAgICAgICAgIHt9CiAgICAgICAgICAgICkuYWRkVG8obWFwX2Y3Zjk3NTJjMDJkODQyMDJiZDRjMjBkZTU1MjllNmU0KTsKICAgICAgICAKICAgIAogICAgICAgIHZhciBwb3B1cF8xNjQxZWQ4MjhmM2Y0ZDVkOTM2NTI4NWVlN2JlN2RjMCA9IEwucG9wdXAoeyJtYXhXaWR0aCI6ICIxMDAlIn0pOwoKICAgICAgICAKICAgICAgICAgICAgdmFyIGh0bWxfODgxNTVjYzY3OTYxNDc4ZWI5ZWU4ZGRkYzBkNzI0NzQgPSAkKGA8ZGl2IGlkPSJodG1sXzg4MTU1Y2M2Nzk2MTQ3OGViOWVlOGRkZGMwZDcyNDc0IiBzdHlsZT0id2lkdGg6IDEwMC4wJTsgaGVpZ2h0OiAxMDAuMCU7Ij5Vbml2ZXJzaXR5IG9mIFR3ZW50ZTwvZGl2PmApWzBdOwogICAgICAgICAgICBwb3B1cF8xNjQxZWQ4MjhmM2Y0ZDVkOTM2NTI4NWVlN2JlN2RjMC5zZXRDb250ZW50KGh0bWxfODgxNTVjYzY3OTYxNDc4ZWI5ZWU4ZGRkYzBkNzI0NzQpOwogICAgICAgIAoKICAgICAgICBtYXJrZXJfZjBkM2E4Y2JlMjVlNGRlYzg2ZWY1M2UwY2ViZTFlNDMuYmluZFBvcHVwKHBvcHVwXzE2NDFlZDgyOGYzZjRkNWQ5MzY1Mjg1ZWU3YmU3ZGMwKQogICAgICAgIDsKCiAgICAgICAgCiAgICAKICAgIAogICAgICAgICAgICB2YXIgbWFya2VyX2E3NmZjOGU5M2IzNjQxZmVhYjY3ZDk2ZWQ5NzkyYjhkID0gTC5tYXJrZXIoCiAgICAgICAgICAgICAgICBbNTEuNDkwNzA2OCwgLTMuMTgzMzA4MjM3NDEzMjJdLAogICAgICAgICAgICAgICAge30KICAgICAgICAgICAgKS5hZGRUbyhtYXBfZjdmOTc1MmMwMmQ4NDIwMmJkNGMyMGRlNTUyOWU2ZTQpOwogICAgICAgIAogICAgCiAgICAgICAgdmFyIHBvcHVwX2Y3ODk2ZWMwYTQ3ZDQyYmQ5NWVjN2MzYWQxZTZlNjMyID0gTC5wb3B1cCh7Im1heFdpZHRoIjogIjEwMCUifSk7CgogICAgICAgIAogICAgICAgICAgICB2YXIgaHRtbF81OTU5NWUxMmVkNzc0M2M3YmMzNzNmOWQwYzNiN2ZlNCA9ICQoYDxkaXYgaWQ9Imh0bWxfNTk1OTVlMTJlZDc3NDNjN2JjMzczZjlkMGMzYjdmZTQiIHN0eWxlPSJ3aWR0aDogMTAwLjAlOyBoZWlnaHQ6IDEwMC4wJTsiPkNhcmRpZmYgVW5pdmVyc2l0eTwvZGl2PmApWzBdOwogICAgICAgICAgICBwb3B1cF9mNzg5NmVjMGE0N2Q0MmJkOTVlYzdjM2FkMWU2ZTYzMi5zZXRDb250ZW50KGh0bWxfNTk1OTVlMTJlZDc3NDNjN2JjMzczZjlkMGMzYjdmZTQpOwogICAgICAgIAoKICAgICAgICBtYXJrZXJfYTc2ZmM4ZTkzYjM2NDFmZWFiNjdkOTZlZDk3OTJiOGQuYmluZFBvcHVwKHBvcHVwX2Y3ODk2ZWMwYTQ3ZDQyYmQ5NWVjN2MzYWQxZTZlNjMyKQogICAgICAgIDsKCiAgICAgICAgCiAgICAKICAgIAogICAgICAgICAgICB2YXIgbWFya2VyX2YzNTc4OWRiOTRhOTQyYmQ5MmEyMGM0YTUyZDQxODhhID0gTC5tYXJrZXIoCiAgICAgICAgICAgICAgICBbNTkuMjAxNjc1OCwgMTcuNjIwMzIwMV0sCiAgICAgICAgICAgICAgICB7fQogICAgICAgICAgICApLmFkZFRvKG1hcF9mN2Y5NzUyYzAyZDg0MjAyYmQ0YzIwZGU1NTI5ZTZlNCk7CiAgICAgICAgCiAgICAKICAgICAgICB2YXIgcG9wdXBfZDFhMzdiMDYwNTExNDNlYWJhZWZjMmNmMmZhNzIxYzMgPSBMLnBvcHVwKHsibWF4V2lkdGgiOiAiMTAwJSJ9KTsKCiAgICAgICAgCiAgICAgICAgICAgIHZhciBodG1sX2NmNTkxZDgwMmUzNDRkMWNhYWM4NjM5MDI1NTY5OTlkID0gJChgPGRpdiBpZD0iaHRtbF9jZjU5MWQ4MDJlMzQ0ZDFjYWFjODYzOTAyNTU2OTk5ZCIgc3R5bGU9IndpZHRoOiAxMDAuMCU7IGhlaWdodDogMTAwLjAlOyI+S1RIIFJveWFsIEluc3RpdHV0ZSBvZiBUZWNobm9sb2d5PC9kaXY+YClbMF07CiAgICAgICAgICAgIHBvcHVwX2QxYTM3YjA2MDUxMTQzZWFiYWVmYzJjZjJmYTcyMWMzLnNldENvbnRlbnQoaHRtbF9jZjU5MWQ4MDJlMzQ0ZDFjYWFjODYzOTAyNTU2OTk5ZCk7CiAgICAgICAgCgogICAgICAgIG1hcmtlcl9mMzU3ODlkYjk0YTk0MmJkOTJhMjBjNGE1MmQ0MTg4YS5iaW5kUG9wdXAocG9wdXBfZDFhMzdiMDYwNTExNDNlYWJhZWZjMmNmMmZhNzIxYzMpCiAgICAgICAgOwoKICAgICAgICAKICAgIAogICAgCiAgICAgICAgICAgIHZhciBtYXJrZXJfZTBmYzZlZjNiYjc1NDJhYjg3MmE0M2E2MWIxNjNhY2YgPSBMLm1hcmtlcigKICAgICAgICAgICAgICAgIFs0Ny42OTAwODg1OTk5OTk5OTYsIDkuMTg4MjQzODc2NTAwMjUyXSwKICAgICAgICAgICAgICAgIHt9CiAgICAgICAgICAgICkuYWRkVG8obWFwX2Y3Zjk3NTJjMDJkODQyMDJiZDRjMjBkZTU1MjllNmU0KTsKICAgICAgICAKICAgIAogICAgICAgIHZhciBwb3B1cF9hMjY4NTc0MjAyZTk0NTQ2YTc0OGY5MDcyMWUwNzQ2NyA9IEwucG9wdXAoeyJtYXhXaWR0aCI6ICIxMDAlIn0pOwoKICAgICAgICAKICAgICAgICAgICAgdmFyIGh0bWxfZDhiOGVkZjFjZjFiNDJmYzkxZDY0OTQ2YWY2N2M5Y2EgPSAkKGA8ZGl2IGlkPSJodG1sX2Q4YjhlZGYxY2YxYjQyZmM5MWQ2NDk0NmFmNjdjOWNhIiBzdHlsZT0id2lkdGg6IDEwMC4wJTsgaGVpZ2h0OiAxMDAuMCU7Ij5Vbml2ZXJzaXR5IG9mIEtvbnN0YW56PC9kaXY+YClbMF07CiAgICAgICAgICAgIHBvcHVwX2EyNjg1NzQyMDJlOTQ1NDZhNzQ4ZjkwNzIxZTA3NDY3LnNldENvbnRlbnQoaHRtbF9kOGI4ZWRmMWNmMWI0MmZjOTFkNjQ5NDZhZjY3YzljYSk7CiAgICAgICAgCgogICAgICAgIG1hcmtlcl9lMGZjNmVmM2JiNzU0MmFiODcyYTQzYTYxYjE2M2FjZi5iaW5kUG9wdXAocG9wdXBfYTI2ODU3NDIwMmU5NDU0NmE3NDhmOTA3MjFlMDc0NjcpCiAgICAgICAgOwoKICAgICAgICAKICAgIAogICAgCiAgICAgICAgICAgIHZhciBtYXJrZXJfMGIwMjk5ZjA1MDIwNDNiODhiYWQwYzZmOWJlNzQ5ZjggPSBMLm1hcmtlcigKICAgICAgICAgICAgICAgIFs1MS40MjkwODk5LCA2LjgwMDg1ODAzMjY0MDFdLAogICAgICAgICAgICAgICAge30KICAgICAgICAgICAgKS5hZGRUbyhtYXBfZjdmOTc1MmMwMmQ4NDIwMmJkNGMyMGRlNTUyOWU2ZTQpOwogICAgICAgIAogICAgCiAgICAgICAgdmFyIHBvcHVwXzM3MDM1MDk4YzU1NzRlOTc5NGQwNDI3NDUwNjVlNDUxID0gTC5wb3B1cCh7Im1heFdpZHRoIjogIjEwMCUifSk7CgogICAgICAgIAogICAgICAgICAgICB2YXIgaHRtbF9kNGRiOGU1YTczMTk0ZDc2ODUyYTg3ZmI2MDEyNjUzYyA9ICQoYDxkaXYgaWQ9Imh0bWxfZDRkYjhlNWE3MzE5NGQ3Njg1MmE4N2ZiNjAxMjY1M2MiIHN0eWxlPSJ3aWR0aDogMTAwLjAlOyBoZWlnaHQ6IDEwMC4wJTsiPlVuaXZlcnNpdHkgb2YgRHVpc2J1cmctRXNzZW48L2Rpdj5gKVswXTsKICAgICAgICAgICAgcG9wdXBfMzcwMzUwOThjNTU3NGU5Nzk0ZDA0Mjc0NTA2NWU0NTEuc2V0Q29udGVudChodG1sX2Q0ZGI4ZTVhNzMxOTRkNzY4NTJhODdmYjYwMTI2NTNjKTsKICAgICAgICAKCiAgICAgICAgbWFya2VyXzBiMDI5OWYwNTAyMDQzYjg4YmFkMGM2ZjliZTc0OWY4LmJpbmRQb3B1cChwb3B1cF8zNzAzNTA5OGM1NTc0ZTk3OTRkMDQyNzQ1MDY1ZTQ1MSkKICAgICAgICA7CgogICAgICAgIAogICAgCiAgICAKICAgICAgICAgICAgdmFyIG1hcmtlcl9mYzM5ODAwYjQyYmI0Y2I4OTgxYTUxZDQzYzM0M2FiNyA9IEwubWFya2VyKAogICAgICAgICAgICAgICAgWzUyLjYyMjI1MSwgMS4yNDExNTc5XSwKICAgICAgICAgICAgICAgIHt9CiAgICAgICAgICAgICkuYWRkVG8obWFwX2Y3Zjk3NTJjMDJkODQyMDJiZDRjMjBkZTU1MjllNmU0KTsKICAgICAgICAKICAgIAogICAgICAgIHZhciBwb3B1cF8wNTQxNDMyMWE3Yzc0ZDVkOGNkYjYxNzEzODQ0YjZmYSA9IEwucG9wdXAoeyJtYXhXaWR0aCI6ICIxMDAlIn0pOwoKICAgICAgICAKICAgICAgICAgICAgdmFyIGh0bWxfNjM2ZTk0ODI1ZTM2NDQyMDkxY2RmOTEyMDkwZWFiMzQgPSAkKGA8ZGl2IGlkPSJodG1sXzYzNmU5NDgyNWUzNjQ0MjA5MWNkZjkxMjA5MGVhYjM0IiBzdHlsZT0id2lkdGg6IDEwMC4wJTsgaGVpZ2h0OiAxMDAuMCU7Ij5Vbml2ZXJzaXR5IG9mIEVhc3QgQW5nbGlhPC9kaXY+YClbMF07CiAgICAgICAgICAgIHBvcHVwXzA1NDE0MzIxYTdjNzRkNWQ4Y2RiNjE3MTM4NDRiNmZhLnNldENvbnRlbnQoaHRtbF82MzZlOTQ4MjVlMzY0NDIwOTFjZGY5MTIwOTBlYWIzNCk7CiAgICAgICAgCgogICAgICAgIG1hcmtlcl9mYzM5ODAwYjQyYmI0Y2I4OTgxYTUxZDQzYzM0M2FiNy5iaW5kUG9wdXAocG9wdXBfMDU0MTQzMjFhN2M3NGQ1ZDhjZGI2MTcxMzg0NGI2ZmEpCiAgICAgICAgOwoKICAgICAgICAKICAgIAogICAgCiAgICAgICAgICAgIHZhciBtYXJrZXJfNDQ2MTk5MmYzZWYzNGQ0Nzg0MDEwNDUxNTQwY2Y4Y2MgPSBMLm1hcmtlcigKICAgICAgICAgICAgICAgIFs1Ny4wMTU5MDI3NSwgOS45NzUzMjgyNjY1ODk5MDddLAogICAgICAgICAgICAgICAge30KICAgICAgICAgICAgKS5hZGRUbyhtYXBfZjdmOTc1MmMwMmQ4NDIwMmJkNGMyMGRlNTUyOWU2ZTQpOwogICAgICAgIAogICAgCiAgICAgICAgdmFyIHBvcHVwX2M5OWI3NWM5YmI0NDQzNGQ5YmZmODQ3ZTMxMWU3ODk2ID0gTC5wb3B1cCh7Im1heFdpZHRoIjogIjEwMCUifSk7CgogICAgICAgIAogICAgICAgICAgICB2YXIgaHRtbF81MDk4NTU3MmU0ZjE0MzE0YjBhYjI1NTgxMWYzNDUyMiA9ICQoYDxkaXYgaWQ9Imh0bWxfNTA5ODU1NzJlNGYxNDMxNGIwYWIyNTU4MTFmMzQ1MjIiIHN0eWxlPSJ3aWR0aDogMTAwLjAlOyBoZWlnaHQ6IDEwMC4wJTsiPkFhbGJvcmcgVW5pdmVyc2l0eTwvZGl2PmApWzBdOwogICAgICAgICAgICBwb3B1cF9jOTliNzVjOWJiNDQ0MzRkOWJmZjg0N2UzMTFlNzg5Ni5zZXRDb250ZW50KGh0bWxfNTA5ODU1NzJlNGYxNDMxNGIwYWIyNTU4MTFmMzQ1MjIpOwogICAgICAgIAoKICAgICAgICBtYXJrZXJfNDQ2MTk5MmYzZWYzNGQ0Nzg0MDEwNDUxNTQwY2Y4Y2MuYmluZFBvcHVwKHBvcHVwX2M5OWI3NWM5YmI0NDQzNGQ5YmZmODQ3ZTMxMWU3ODk2KQogICAgICAgIDsKCiAgICAgICAgCiAgICAKICAgIAogICAgICAgICAgICB2YXIgbWFya2VyX2ZmZjc5ZmY5ZGM3ODQ5MmE4OGJkNmU4ODAyNzkyYjdiID0gTC5tYXJrZXIoCiAgICAgICAgICAgICAgICBbNDAuNzI3NjI0NTAwMDAwMDA1LCAtNzQuMDcyMTY3ODUzNzAyOTRdLAogICAgICAgICAgICAgICAge30KICAgICAgICAgICAgKS5hZGRUbyhtYXBfZjdmOTc1MmMwMmQ4NDIwMmJkNGMyMGRlNTUyOWU2ZTQpOwogICAgICAgIAogICAgCiAgICAgICAgdmFyIHBvcHVwX2VmZWM0ODY5NzBkODQwYzVhN2E2ZGQwMjM1MjgxZGFlID0gTC5wb3B1cCh7Im1heFdpZHRoIjogIjEwMCUifSk7CgogICAgICAgIAogICAgICAgICAgICB2YXIgaHRtbF8wZjU3MjE2ODVmNTQ0ZWQxOTBkMzU0YWM1MGNjNzVjZCA9ICQoYDxkaXYgaWQ9Imh0bWxfMGY1NzIxNjg1ZjU0NGVkMTkwZDM1NGFjNTBjYzc1Y2QiIHN0eWxlPSJ3aWR0aDogMTAwLjAlOyBoZWlnaHQ6IDEwMC4wJTsiPlVuaXZlcnNpdHkgb2YgQmVyZ2VuPC9kaXY+YClbMF07CiAgICAgICAgICAgIHBvcHVwX2VmZWM0ODY5NzBkODQwYzVhN2E2ZGQwMjM1MjgxZGFlLnNldENvbnRlbnQoaHRtbF8wZjU3MjE2ODVmNTQ0ZWQxOTBkMzU0YWM1MGNjNzVjZCk7CiAgICAgICAgCgogICAgICAgIG1hcmtlcl9mZmY3OWZmOWRjNzg0OTJhODhiZDZlODgwMjc5MmI3Yi5iaW5kUG9wdXAocG9wdXBfZWZlYzQ4Njk3MGQ4NDBjNWE3YTZkZDAyMzUyODFkYWUpCiAgICAgICAgOwoKICAgICAgICAKICAgIAogICAgCiAgICAgICAgICAgIHZhciBtYXJrZXJfYzVlYTA1YmUzYzA1NGM3NmI2MTMwZjgxYWJiNGUyMTUgPSBMLm1hcmtlcigKICAgICAgICAgICAgICAgIFs1NS43MDIyOTcxNSwgMzcuNTMxNzk3NzY5NDI5MTA1XSwKICAgICAgICAgICAgICAgIHt9CiAgICAgICAgICAgICkuYWRkVG8obWFwX2Y3Zjk3NTJjMDJkODQyMDJiZDRjMjBkZTU1MjllNmU0KTsKICAgICAgICAKICAgIAogICAgICAgIHZhciBwb3B1cF9kZTdjNDg2ZWVjMTU0NTFkOTBhZGFjM2ZjOTZmMjYwOSA9IEwucG9wdXAoeyJtYXhXaWR0aCI6ICIxMDAlIn0pOwoKICAgICAgICAKICAgICAgICAgICAgdmFyIGh0bWxfZTJiYzUzOWQyODkxNDQ5NzliOThjY2FkMjljZDI3ZTYgPSAkKGA8ZGl2IGlkPSJodG1sX2UyYmM1MzlkMjg5MTQ0OTc5Yjk4Y2NhZDI5Y2QyN2U2IiBzdHlsZT0id2lkdGg6IDEwMC4wJTsgaGVpZ2h0OiAxMDAuMCU7Ij5Mb21vbm9zb3YgTW9zY293IFN0YXRlIFVuaXZlcnNpdHk8L2Rpdj5gKVswXTsKICAgICAgICAgICAgcG9wdXBfZGU3YzQ4NmVlYzE1NDUxZDkwYWRhYzNmYzk2ZjI2MDkuc2V0Q29udGVudChodG1sX2UyYmM1MzlkMjg5MTQ0OTc5Yjk4Y2NhZDI5Y2QyN2U2KTsKICAgICAgICAKCiAgICAgICAgbWFya2VyX2M1ZWEwNWJlM2MwNTRjNzZiNjEzMGY4MWFiYjRlMjE1LmJpbmRQb3B1cChwb3B1cF9kZTdjNDg2ZWVjMTU0NTFkOTBhZGFjM2ZjOTZmMjYwOSkKICAgICAgICA7CgogICAgICAgIAogICAgCiAgICAKICAgICAgICAgICAgdmFyIG1hcmtlcl9iYWU3OWYwNWViMjI0YjkwOTA2NGE1YWFkYzRkNjU5OSA9IEwubWFya2VyKAogICAgICAgICAgICAgICAgWzUxLjE4NDM4NTYsIDQuNDE5OTM4Njg3ODYzNzUxXSwKICAgICAgICAgICAgICAgIHt9CiAgICAgICAgICAgICkuYWRkVG8obWFwX2Y3Zjk3NTJjMDJkODQyMDJiZDRjMjBkZTU1MjllNmU0KTsKICAgICAgICAKICAgIAogICAgICAgIHZhciBwb3B1cF9lZmY1NWMyY2IzYjA0MDI5OGVlMjhkYWNlMzE2NDAyZSA9IEwucG9wdXAoeyJtYXhXaWR0aCI6ICIxMDAlIn0pOwoKICAgICAgICAKICAgICAgICAgICAgdmFyIGh0bWxfNDQ0NjRkNDk3ZjA5NGM2YWIzNjY0MDlhODkwNmM4YjUgPSAkKGA8ZGl2IGlkPSJodG1sXzQ0NDY0ZDQ5N2YwOTRjNmFiMzY2NDA5YTg5MDZjOGI1IiBzdHlsZT0id2lkdGg6IDEwMC4wJTsgaGVpZ2h0OiAxMDAuMCU7Ij5Vbml2ZXJzaXR5IG9mIEFudHdlcnA8L2Rpdj5gKVswXTsKICAgICAgICAgICAgcG9wdXBfZWZmNTVjMmNiM2IwNDAyOThlZTI4ZGFjZTMxNjQwMmUuc2V0Q29udGVudChodG1sXzQ0NDY0ZDQ5N2YwOTRjNmFiMzY2NDA5YTg5MDZjOGI1KTsKICAgICAgICAKCiAgICAgICAgbWFya2VyX2JhZTc5ZjA1ZWIyMjRiOTA5MDY0YTVhYWRjNGQ2NTk5LmJpbmRQb3B1cChwb3B1cF9lZmY1NWMyY2IzYjA0MDI5OGVlMjhkYWNlMzE2NDAyZSkKICAgICAgICA7CgogICAgICAgIAogICAgCjwvc2NyaXB0Pg== onload=\"this.contentDocument.open();this.contentDocument.write(atob(this.getAttribute('data-html')));this.contentDocument.close();\" allowfullscreen webkitallowfullscreen mozallowfullscreen></iframe></div></div>"
      ],
      "text/plain": [
       "<folium.folium.Map at 0x7fe11e73b110>"
      ]
     },
     "execution_count": 7,
     "metadata": {},
     "output_type": "execute_result"
    }
   ],
   "source": [
    "# Create a map\n",
    "m = folium.Map(location=[54, 15], tiles='openstreetmap', zoom_start=2)\n",
    "\n",
    "# Add points to the map\n",
    "for idx, row in universities.iterrows():\n",
    "    Marker([row['Latitude'], row['Longitude']], popup=row['Name']).add_to(m)\n",
    "\n",
    "# Display the map\n",
    "m"
   ]
  },
  {
   "cell_type": "markdown",
   "metadata": {
    "papermill": {
     "duration": 0.026614,
     "end_time": "2020-10-01T00:26:04.530201",
     "exception": false,
     "start_time": "2020-10-01T00:26:04.503587",
     "status": "completed"
    },
    "tags": []
   },
   "source": [
    "# Table joins\n",
    "\n",
    "Now, we'll switch topics and think about how to combine data from different sources.  \n",
    "\n",
    "### Attribute join\n",
    "\n",
    "[You already know](https://www.kaggle.com/residentmario/renaming-and-combining) how to use `pd.DataFrame.join()` to combine information from multiple DataFrames with a shared index.  We refer to this way of joining data (by simpling matching values in the index) as an **attribute join**.\n",
    "\n",
    "When performing an attribute join with a GeoDataFrame, it's best to use the `gpd.GeoDataFrame.merge()`.  To illustrate this, we'll work with a GeoDataFrame `europe_boundaries` containing the boundaries for every country in Europe.  The first five rows of this GeoDataFrame are printed below."
   ]
  },
  {
   "cell_type": "code",
   "execution_count": 8,
   "metadata": {
    "_kg_hide-input": true,
    "execution": {
     "iopub.execute_input": "2020-10-01T00:26:04.634992Z",
     "iopub.status.busy": "2020-10-01T00:26:04.633418Z",
     "iopub.status.idle": "2020-10-01T00:26:04.690613Z",
     "shell.execute_reply": "2020-10-01T00:26:04.689934Z"
    },
    "papermill": {
     "duration": 0.133631,
     "end_time": "2020-10-01T00:26:04.690772",
     "exception": false,
     "start_time": "2020-10-01T00:26:04.557141",
     "status": "completed"
    },
    "tags": []
   },
   "outputs": [],
   "source": [
    "\n",
    "world = gpd.read_file(gpd.datasets.get_path('naturalearth_lowres'))\n",
    "europe = world.loc[world.continent == 'Europe'].reset_index(drop=True)\n",
    "\n",
    "europe_stats = europe[[\"name\", \"pop_est\", \"gdp_md_est\"]]\n",
    "europe_boundaries = europe[[\"name\", \"geometry\"]]"
   ]
  },
  {
   "cell_type": "code",
   "execution_count": 9,
   "metadata": {
    "execution": {
     "iopub.execute_input": "2020-10-01T00:26:04.754027Z",
     "iopub.status.busy": "2020-10-01T00:26:04.752954Z",
     "iopub.status.idle": "2020-10-01T00:26:04.770224Z",
     "shell.execute_reply": "2020-10-01T00:26:04.769488Z"
    },
    "papermill": {
     "duration": 0.052592,
     "end_time": "2020-10-01T00:26:04.770366",
     "exception": false,
     "start_time": "2020-10-01T00:26:04.717774",
     "status": "completed"
    },
    "tags": []
   },
   "outputs": [
    {
     "data": {
      "text/html": [
       "<div>\n",
       "<style scoped>\n",
       "    .dataframe tbody tr th:only-of-type {\n",
       "        vertical-align: middle;\n",
       "    }\n",
       "\n",
       "    .dataframe tbody tr th {\n",
       "        vertical-align: top;\n",
       "    }\n",
       "\n",
       "    .dataframe thead th {\n",
       "        text-align: right;\n",
       "    }\n",
       "</style>\n",
       "<table border=\"1\" class=\"dataframe\">\n",
       "  <thead>\n",
       "    <tr style=\"text-align: right;\">\n",
       "      <th></th>\n",
       "      <th>name</th>\n",
       "      <th>geometry</th>\n",
       "    </tr>\n",
       "  </thead>\n",
       "  <tbody>\n",
       "    <tr>\n",
       "      <th>0</th>\n",
       "      <td>Russia</td>\n",
       "      <td>MULTIPOLYGON (((178.725 71.099, 180.000 71.516...</td>\n",
       "    </tr>\n",
       "    <tr>\n",
       "      <th>1</th>\n",
       "      <td>Norway</td>\n",
       "      <td>MULTIPOLYGON (((15.143 79.674, 15.523 80.016, ...</td>\n",
       "    </tr>\n",
       "    <tr>\n",
       "      <th>2</th>\n",
       "      <td>France</td>\n",
       "      <td>MULTIPOLYGON (((-51.658 4.156, -52.249 3.241, ...</td>\n",
       "    </tr>\n",
       "    <tr>\n",
       "      <th>3</th>\n",
       "      <td>Sweden</td>\n",
       "      <td>POLYGON ((11.027 58.856, 11.468 59.432, 12.300...</td>\n",
       "    </tr>\n",
       "    <tr>\n",
       "      <th>4</th>\n",
       "      <td>Belarus</td>\n",
       "      <td>POLYGON ((28.177 56.169, 29.230 55.918, 29.372...</td>\n",
       "    </tr>\n",
       "  </tbody>\n",
       "</table>\n",
       "</div>"
      ],
      "text/plain": [
       "      name                                           geometry\n",
       "0   Russia  MULTIPOLYGON (((178.725 71.099, 180.000 71.516...\n",
       "1   Norway  MULTIPOLYGON (((15.143 79.674, 15.523 80.016, ...\n",
       "2   France  MULTIPOLYGON (((-51.658 4.156, -52.249 3.241, ...\n",
       "3   Sweden  POLYGON ((11.027 58.856, 11.468 59.432, 12.300...\n",
       "4  Belarus  POLYGON ((28.177 56.169, 29.230 55.918, 29.372..."
      ]
     },
     "execution_count": 9,
     "metadata": {},
     "output_type": "execute_result"
    }
   ],
   "source": [
    "europe_boundaries.head()"
   ]
  },
  {
   "cell_type": "markdown",
   "metadata": {
    "papermill": {
     "duration": 0.027571,
     "end_time": "2020-10-01T00:26:04.826506",
     "exception": false,
     "start_time": "2020-10-01T00:26:04.798935",
     "status": "completed"
    },
    "tags": []
   },
   "source": [
    "We'll join it with a DataFrame `europe_stats` containing the estimated population and gross domestic product (GDP) for each country."
   ]
  },
  {
   "cell_type": "code",
   "execution_count": 10,
   "metadata": {
    "execution": {
     "iopub.execute_input": "2020-10-01T00:26:04.894560Z",
     "iopub.status.busy": "2020-10-01T00:26:04.893706Z",
     "iopub.status.idle": "2020-10-01T00:26:04.897748Z",
     "shell.execute_reply": "2020-10-01T00:26:04.898462Z"
    },
    "papermill": {
     "duration": 0.043613,
     "end_time": "2020-10-01T00:26:04.898621",
     "exception": false,
     "start_time": "2020-10-01T00:26:04.855008",
     "status": "completed"
    },
    "tags": []
   },
   "outputs": [
    {
     "data": {
      "text/html": [
       "<div>\n",
       "<style scoped>\n",
       "    .dataframe tbody tr th:only-of-type {\n",
       "        vertical-align: middle;\n",
       "    }\n",
       "\n",
       "    .dataframe tbody tr th {\n",
       "        vertical-align: top;\n",
       "    }\n",
       "\n",
       "    .dataframe thead th {\n",
       "        text-align: right;\n",
       "    }\n",
       "</style>\n",
       "<table border=\"1\" class=\"dataframe\">\n",
       "  <thead>\n",
       "    <tr style=\"text-align: right;\">\n",
       "      <th></th>\n",
       "      <th>name</th>\n",
       "      <th>pop_est</th>\n",
       "      <th>gdp_md_est</th>\n",
       "    </tr>\n",
       "  </thead>\n",
       "  <tbody>\n",
       "    <tr>\n",
       "      <th>0</th>\n",
       "      <td>Russia</td>\n",
       "      <td>142257519</td>\n",
       "      <td>3745000.0</td>\n",
       "    </tr>\n",
       "    <tr>\n",
       "      <th>1</th>\n",
       "      <td>Norway</td>\n",
       "      <td>5320045</td>\n",
       "      <td>364700.0</td>\n",
       "    </tr>\n",
       "    <tr>\n",
       "      <th>2</th>\n",
       "      <td>France</td>\n",
       "      <td>67106161</td>\n",
       "      <td>2699000.0</td>\n",
       "    </tr>\n",
       "    <tr>\n",
       "      <th>3</th>\n",
       "      <td>Sweden</td>\n",
       "      <td>9960487</td>\n",
       "      <td>498100.0</td>\n",
       "    </tr>\n",
       "    <tr>\n",
       "      <th>4</th>\n",
       "      <td>Belarus</td>\n",
       "      <td>9549747</td>\n",
       "      <td>165400.0</td>\n",
       "    </tr>\n",
       "  </tbody>\n",
       "</table>\n",
       "</div>"
      ],
      "text/plain": [
       "      name    pop_est  gdp_md_est\n",
       "0   Russia  142257519   3745000.0\n",
       "1   Norway    5320045    364700.0\n",
       "2   France   67106161   2699000.0\n",
       "3   Sweden    9960487    498100.0\n",
       "4  Belarus    9549747    165400.0"
      ]
     },
     "execution_count": 10,
     "metadata": {},
     "output_type": "execute_result"
    }
   ],
   "source": [
    "europe_stats.head()"
   ]
  },
  {
   "cell_type": "markdown",
   "metadata": {
    "papermill": {
     "duration": 0.028095,
     "end_time": "2020-10-01T00:26:04.955593",
     "exception": false,
     "start_time": "2020-10-01T00:26:04.927498",
     "status": "completed"
    },
    "tags": []
   },
   "source": [
    "We do the attribute join in the code cell below.  The `on` argument is set to the column name that is used to match rows in `europe_boundaries` to rows in `europe_stats`."
   ]
  },
  {
   "cell_type": "code",
   "execution_count": 11,
   "metadata": {
    "execution": {
     "iopub.execute_input": "2020-10-01T00:26:05.036895Z",
     "iopub.status.busy": "2020-10-01T00:26:05.036081Z",
     "iopub.status.idle": "2020-10-01T00:26:05.054689Z",
     "shell.execute_reply": "2020-10-01T00:26:05.054040Z"
    },
    "papermill": {
     "duration": 0.070951,
     "end_time": "2020-10-01T00:26:05.054825",
     "exception": false,
     "start_time": "2020-10-01T00:26:04.983874",
     "status": "completed"
    },
    "tags": []
   },
   "outputs": [
    {
     "data": {
      "text/html": [
       "<div>\n",
       "<style scoped>\n",
       "    .dataframe tbody tr th:only-of-type {\n",
       "        vertical-align: middle;\n",
       "    }\n",
       "\n",
       "    .dataframe tbody tr th {\n",
       "        vertical-align: top;\n",
       "    }\n",
       "\n",
       "    .dataframe thead th {\n",
       "        text-align: right;\n",
       "    }\n",
       "</style>\n",
       "<table border=\"1\" class=\"dataframe\">\n",
       "  <thead>\n",
       "    <tr style=\"text-align: right;\">\n",
       "      <th></th>\n",
       "      <th>name</th>\n",
       "      <th>geometry</th>\n",
       "      <th>pop_est</th>\n",
       "      <th>gdp_md_est</th>\n",
       "    </tr>\n",
       "  </thead>\n",
       "  <tbody>\n",
       "    <tr>\n",
       "      <th>0</th>\n",
       "      <td>Russia</td>\n",
       "      <td>MULTIPOLYGON (((178.725 71.099, 180.000 71.516...</td>\n",
       "      <td>142257519</td>\n",
       "      <td>3745000.0</td>\n",
       "    </tr>\n",
       "    <tr>\n",
       "      <th>1</th>\n",
       "      <td>Norway</td>\n",
       "      <td>MULTIPOLYGON (((15.143 79.674, 15.523 80.016, ...</td>\n",
       "      <td>5320045</td>\n",
       "      <td>364700.0</td>\n",
       "    </tr>\n",
       "    <tr>\n",
       "      <th>2</th>\n",
       "      <td>France</td>\n",
       "      <td>MULTIPOLYGON (((-51.658 4.156, -52.249 3.241, ...</td>\n",
       "      <td>67106161</td>\n",
       "      <td>2699000.0</td>\n",
       "    </tr>\n",
       "    <tr>\n",
       "      <th>3</th>\n",
       "      <td>Sweden</td>\n",
       "      <td>POLYGON ((11.027 58.856, 11.468 59.432, 12.300...</td>\n",
       "      <td>9960487</td>\n",
       "      <td>498100.0</td>\n",
       "    </tr>\n",
       "    <tr>\n",
       "      <th>4</th>\n",
       "      <td>Belarus</td>\n",
       "      <td>POLYGON ((28.177 56.169, 29.230 55.918, 29.372...</td>\n",
       "      <td>9549747</td>\n",
       "      <td>165400.0</td>\n",
       "    </tr>\n",
       "  </tbody>\n",
       "</table>\n",
       "</div>"
      ],
      "text/plain": [
       "      name                                           geometry    pop_est  \\\n",
       "0   Russia  MULTIPOLYGON (((178.725 71.099, 180.000 71.516...  142257519   \n",
       "1   Norway  MULTIPOLYGON (((15.143 79.674, 15.523 80.016, ...    5320045   \n",
       "2   France  MULTIPOLYGON (((-51.658 4.156, -52.249 3.241, ...   67106161   \n",
       "3   Sweden  POLYGON ((11.027 58.856, 11.468 59.432, 12.300...    9960487   \n",
       "4  Belarus  POLYGON ((28.177 56.169, 29.230 55.918, 29.372...    9549747   \n",
       "\n",
       "   gdp_md_est  \n",
       "0   3745000.0  \n",
       "1    364700.0  \n",
       "2   2699000.0  \n",
       "3    498100.0  \n",
       "4    165400.0  "
      ]
     },
     "execution_count": 11,
     "metadata": {},
     "output_type": "execute_result"
    }
   ],
   "source": [
    "# Use an attribute join to merge data about countries in Europe\n",
    "europe = europe_boundaries.merge(europe_stats, on=\"name\")\n",
    "europe.head()"
   ]
  },
  {
   "cell_type": "markdown",
   "metadata": {
    "papermill": {
     "duration": 0.029891,
     "end_time": "2020-10-01T00:26:05.113745",
     "exception": false,
     "start_time": "2020-10-01T00:26:05.083854",
     "status": "completed"
    },
    "tags": []
   },
   "source": [
    "### Spatial join\n",
    "\n",
    "Another type of join is a **spatial join**.  With a spatial join, we combine GeoDataFrames based on the spatial relationship between the objects in the \"geometry\" columns.  For instance, we already have a GeoDataFrame `universities` containing geocoded addresses of European universities.  \n",
    "\n",
    "Then we can use a spatial join to match each university to its corresponding country.  We do this with `gpd.sjoin()`."
   ]
  },
  {
   "cell_type": "code",
   "execution_count": 12,
   "metadata": {
    "execution": {
     "iopub.execute_input": "2020-10-01T00:26:05.240317Z",
     "iopub.status.busy": "2020-10-01T00:26:05.239430Z",
     "iopub.status.idle": "2020-10-01T00:26:05.308103Z",
     "shell.execute_reply": "2020-10-01T00:26:05.307460Z"
    },
    "papermill": {
     "duration": 0.165511,
     "end_time": "2020-10-01T00:26:05.308234",
     "exception": false,
     "start_time": "2020-10-01T00:26:05.142723",
     "status": "completed"
    },
    "tags": []
   },
   "outputs": [
    {
     "name": "stdout",
     "output_type": "stream",
     "text": [
      "We located 91 universities.\n",
      "Only 86 of the universities were located in Europe (in 15 different countries).\n"
     ]
    },
    {
     "name": "stderr",
     "output_type": "stream",
     "text": [
      "/opt/conda/lib/python3.7/site-packages/ipykernel_launcher.py:2: UserWarning: CRS mismatch between the CRS of left geometries and the CRS of right geometries.\n",
      "Use `to_crs()` to reproject one of the input geometries to match the CRS of the other.\n",
      "\n",
      "Left CRS: +init=epsg:4326 +type=crs\n",
      "Right CRS: EPSG:4326\n",
      "\n",
      "  \n"
     ]
    },
    {
     "data": {
      "text/html": [
       "<div>\n",
       "<style scoped>\n",
       "    .dataframe tbody tr th:only-of-type {\n",
       "        vertical-align: middle;\n",
       "    }\n",
       "\n",
       "    .dataframe tbody tr th {\n",
       "        vertical-align: top;\n",
       "    }\n",
       "\n",
       "    .dataframe thead th {\n",
       "        text-align: right;\n",
       "    }\n",
       "</style>\n",
       "<table border=\"1\" class=\"dataframe\">\n",
       "  <thead>\n",
       "    <tr style=\"text-align: right;\">\n",
       "      <th></th>\n",
       "      <th>Name</th>\n",
       "      <th>Latitude</th>\n",
       "      <th>Longitude</th>\n",
       "      <th>geometry</th>\n",
       "      <th>index_right</th>\n",
       "      <th>name</th>\n",
       "      <th>pop_est</th>\n",
       "      <th>gdp_md_est</th>\n",
       "    </tr>\n",
       "  </thead>\n",
       "  <tbody>\n",
       "    <tr>\n",
       "      <th>0</th>\n",
       "      <td>University of Oxford</td>\n",
       "      <td>51.758708</td>\n",
       "      <td>-1.255668</td>\n",
       "      <td>POINT (-1.25567 51.75871)</td>\n",
       "      <td>28</td>\n",
       "      <td>United Kingdom</td>\n",
       "      <td>64769452</td>\n",
       "      <td>2788000.0</td>\n",
       "    </tr>\n",
       "    <tr>\n",
       "      <th>1</th>\n",
       "      <td>University of Cambridge</td>\n",
       "      <td>52.199852</td>\n",
       "      <td>0.119739</td>\n",
       "      <td>POINT (0.11974 52.19985)</td>\n",
       "      <td>28</td>\n",
       "      <td>United Kingdom</td>\n",
       "      <td>64769452</td>\n",
       "      <td>2788000.0</td>\n",
       "    </tr>\n",
       "    <tr>\n",
       "      <th>2</th>\n",
       "      <td>Imperial College London</td>\n",
       "      <td>51.498983</td>\n",
       "      <td>-0.174629</td>\n",
       "      <td>POINT (-0.17463 51.49898)</td>\n",
       "      <td>28</td>\n",
       "      <td>United Kingdom</td>\n",
       "      <td>64769452</td>\n",
       "      <td>2788000.0</td>\n",
       "    </tr>\n",
       "    <tr>\n",
       "      <th>4</th>\n",
       "      <td>UCL</td>\n",
       "      <td>51.523564</td>\n",
       "      <td>-0.132956</td>\n",
       "      <td>POINT (-0.13296 51.52356)</td>\n",
       "      <td>28</td>\n",
       "      <td>United Kingdom</td>\n",
       "      <td>64769452</td>\n",
       "      <td>2788000.0</td>\n",
       "    </tr>\n",
       "    <tr>\n",
       "      <th>5</th>\n",
       "      <td>London School of Economics and Political Science</td>\n",
       "      <td>51.514591</td>\n",
       "      <td>-0.116431</td>\n",
       "      <td>POINT (-0.11643 51.51459)</td>\n",
       "      <td>28</td>\n",
       "      <td>United Kingdom</td>\n",
       "      <td>64769452</td>\n",
       "      <td>2788000.0</td>\n",
       "    </tr>\n",
       "  </tbody>\n",
       "</table>\n",
       "</div>"
      ],
      "text/plain": [
       "                                               Name   Latitude  Longitude  \\\n",
       "0                              University of Oxford  51.758708  -1.255668   \n",
       "1                           University of Cambridge  52.199852   0.119739   \n",
       "2                           Imperial College London  51.498983  -0.174629   \n",
       "4                                               UCL  51.523564  -0.132956   \n",
       "5  London School of Economics and Political Science  51.514591  -0.116431   \n",
       "\n",
       "                    geometry  index_right            name   pop_est  \\\n",
       "0  POINT (-1.25567 51.75871)           28  United Kingdom  64769452   \n",
       "1   POINT (0.11974 52.19985)           28  United Kingdom  64769452   \n",
       "2  POINT (-0.17463 51.49898)           28  United Kingdom  64769452   \n",
       "4  POINT (-0.13296 51.52356)           28  United Kingdom  64769452   \n",
       "5  POINT (-0.11643 51.51459)           28  United Kingdom  64769452   \n",
       "\n",
       "   gdp_md_est  \n",
       "0   2788000.0  \n",
       "1   2788000.0  \n",
       "2   2788000.0  \n",
       "4   2788000.0  \n",
       "5   2788000.0  "
      ]
     },
     "execution_count": 12,
     "metadata": {},
     "output_type": "execute_result"
    }
   ],
   "source": [
    "# Use spatial join to match universities to countries in Europe\n",
    "european_universities = gpd.sjoin(universities, europe)\n",
    "\n",
    "# Investigate the result\n",
    "print(\"We located {} universities.\".format(len(universities)))\n",
    "print(\"Only {} of the universities were located in Europe (in {} different countries).\".format(\n",
    "    len(european_universities), len(european_universities.name.unique())))\n",
    "\n",
    "european_universities.head()"
   ]
  },
  {
   "cell_type": "markdown",
   "metadata": {
    "papermill": {
     "duration": 0.029879,
     "end_time": "2020-10-01T00:26:05.368330",
     "exception": false,
     "start_time": "2020-10-01T00:26:05.338451",
     "status": "completed"
    },
    "tags": []
   },
   "source": [
    "The spatial join above looks at the \"geometry\" columns in both GeoDataFrames.  If a Point object from the `universities` GeoDataFrame intersects a Polygon object from the `europe` DataFrame, the corresponding rows are combined and added as a single row of the `european_universities` DataFrame.  Otherwise, countries without a matching university (and universities without a matching country) are omitted from the results.\n",
    "\n",
    "The `gpd.sjoin()` method is customizable for different types of joins, through the `how` and `op` arguments.  For instance, you can do the equivalent of a SQL left (or right) join by setting `how='left'` (or `how='right'`).  We won't go into the details in this micro-course, but you can learn more in [the documentation](http://geopandas.org/reference/geopandas.sjoin.html).\n",
    "\n",
    "# Your turn\n",
    "\n",
    "**[Use geocoding and table joins](https://www.kaggle.com/kernels/fork/5832170)** to identify suitable locations for the next Starbucks Reserve Roastery."
   ]
  },
  {
   "cell_type": "markdown",
   "metadata": {
    "papermill": {
     "duration": 0.029942,
     "end_time": "2020-10-01T00:26:05.428911",
     "exception": false,
     "start_time": "2020-10-01T00:26:05.398969",
     "status": "completed"
    },
    "tags": []
   },
   "source": [
    "---\n",
    "\n",
    "\n",
    "\n",
    "\n",
    "*Have questions or comments? Visit the [Learn Discussion forum](https://www.kaggle.com/learn-forum/161464) to chat with other Learners.*"
   ]
  }
 ],
 "metadata": {
  "kernelspec": {
   "display_name": "Python 3",
   "language": "python",
   "name": "python3"
  },
  "language_info": {
   "codemirror_mode": {
    "name": "ipython",
    "version": 3
   },
   "file_extension": ".py",
   "mimetype": "text/x-python",
   "name": "python",
   "nbconvert_exporter": "python",
   "pygments_lexer": "ipython3",
   "version": "3.7.6"
  },
  "papermill": {
   "duration": 71.28833,
   "end_time": "2020-10-01T00:26:05.569867",
   "environment_variables": {},
   "exception": null,
   "input_path": "__notebook__.ipynb",
   "output_path": "__notebook__.ipynb",
   "parameters": {},
   "start_time": "2020-10-01T00:24:54.281537",
   "version": "2.1.0"
  }
 },
 "nbformat": 4,
 "nbformat_minor": 2
}
